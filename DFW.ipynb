{
  "nbformat": 4,
  "nbformat_minor": 0,
  "metadata": {
    "colab": {
      "name": "Untitled1_(1).ipynb",
      "provenance": []
    },
    "kernelspec": {
      "name": "python3",
      "display_name": "Python 3"
    },
    "language_info": {
      "name": "python"
    },
    "accelerator": "GPU"
  },
  "cells": [
    {
      "cell_type": "code",
      "execution_count": 1,
      "metadata": {
        "colab": {
          "base_uri": "https://localhost:8080/"
        },
        "id": "0A17RyO6oElc",
        "outputId": "be63387b-802f-4691-fe47-0cc98f76df54"
      },
      "outputs": [
        {
          "output_type": "stream",
          "name": "stdout",
          "text": [
            "Mounted at /content/drive\n",
            "/content/drive/Othercomputers/Il mio laptop/Machine-Learning-Optimization\n"
          ]
        }
      ],
      "source": [
        "from google.colab import drive\n",
        "drive.mount('/content/drive')\n",
        "%cd /content/drive/Othercomputers/Il mio laptop/Machine-Learning-Optimization"
      ]
    },
    {
      "cell_type": "code",
      "source": [
        "#@title Import and utilities \n",
        "\n",
        "from Frank_Wolfe.utils.utils import *\n",
        "from Frank_Wolfe.DFW import *\n",
        "from Frank_Wolfe.constraints.constraints import *\n",
        "from Frank_Wolfe.architectures import *\n",
        "from Frank_Wolfe.MultiClassHingeLoss import *\n",
        "!pip install barbar\n",
        "from barbar import Bar\n",
        "import os\n",
        "import pickle\n",
        "\n",
        "device = \"cpu\""
      ],
      "metadata": {
        "colab": {
          "base_uri": "https://localhost:8080/"
        },
        "id": "mC7BWlWnoFBa",
        "outputId": "e1f724b3-014b-430a-933b-c88533ee9386",
        "cellView": "form"
      },
      "execution_count": 2,
      "outputs": [
        {
          "output_type": "stream",
          "name": "stdout",
          "text": [
            "Looking in indexes: https://pypi.org/simple, https://us-python.pkg.dev/colab-wheels/public/simple/\n",
            "Collecting barbar\n",
            "  Downloading barbar-0.2.1-py3-none-any.whl (3.9 kB)\n",
            "Installing collected packages: barbar\n",
            "Successfully installed barbar-0.2.1\n"
          ]
        }
      ]
    },
    {
      "cell_type": "code",
      "source": [
        "save_stats = True\n",
        "save_figs = True\n",
        "load = False"
      ],
      "metadata": {
        "id": "gMj3YVkWoM9x"
      },
      "execution_count": 10,
      "outputs": []
    },
    {
      "cell_type": "code",
      "source": [
        "#@title Choose dataset name and architecture of the network \n",
        "\n",
        "dataset_name = 'CIFAR10' #@param ['CIFAR10', 'CIFAR100']\n",
        "model_type = 'GoogLeNet' #@param ['DenseNet', 'WideResNet', 'GoogLeNet', 'ResNeXt']\n",
        "if model_type == 'GoogLeNet':\n",
        "  model = GoogleNet(num_class=10 if dataset_name == 'CIFAR10' else 100)\n",
        "elif model_type == 'DenseNet':\n",
        "  model = torchvision.models.densenet121(pretrained=False)\n",
        "elif model_type == 'ResNeXt':\n",
        "  model = torchvision.models.resnet101(pretrained=False)\n",
        "elif model_type == 'WideResNet':\n",
        "  model =  WideResNet(num_classes=10 if dataset_name == 'CIFAR10' else 100)\n",
        "else:\n",
        "  raise ValueError(\"Please, select an available architecture\")\n",
        "\n",
        "datasetDict = setDatasetAttributes(dataset_name)\n",
        "trainTransformDict, testTransformDict = setTrainAndTest(dataset_name)\n",
        "\n",
        "root = f\"{dataset_name}-dataset\"\n",
        "\n",
        "trainData = datasetDict['datasetDict'](root=root, train=True, download=True,\n",
        "                                            transform=trainTransformDict[dataset_name])\n",
        "testData = datasetDict['datasetDict'](root=root, train=False,\n",
        "                                        transform=testTransformDict[dataset_name])\n",
        "\n",
        "model = model.to(device=\"cuda:0\")\n",
        "\n",
        "# define the loss object\n",
        "loss_criterion = MultiClassHingeLoss().to(device=\"cuda:0\")"
      ],
      "metadata": {
        "colab": {
          "base_uri": "https://localhost:8080/"
        },
        "id": "Jf6SJcqjoUSA",
        "outputId": "a47c6bcc-d51a-4d75-c72d-fb76b695fa77",
        "cellView": "form"
      },
      "execution_count": 4,
      "outputs": [
        {
          "output_type": "stream",
          "name": "stdout",
          "text": [
            "Files already downloaded and verified\n"
          ]
        }
      ]
    },
    {
      "cell_type": "code",
      "source": [
        "#@title Choose optimizer and parameters \n",
        "\n",
        "optimizer_name = \"DFW\" #@param  ['DFW', 'Adam', 'AdaGrad', 'SGD with momentum', 'SGD']\n",
        "momentum = 0.9 #@param {type:\"number\"}\n",
        "lr = 0.001 #@param {type:\"number\"}\n",
        "eta = 0.1 #@param {type:\"number\"}\n",
        "beta_1 = 0.9 #@param {type:\"number\"}\n",
        "beta_2 = 0.99 #@param {type:\"number\"}\n",
        "weight_decay = 0.01 #@param {type:\"number\"}\n",
        "\n",
        "if optimizer_name == \"DFW\":\n",
        "  optimizer = DFW(params=model.parameters(), eta=eta, momentum=momentum, \n",
        "                  weight_decay=weight_decay)\n",
        "  assert eta > 0\n",
        "elif optimizer_name == \"SGD\" or optimizer_name == \"SGD with momentum\":\n",
        "  optimizer = torch.optim.SGD(params=model.parameters(), lr=lr,\n",
        "                              momentum=momentum, weight_decay=weight_decay)\n",
        "  assert lr > 0\n",
        "  assert 0 <= momentum <= 1\n",
        "elif optimizer_name == \"Adam\":\n",
        "  optimizer = torch.optim.Adam(params=model.parameters(), lr=lr, \n",
        "                               betas=(beta_1, beta_2), weight_decay=weight_decay)\n",
        "elif optimizer_name == \"AdaGrad\":\n",
        "  optimizer = torch.optim.Adam(params=model.parameters(), lr=lr, weight_decay=weight_decay)"
      ],
      "metadata": {
        "id": "C6IgJdqGoWkV",
        "cellView": "form"
      },
      "execution_count": 5,
      "outputs": []
    },
    {
      "cell_type": "code",
      "source": [
        "#@title Train the network  \n",
        "\n",
        "train_losses = []\n",
        "train_accuracies = []\n",
        "test_losses = []\n",
        "test_accuracies = []\n",
        "epochs_times = []\n",
        "\n",
        "nepochs = 10 #@param {type:\"integer\"}\n",
        "batch_size = 64  #@param {type:\"integer\"}\n",
        "verbose = 0 #@param [0, 1]\n",
        "\n",
        "# Loaders\n",
        "trainLoader = torch.utils.data.DataLoader(trainData, batch_size=batch_size, shuffle=True,\n",
        "                                      pin_memory=torch.cuda.is_available(), num_workers=2)\n",
        "testLoader = torch.utils.data.DataLoader(testData, batch_size=batch_size, shuffle=False,\n",
        "                                      pin_memory=torch.cuda.is_available(), num_workers=2)\n",
        "\n",
        "# initialize some necessary metrics objects\n",
        "train_loss, train_accuracy = AverageMeter(), AverageMeter()\n",
        "test_loss, test_accuracy = AverageMeter(), AverageMeter()\n",
        "\n",
        "# function to reset metrics\n",
        "def reset_metrics():\n",
        "    train_loss.reset()\n",
        "    train_accuracy.reset()\n",
        "    test_loss.reset()\n",
        "    test_accuracy.reset()\n",
        "\n",
        "@torch.no_grad()\n",
        "def evaluate_model(data=\"train\"):\n",
        "    if data == \"train\":\n",
        "        loader = trainLoader\n",
        "        mean_loss, mean_accuracy = train_loss, train_accuracy\n",
        "    elif data == \"test\":\n",
        "        loader = testLoader\n",
        "        mean_loss, mean_accuracy = test_loss, test_accuracy\n",
        "    \n",
        "    sys.stdout.write(f\"Evaluation of {data} data:\\n\")\n",
        "    for x_input, y_target in Bar(loader):\n",
        "        x_input, y_target = x_input.to(device=\"cuda:0\"), y_target.to(device=\"cuda:0\")\n",
        "        output = model.eval()(x_input)\n",
        "        loss = loss_criterion(output, y_target)\n",
        "        mean_loss(loss.item(), len(y_target))\n",
        "        mean_accuracy(categorical_accuracy(y_true=y_target, output=output), len(y_target))\n",
        "\n",
        "for epoch in range(nepochs + 1):\n",
        "    start = time.time()\n",
        "    reset_metrics()\n",
        "    sys.stdout.write(f\"\\n\\nEpoch {epoch}/{nepochs}\\n\")\n",
        "    if epoch == 0:\n",
        "        # Just evaluate the model once to get the metrics\n",
        "        evaluate_model(data='train')\n",
        "    else:\n",
        "        # Train\n",
        "        sys.stdout.write(f\"Training:\\n\")\n",
        "        for x_input, y_target in Bar(trainLoader):\n",
        "            x_input, y_target = x_input.to(device=\"cuda:0\"), y_target.to(device=\"cuda:0\")\n",
        "            optimizer.zero_grad()  # Zero the gradient buffers\n",
        "            output = model.train()(x_input)\n",
        "            loss = loss_criterion(output, y_target)\n",
        "            loss.backward()  # Backpropagation\n",
        "            if optimizer_name == \"DFW\":\n",
        "              optimizer.step(lambda: float(loss), model, x_input, y_target)\n",
        "            else:\n",
        "              optimizer.step() \n",
        "            train_loss(loss.item(), len(y_target))\n",
        "            train_accuracy(categorical_accuracy(y_true=y_target, output=output), len(y_target))\n",
        "\n",
        "    evaluate_model(data='test')\n",
        "    sys.stdout.write(f\"\\n Finished epoch {epoch}/{nepochs}: Train Loss {train_loss.result()} | Test Loss {test_loss.result()} | Train Acc {train_accuracy.result()} | Test Acc {test_accuracy.result()}\\n\")\n",
        "\n",
        "    train_losses.append(train_loss.result())\n",
        "    train_accuracies.append(train_accuracy.result())\n",
        "    test_losses.append(test_loss.result())\n",
        "    test_accuracies.append(test_accuracy.result())\n",
        "\n",
        "\n",
        "    elapsed_time = time.time()-start\n",
        "    sys.stdout.write(f\"Time elapsed for the current epoch {elapsed_time}\")\n",
        "    epochs_times.append(elapsed_time)"
      ],
      "metadata": {
        "colab": {
          "base_uri": "https://localhost:8080/"
        },
        "id": "Cq-yV7BYplnM",
        "outputId": "6f914260-14c6-437b-c1d0-acd595e73014"
      },
      "execution_count": 6,
      "outputs": [
        {
          "output_type": "stream",
          "name": "stdout",
          "text": [
            "\n",
            "\n",
            "Epoch 0/10\n",
            "Evaluation of train data:\n",
            "50000/50000: [===============================>] - ETA 0.6s\n",
            "Evaluation of test data:\n",
            "10000/10000: [===============================>] - ETA 0.1s\n",
            "\n",
            " Finished epoch 0/10: Train Loss 1.0318777755355835 | Test Loss 1.0318778211593629 | Train Acc 0.1 | Test Acc 0.1\n",
            "Time elapsed for the current epoch 60.96457648277283\n",
            "\n",
            "Epoch 1/10\n",
            "Training:\n",
            "50000/50000: [===============================>] - ETA 0.5s\n",
            "Evaluation of test data:\n",
            "10000/10000: [===============================>] - ETA 0.1s\n",
            "\n",
            " Finished epoch 1/10: Train Loss 1.183716427268982 | Test Loss 1.4749269319534302 | Train Acc 0.31122 | Test Acc 0.4166\n",
            "Time elapsed for the current epoch 240.85318732261658\n",
            "\n",
            "Epoch 2/10\n",
            "Training:\n",
            "50000/50000: [===============================>] - ETA 0.4s\n",
            "Evaluation of test data:\n",
            "10000/10000: [===============================>] - ETA 0.1s\n",
            "\n",
            " Finished epoch 2/10: Train Loss 0.8551070518112183 | Test Loss 0.8091922302246094 | Train Acc 0.5443 | Test Acc 0.5908\n",
            "Time elapsed for the current epoch 241.20625829696655\n",
            "\n",
            "Epoch 3/10\n",
            "Training:\n",
            "50000/50000: [===============================>] - ETA 0.4s\n",
            "Evaluation of test data:\n",
            "10000/10000: [===============================>] - ETA 0.1s\n",
            "\n",
            " Finished epoch 3/10: Train Loss 0.621567981185913 | Test Loss 0.5698805132865906 | Train Acc 0.69824 | Test Acc 0.7381\n",
            "Time elapsed for the current epoch 238.17877006530762\n",
            "\n",
            "Epoch 4/10\n",
            "Training:\n",
            "50000/50000: [===============================>] - ETA 0.4s\n",
            "Evaluation of test data:\n",
            "10000/10000: [===============================>] - ETA 0.1s\n",
            "\n",
            " Finished epoch 4/10: Train Loss 0.4562594448661804 | Test Loss 0.44950591735839845 | Train Acc 0.7917 | Test Acc 0.7938\n",
            "Time elapsed for the current epoch 238.04972314834595\n",
            "\n",
            "Epoch 5/10\n",
            "Training:\n",
            "50000/50000: [===============================>] - ETA 0.4s\n",
            "Evaluation of test data:\n",
            "10000/10000: [===============================>] - ETA 0.1s\n",
            "\n",
            " Finished epoch 5/10: Train Loss 0.37915001037597656 | Test Loss 0.4320404792785644 | Train Acc 0.83066 | Test Acc 0.8156\n",
            "Time elapsed for the current epoch 237.74381947517395\n",
            "\n",
            "Epoch 6/10\n",
            "Training:\n",
            "50000/50000: [===============================>] - ETA 0.4s\n",
            "Evaluation of test data:\n",
            "10000/10000: [===============================>] - ETA 0.1s\n",
            "\n",
            " Finished epoch 6/10: Train Loss 0.3279238820266724 | Test Loss 0.36220944242477415 | Train Acc 0.8563 | Test Acc 0.8398\n",
            "Time elapsed for the current epoch 237.59572982788086\n",
            "\n",
            "Epoch 7/10\n",
            "Training:\n",
            "50000/50000: [===============================>] - ETA 0.4s\n",
            "Evaluation of test data:\n",
            "10000/10000: [===============================>] - ETA 0.1s\n",
            "\n",
            " Finished epoch 7/10: Train Loss 0.2927869176197052 | Test Loss 0.3641465504646301 | Train Acc 0.87202 | Test Acc 0.8424\n",
            "Time elapsed for the current epoch 238.46229028701782\n",
            "\n",
            "Epoch 8/10\n",
            "Training:\n",
            "50000/50000: [===============================>] - ETA 0.4s\n",
            "Evaluation of test data:\n",
            "10000/10000: [===============================>] - ETA 0.1s\n",
            "\n",
            " Finished epoch 8/10: Train Loss 0.2661537017440796 | Test Loss 0.3551136448860168 | Train Acc 0.88428 | Test Acc 0.8528\n",
            "Time elapsed for the current epoch 237.93136358261108\n",
            "\n",
            "Epoch 9/10\n",
            "Training:\n",
            "50000/50000: [===============================>] - ETA 0.4s\n",
            "Evaluation of test data:\n",
            "10000/10000: [===============================>] - ETA 0.1s\n",
            "\n",
            " Finished epoch 9/10: Train Loss 0.23798730578422547 | Test Loss 0.33324440326690674 | Train Acc 0.8969 | Test Acc 0.8604\n",
            "Time elapsed for the current epoch 237.36038970947266\n",
            "\n",
            "Epoch 10/10\n",
            "Training:\n",
            "50000/50000: [===============================>] - ETA 0.4s\n",
            "Evaluation of test data:\n",
            "10000/10000: [===============================>] - ETA 0.1s\n",
            "\n",
            " Finished epoch 10/10: Train Loss 0.21528921226024628 | Test Loss 0.32412698917388916 | Train Acc 0.9094 | Test Acc 0.8622\n",
            "Time elapsed for the current epoch 238.2840874195099"
          ]
        }
      ]
    },
    {
      "cell_type": "code",
      "source": [
        "#@title Save training results and plot\n",
        "\n",
        "if load:\n",
        "    output_folder = os.path.join(os.getcwd(), 'results')\n",
        "    os.makedirs(output_folder, exist_ok=True)\n",
        "    fname = output_folder + '/stats_dict_' + model_type + '.pkl'\n",
        "    with open(fname, 'rb') as handle:\n",
        "        stats_dict = pickle.load(handle)\n",
        "\n",
        "results = {'epochs': nepochs, 'train_losses': train_losses, \n",
        "           'train_acc': train_accuracies, 'test_losses': test_losses, \n",
        "           'test_acc': test_accuracies, 'elapsed_time': elapsed_time}\n",
        "stats_dict = {}\n",
        "stats_dict.update({optimizer_name: results})\n",
        "\n",
        "# save everything onto file\n",
        "if save_stats: \n",
        "    output_folder = os.path.join(os.getcwd(), 'results')  # set the folder\n",
        "    os.makedirs(output_folder, exist_ok=True)\n",
        "    fname = output_folder + '/stats_dict_' + model_type + '.pkl'\n",
        "    with open(fname, 'wb') as handle:\n",
        "        pickle.dump(stats_dict, handle, protocol=pickle.HIGHEST_PROTOCOL)"
      ],
      "metadata": {
        "cellView": "form",
        "id": "9w2DgFHAExBE"
      },
      "execution_count": 13,
      "outputs": []
    },
    {
      "cell_type": "markdown",
      "source": [
        "# Parameters used in the report"
      ],
      "metadata": {
        "id": "ldLaA2by6VYV"
      }
    },
    {
      "cell_type": "markdown",
      "source": [
        "In order to reproduce our results, the following set of parameters should be used.\\\n",
        "If not specified, the remaining parameters (e.g. $\\epsilon$ for Adam and Adagrad) are set to their default values.\n",
        "\n",
        "Deep Frank Wolfe:\\\n",
        "$η = 0.1$, $μ = 0.9$, $w_d = 0$\n",
        "\n",
        "Stochastic Gradient Descent:\\\n",
        "$\\gamma = 0.001$, $\\mu = 0.9$, $w_d = 0$\n",
        "\n",
        "Adam:\\\n",
        "$\\gamma = 0.001$, $\\mu = 0.9$, $\\beta_1 = 0.9$, $\\beta_2 = 0.99$\n",
        "\n",
        "AdaGrad:\\\n",
        "$\\gamma = 0.001$, $w_d = 0$\n"
      ],
      "metadata": {
        "id": "U7F6Ai3G6bFd"
      }
    }
  ]
}