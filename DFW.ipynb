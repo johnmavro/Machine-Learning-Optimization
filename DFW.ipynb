{
  "nbformat": 4,
  "nbformat_minor": 0,
  "metadata": {
    "colab": {
      "name": "DFW (2).ipynb",
      "provenance": []
    },
    "kernelspec": {
      "name": "python3",
      "display_name": "Python 3"
    },
    "language_info": {
      "name": "python"
    },
    "accelerator": "GPU"
  },
  "cells": [
    {
      "cell_type": "code",
      "execution_count": 22,
      "metadata": {
        "colab": {
          "base_uri": "https://localhost:8080/"
        },
        "id": "0A17RyO6oElc",
        "outputId": "cedf6011-337f-4691-e0fb-49884cc7b1fb"
      },
      "outputs": [
        {
          "output_type": "stream",
          "name": "stdout",
          "text": [
            "Drive already mounted at /content/drive; to attempt to forcibly remount, call drive.mount(\"/content/drive\", force_remount=True).\n",
            "/content/drive/Othercomputers/Il mio laptop/Machine-Learning-Optimization_new - Copia\n"
          ]
        }
      ],
      "source": [
        "from google.colab import drive\n",
        "drive.mount('/content/drive')\n",
        "%cd /content/drive/Othercomputers/Il mio laptop/Machine-Learning-Optimization_new - Copia"
      ]
    },
    {
      "cell_type": "code",
      "source": [
        "#@title Import and utilities \n",
        "\n",
        "from Frank_Wolfe.utils.utils import *\n",
        "from Frank_Wolfe.DFW_working import *\n",
        "from Frank_Wolfe.architectures import *\n",
        "from Frank_Wolfe.MultiClassHingeLoss import *\n",
        "!pip install barbar\n",
        "from barbar import Bar\n",
        "import os\n",
        "import pickle\n",
        "\n",
        "device = \"cpu\""
      ],
      "metadata": {
        "colab": {
          "base_uri": "https://localhost:8080/"
        },
        "id": "mC7BWlWnoFBa",
        "outputId": "ef2d8e9c-c195-4b66-87fc-264a1ee3da3c"
      },
      "execution_count": 17,
      "outputs": [
        {
          "output_type": "stream",
          "name": "stdout",
          "text": [
            "Looking in indexes: https://pypi.org/simple, https://us-python.pkg.dev/colab-wheels/public/simple/\n",
            "Requirement already satisfied: barbar in /usr/local/lib/python3.7/dist-packages (0.2.1)\n"
          ]
        }
      ]
    },
    {
      "cell_type": "code",
      "source": [
        "save_stats = True\n",
        "save_figs = True\n",
        "load = False"
      ],
      "metadata": {
        "id": "gMj3YVkWoM9x"
      },
      "execution_count": 23,
      "outputs": []
    },
    {
      "cell_type": "code",
      "source": [
        "#@title Choose dataset name and architecture of the network \n",
        "\n",
        "dataset_name = 'CIFAR10' #@param ['CIFAR10', 'CIFAR100']\n",
        "model_type = 'DenseNet' #@param ['DenseNet', 'WideResNet', 'GoogLeNet', 'ResNeXt']\n",
        "if model_type == 'GoogLeNet':\n",
        "  model = GoogleNet(num_class=10 if dataset_name == 'CIFAR10' else 100)\n",
        "elif model_type == 'DenseNet':\n",
        "  model = torchvision.models.densenet121(pretrained=False)\n",
        "elif model_type == 'ResNeXt':\n",
        "  model = torchvision.models.resnet101(pretrained=False)\n",
        "elif model_type == 'WideResNet':\n",
        "  model =  WideResNet(num_classes=10 if dataset_name == 'CIFAR10' else 100)\n",
        "else:\n",
        "  raise ValueError(\"Please, select an available architecture\")\n",
        "\n",
        "datasetDict = setDatasetAttributes(dataset_name)\n",
        "trainTransformDict, testTransformDict = setTrainAndTest(dataset_name)\n",
        "\n",
        "root = f\"{dataset_name}-dataset\"\n",
        "\n",
        "trainData = datasetDict['datasetDict'](root=root, train=True, download=True,\n",
        "                                            transform=trainTransformDict[dataset_name])\n",
        "testData = datasetDict['datasetDict'](root=root, train=False,\n",
        "                                        transform=testTransformDict[dataset_name])\n",
        "\n",
        "model = model.to(device=\"cuda:0\")\n",
        "\n",
        "# define the loss object\n",
        "loss_criterion = MultiClassHingeLoss().to(device=\"cuda:0\")"
      ],
      "metadata": {
        "colab": {
          "base_uri": "https://localhost:8080/"
        },
        "id": "Jf6SJcqjoUSA",
        "outputId": "4fa47c0f-0dfd-48db-8bb5-8349478e462c"
      },
      "execution_count": 30,
      "outputs": [
        {
          "output_type": "stream",
          "name": "stdout",
          "text": [
            "Files already downloaded and verified\n"
          ]
        }
      ]
    },
    {
      "cell_type": "code",
      "source": [
        "#@title Choose optimizer and parameters \n",
        "\n",
        "optimizer_name = \"DFW\" #@param  ['DFW', 'Adam', 'AdaGrad', 'SGD with momentum', 'SGD']\n",
        "momentum = 0.9 #@param {type:\"number\"}\n",
        "lr = 0.001 #@param {type:\"number\"}\n",
        "eta =  0.1#@param {type:\"number\"}\n",
        "beta_1 = 0.9 #@param {type:\"number\"}\n",
        "beta_2 = 0.999 #@param {type:\"number\"}\n",
        "weight_decay = 0.00 #@param {type:\"number\"}\n",
        "multi_prox_step = True #@param {type: \"boolean\"}\n",
        "asymptotic_prox_steps_num = 4\n",
        "\n",
        "if optimizer_name == \"DFW\":\n",
        "  optimizer = DFW(params=model.parameters(), eta=eta, momentum=momentum, \n",
        "                  prox_steps=1)\n",
        "  assert eta > 0\n",
        "elif optimizer_name == \"SGD\" or optimizer_name == \"SGD with momentum\":\n",
        "  optimizer = torch.optim.SGD(params=model.parameters(), lr=lr,\n",
        "                              momentum=momentum, weight_decay=weight_decay)\n",
        "  assert lr > 0\n",
        "  assert 0 <= momentum <= 1\n",
        "elif optimizer_name == \"Adam\":\n",
        "  optimizer = torch.optim.Adam(params=model.parameters(), lr=lr, \n",
        "                               betas=(beta_1, beta_2), weight_decay=weight_decay)\n",
        "elif optimizer_name == \"AdaGrad\":\n",
        "  optimizer = torch.optim.Adam(params=model.parameters(), lr=lr, weight_decay=weight_decay)"
      ],
      "metadata": {
        "id": "C6IgJdqGoWkV"
      },
      "execution_count": 31,
      "outputs": []
    },
    {
      "cell_type": "code",
      "source": [
        "#@title Train the network  \n",
        "\n",
        "train_losses = []\n",
        "train_accuracies = []\n",
        "test_losses = []\n",
        "test_accuracies = []\n",
        "epochs_times = []\n",
        "\n",
        "nepochs = 10 #@param {type:\"integer\"}\n",
        "batch_size = 128  #@param {type:\"integer\"}\n",
        "verbose = 0 #@param [0, 1]\n",
        "\n",
        "# Loaders\n",
        "trainLoader = torch.utils.data.DataLoader(trainData, batch_size=batch_size, shuffle=True,\n",
        "                                      pin_memory=torch.cuda.is_available(), num_workers=2)\n",
        "testLoader = torch.utils.data.DataLoader(testData, batch_size=batch_size, shuffle=False,\n",
        "                                      pin_memory=torch.cuda.is_available(), num_workers=2)\n",
        "\n",
        "# initialize some necessary metrics objects\n",
        "train_loss, train_accuracy = AverageMeter(), AverageMeter()\n",
        "test_loss, test_accuracy = AverageMeter(), AverageMeter()\n",
        "\n",
        "# function to reset metrics\n",
        "def reset_metrics():\n",
        "    train_loss.reset()\n",
        "    train_accuracy.reset()\n",
        "    test_loss.reset()\n",
        "    test_accuracy.reset()\n",
        "\n",
        "@torch.no_grad()\n",
        "def evaluate_model(data=\"train\"):\n",
        "    if data == \"train\":\n",
        "        loader = trainLoader\n",
        "        mean_loss, mean_accuracy = train_loss, train_accuracy\n",
        "    elif data == \"test\":\n",
        "        loader = testLoader\n",
        "        mean_loss, mean_accuracy = test_loss, test_accuracy\n",
        "    \n",
        "    sys.stdout.write(f\"Evaluation of {data} data:\\n\")\n",
        "    for x_input, y_target in Bar(loader):\n",
        "        x_input, y_target = x_input.to(device=\"cuda:0\"), y_target.to(device=\"cuda:0\")\n",
        "        output = model.eval()(x_input)\n",
        "        loss = loss_criterion(output, y_target)\n",
        "        mean_loss(loss.item(), len(y_target))\n",
        "        mean_accuracy(Utilities.categorical_accuracy(y_true=y_target, output=output), len(y_target))\n",
        "\n",
        "for epoch in range(nepochs + 1):\n",
        "    start = time.time()\n",
        "    reset_metrics()\n",
        "    sys.stdout.write(f\"\\n\\nEpoch {epoch}/{nepochs}\\n\")\n",
        "    if epoch == 0:\n",
        "        # Just evaluate the model once to get the metrics\n",
        "        evaluate_model(data='train')\n",
        "    else:\n",
        "        # Train\n",
        "        if epoch > int(0.5 * nepochs) and optimizer_name == \"DFW\" and multi_prox_step:\n",
        "          print(\"End of training, solving multistep proximal...\")\n",
        "          optimizer.prox_steps = asymptotic_prox_steps_num\n",
        "        sys.stdout.write(f\"Training:\\n\")\n",
        "        for x_input, y_target in Bar(trainLoader):\n",
        "            x_input, y_target = x_input.to(device=\"cuda:0\"), y_target.to(device=\"cuda:0\")\n",
        "            optimizer.zero_grad()  # Zero the gradient buffers\n",
        "            output = model.train()(x_input)\n",
        "            loss = loss_criterion(output, y_target)\n",
        "            loss.backward()  # Backpropagation\n",
        "            if optimizer_name == \"DFW\":\n",
        "              optimizer.step(lambda: float(loss), model, x_input, y_target)\n",
        "            else:\n",
        "              optimizer.step() \n",
        "            train_loss(loss.item(), len(y_target))\n",
        "            train_accuracy(Utilities.categorical_accuracy(y_true=y_target, output=output), len(y_target))\n",
        "\n",
        "    evaluate_model(data='test')\n",
        "    sys.stdout.write(f\"\\n Finished epoch {epoch}/{nepochs}: Train Loss {train_loss.result()} | Test Loss {test_loss.result()} | Train Acc {train_accuracy.result()} | Test Acc {test_accuracy.result()}\\n\")\n",
        "\n",
        "    train_losses.append(train_loss.result())\n",
        "    train_accuracies.append(train_accuracy.result())\n",
        "    test_losses.append(test_loss.result())\n",
        "    test_accuracies.append(test_accuracy.result())\n",
        "\n",
        "\n",
        "    elapsed_time = time.time()-start\n",
        "    sys.stdout.write(f\"Time elapsed for the current epoch {elapsed_time}\")\n",
        "    epochs_times.append(elapsed_time)"
      ],
      "metadata": {
        "colab": {
          "base_uri": "https://localhost:8080/"
        },
        "id": "Cq-yV7BYplnM",
        "outputId": "412307ae-85a6-4e43-d67c-fab039653e7c"
      },
      "execution_count": 32,
      "outputs": [
        {
          "output_type": "stream",
          "name": "stdout",
          "text": [
            "\n",
            "\n",
            "Epoch 0/10\n",
            "Evaluation of train data:\n",
            "50000/50000: [===============================>] - ETA 0.2s\n",
            "Evaluation of test data:\n",
            "10000/10000: [===============================>] - ETA 0.2s\n",
            "\n",
            " Finished epoch 0/10: Train Loss 1.9763432122802735 | Test Loss 1.8762957405090332 | Train Acc 0.00098 | Test Acc 0.0016\n",
            "Time elapsed for the current epoch 26.401674509048462\n",
            "\n",
            "Epoch 1/10\n",
            "Training:\n",
            "50000/50000: [===============================>] - ETA 0.4s\n",
            "Evaluation of test data:\n",
            "10000/10000: [===============================>] - ETA 0.1s\n",
            "\n",
            " Finished epoch 1/10: Train Loss 1.6424324555587768 | Test Loss 48.48120147399902 | Train Acc 0.15784 | Test Acc 0.1458\n",
            "Time elapsed for the current epoch 75.80692028999329\n",
            "\n",
            "Epoch 2/10\n",
            "Training:\n",
            "50000/50000: [===============================>] - ETA 0.4s\n",
            "Evaluation of test data:\n",
            "10000/10000: [===============================>] - ETA 0.2s\n",
            "\n",
            " Finished epoch 2/10: Train Loss 1.0825912795639039 | Test Loss 1.1591655019760132 | Train Acc 0.17964 | Test Acc 0.2019\n",
            "Time elapsed for the current epoch 74.17615461349487\n",
            "\n",
            "Epoch 3/10\n",
            "Training:\n",
            "50000/50000: [===============================>] - ETA 0.4s\n",
            "Evaluation of test data:\n",
            "10000/10000: [===============================>] - ETA 0.3s\n",
            "\n",
            " Finished epoch 3/10: Train Loss 1.0366179145622254 | Test Loss 1.037882875442505 | Train Acc 0.2172 | Test Acc 0.2811\n",
            "Time elapsed for the current epoch 75.16409254074097\n",
            "\n",
            "Epoch 4/10\n",
            "Training:\n",
            "50000/50000: [===============================>] - ETA 0.3s\n",
            "Evaluation of test data:\n",
            "10000/10000: [===============================>] - ETA 0.2s\n",
            "\n",
            " Finished epoch 4/10: Train Loss 1.0241471843719483 | Test Loss 1.0430370832443236 | Train Acc 0.24446 | Test Acc 0.24\n",
            "Time elapsed for the current epoch 74.52812075614929\n",
            "\n",
            "Epoch 5/10\n",
            "Training:\n",
            "50000/50000: [===============================>] - ETA 0.3s\n",
            "Evaluation of test data:\n",
            "10000/10000: [===============================>] - ETA 0.2s\n",
            "\n",
            " Finished epoch 5/10: Train Loss 1.017744017791748 | Test Loss 1.0241141313552857 | Train Acc 0.2504 | Test Acc 0.2735\n",
            "Time elapsed for the current epoch 74.0461859703064\n",
            "\n",
            "Epoch 6/10\n",
            "End of training, solving multistep proximal...\n",
            "Training:\n",
            "50000/50000: [===============================>] - ETA 0.8s\n",
            "Evaluation of test data:\n",
            "10000/10000: [===============================>] - ETA 0.1s\n",
            "\n",
            " Finished epoch 6/10: Train Loss 1.0403027398681641 | Test Loss 1.0931700700759888 | Train Acc 0.27282 | Test Acc 0.3202\n",
            "Time elapsed for the current epoch 232.84465527534485\n",
            "\n",
            "Epoch 7/10\n",
            "End of training, solving multistep proximal...\n",
            "Training:\n",
            "50000/50000: [===============================>] - ETA 0.7s\n",
            "Evaluation of test data:\n",
            "10000/10000: [===============================>] - ETA 0.2s\n",
            "\n",
            " Finished epoch 7/10: Train Loss 1.0098104247856141 | Test Loss 1.0289441011428833 | Train Acc 0.31636 | Test Acc 0.3588\n",
            "Time elapsed for the current epoch 231.85172176361084\n",
            "\n",
            "Epoch 8/10\n",
            "End of training, solving multistep proximal...\n",
            "Training:\n",
            "50000/50000: [===============================>] - ETA 0.7s\n",
            "Evaluation of test data:\n",
            "10000/10000: [===============================>] - ETA 0.1s\n",
            "\n",
            " Finished epoch 8/10: Train Loss 0.9797816908454895 | Test Loss 0.960336630821228 | Train Acc 0.35794 | Test Acc 0.3882\n",
            "Time elapsed for the current epoch 233.297504901886\n",
            "\n",
            "Epoch 9/10\n",
            "End of training, solving multistep proximal...\n",
            "Training:\n",
            "50000/50000: [===============================>] - ETA 0.8s\n",
            "Evaluation of test data:\n",
            "10000/10000: [===============================>] - ETA 0.1s\n",
            "\n",
            " Finished epoch 9/10: Train Loss 0.9382522060966492 | Test Loss 0.9077615045547486 | Train Acc 0.39624 | Test Acc 0.4492\n",
            "Time elapsed for the current epoch 230.21996021270752\n",
            "\n",
            "Epoch 10/10\n",
            "End of training, solving multistep proximal...\n",
            "Training:\n",
            "50000/50000: [===============================>] - ETA 0.7s\n",
            "Evaluation of test data:\n",
            "10000/10000: [===============================>] - ETA 0.1s\n",
            "\n",
            " Finished epoch 10/10: Train Loss 0.9121809782600403 | Test Loss 0.9184689687728882 | Train Acc 0.4181 | Test Acc 0.4257\n",
            "Time elapsed for the current epoch 230.63967442512512"
          ]
        }
      ]
    },
    {
      "cell_type": "code",
      "source": [
        "#@title Save training results and plot\n",
        "\n",
        "if load:\n",
        "    output_folder = os.path.join(os.getcwd(), 'results')\n",
        "    os.makedirs(output_folder, exist_ok=True)\n",
        "    fname = output_folder + '/stats_dict_' + model_type + '.pkl'\n",
        "    with open(fname, 'rb') as handle:\n",
        "        stats_dict = pickle.load(handle)\n",
        "\n",
        "results = {'epochs': nepochs, 'train_losses': train_losses, \n",
        "           'train_acc': train_accuracies, 'test_losses': test_losses, \n",
        "           'test_acc': test_accuracies, 'elapsed_time': elapsed_time}\n",
        "stats_dict = {}\n",
        "stats_dict.update({optimizer_name: results})\n",
        "\n",
        "# save everything onto file\n",
        "if save_stats: \n",
        "    output_folder = os.path.join(os.getcwd(), 'results')  # set the folder\n",
        "    os.makedirs(output_folder, exist_ok=True)\n",
        "    fname = output_folder + '/stats_dict_' + model_type + '.pkl'\n",
        "    with open(fname, 'wb') as handle:\n",
        "        pickle.dump(stats_dict, handle, protocol=pickle.HIGHEST_PROTOCOL)"
      ],
      "metadata": {
        "cellView": "form",
        "id": "9w2DgFHAExBE"
      },
      "execution_count": null,
      "outputs": []
    },
    {
      "cell_type": "markdown",
      "source": [
        "# Parameters used in the report"
      ],
      "metadata": {
        "id": "ldLaA2by6VYV"
      }
    },
    {
      "cell_type": "markdown",
      "source": [
        "In order to reproduce our results, the following set of parameters should be used.\\\n",
        "If not specified, the remaining parameters (e.g. $\\epsilon$ for Adam and Adagrad) are set to their default values.\n",
        "\n",
        "Deep Frank Wolfe:\\\n",
        "$η = 0.1$, $μ = 0.9$, $w_d = 0$\n",
        "\n",
        "Stochastic Gradient Descent:\\\n",
        "$\\gamma = 0.001$, $\\mu = 0.9$, $w_d = 0$\n",
        "\n",
        "Adam:\\\n",
        "$\\gamma = 0.001$, $\\mu = 0.9$, $\\beta_1 = 0.9$, $\\beta_2 = 0.99$\n",
        "\n",
        "AdaGrad:\\\n",
        "$\\gamma = 0.001$, $w_d = 0$\n"
      ],
      "metadata": {
        "id": "U7F6Ai3G6bFd"
      }
    }
  ]
}