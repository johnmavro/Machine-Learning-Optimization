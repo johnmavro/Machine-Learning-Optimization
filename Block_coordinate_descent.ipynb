{
  "nbformat": 4,
  "nbformat_minor": 0,
  "metadata": {
    "colab": {
      "name": "Block_coordinate_descent.ipynb",
      "provenance": [],
      "collapsed_sections": []
    },
    "kernelspec": {
      "name": "python3",
      "display_name": "Python 3"
    },
    "language_info": {
      "name": "python"
    },
    "accelerator": "GPU"
  },
  "cells": [
    {
      "cell_type": "code",
      "execution_count": 1,
      "metadata": {
        "colab": {
          "base_uri": "https://localhost:8080/"
        },
        "id": "WjmJ5IsZInkj",
        "outputId": "83761395-9867-4405-966c-bbefc0bb2190"
      },
      "outputs": [
        {
          "output_type": "stream",
          "name": "stdout",
          "text": [
            "PyTorch Version: 1.11.0+cu113\n",
            "Torchvision Version: 0.12.0+cu113\n",
            "GPU is available? True\n"
          ]
        }
      ],
      "source": [
        "import numpy as np\n",
        "import torch\n",
        "import torch.nn as nn\n",
        "import torchvision\n",
        "from torchvision import datasets, transforms\n",
        "import matplotlib.pyplot as plt\n",
        "import time\n",
        "import os\n",
        "import copy\n",
        "import math\n",
        "from torch.nn.functional import cross_entropy\n",
        "\n",
        "from utilities import *\n",
        "\n",
        "print(\"PyTorch Version:\", torch.__version__)\n",
        "print(\"Torchvision Version:\", torchvision.__version__)\n",
        "print(\"GPU is available?\", torch.cuda.is_available())"
      ]
    },
    {
      "cell_type": "code",
      "source": [
        "dtype = torch.float\n",
        "device = torch.device(\"cuda:0\" if torch.cuda.is_available() else \"cpu\")"
      ],
      "metadata": {
        "id": "DT-roPj1Isd7"
      },
      "execution_count": 2,
      "outputs": []
    },
    {
      "cell_type": "markdown",
      "source": [
        "# Imported datasets\n",
        "For the testing and comparison of our algorithms we will use the following datasets:\n",
        "\n",
        "1. MNIST\n",
        "2. FashionMNIST\n",
        "3. CIFAR10"
      ],
      "metadata": {
        "id": "N_1aD5CdJCfS"
      }
    },
    {
      "cell_type": "code",
      "source": [
        "ts = transforms.Compose([transforms.ToTensor(), transforms.Normalize((0,), (1,))])\n",
        "\n",
        "# change the flag to choose the dataset to work with\n",
        "dataset_flag = 1\n",
        "\n",
        "if dataset_flag ==0:\n",
        "  trainset = datasets.MNIST('../data', train=True, download=True, transform=ts)\n",
        "  testset = datasets.MNIST(root='../data', train=False, download=True, transform=ts)\n",
        "elif dataset_flag ==1:\n",
        "  trainset = datasets.FashionMNIST('../data', train=True, download=True, transform=ts)\n",
        "  testset = datasets.FashionMNIST(root='../data', train=False, download=True, transform=ts)\n",
        "else:\n",
        "  trainset = datasets.CIFAR10('../data', train=True, download=True, transform=ts)\n",
        "  testset = datasets.CIFAR10(root='../data', train=False, download=True, transform=ts)"
      ],
      "metadata": {
        "id": "FCpRsZlPIuew"
      },
      "execution_count": 3,
      "outputs": []
    },
    {
      "cell_type": "code",
      "source": [
        "\"\"\"\n",
        "from sklearn import datasets\n",
        "from sklearn.model_selection import train_test_split\n",
        "\n",
        "boston = datasets.load_boston()\n",
        "X = boston.data\n",
        "y = boston.target\n",
        "x_train, x_test, y_train, y_test = train_test_split(X, y, test_size=0.3, random_state=42)\n",
        "\n",
        "x_train = torch.from_numpy(x_train).to(device = device)\n",
        "x_test = torch.from_numpy(x_test).to(device = device)\n",
        "y_train = torch.from_numpy(y_train).to(device = device)\n",
        "y_test = torch.from_numpy(y_test).to(device = device)\n",
        "\n",
        "x_train = x_train.T.float()\n",
        "x_test = x_test.T.float()\n",
        "\n",
        "N = x_train.shape[1]\n",
        "N_test = x_test.shape[1]\n",
        "\"\"\""
      ],
      "metadata": {
        "colab": {
          "base_uri": "https://localhost:8080/",
          "height": 122
        },
        "id": "-oRYcSE2I27L",
        "outputId": "c68603a0-1fd6-4784-aec0-71f36f7adb79"
      },
      "execution_count": 4,
      "outputs": [
        {
          "output_type": "execute_result",
          "data": {
            "text/plain": [
              "'\\nfrom sklearn import datasets\\nfrom sklearn.model_selection import train_test_split\\n\\nboston = datasets.load_boston()\\nX = boston.data\\ny = boston.target\\nx_train, x_test, y_train, y_test = train_test_split(X, y, test_size=0.3, random_state=42)\\n\\nx_train = torch.from_numpy(x_train).to(device = device)\\nx_test = torch.from_numpy(x_test).to(device = device)\\ny_train = torch.from_numpy(y_train).to(device = device)\\ny_test = torch.from_numpy(y_test).to(device = device)\\n\\nx_train = x_train.T.float()\\nx_test = x_test.T.float()\\n\\nN = x_train.shape[1]\\nN_test = x_test.shape[1]\\n'"
            ],
            "application/vnd.google.colaboratory.intrinsic+json": {
              "type": "string"
            }
          },
          "metadata": {},
          "execution_count": 4
        }
      ]
    },
    {
      "cell_type": "markdown",
      "source": [
        "# Dataset preprocessing"
      ],
      "metadata": {
        "id": "dtekIhnJJJhC"
      }
    },
    {
      "cell_type": "code",
      "source": [
        "x_train, y_train, x_test, y_test, y_train_one_hot, y_test_one_hot, _, _= load_dataset(trainset, testset, 10)\n",
        "\n",
        "# We move to GPU\n",
        "x_train = x_train.to(device = device)\n",
        "x_test = x_test.to(device = device)\n",
        "y_train = y_train.to(device = device)\n",
        "y_test = y_test.to(device = device)\n",
        "y_train_one_hot = y_train_one_hot.to(device = device)\n",
        "y_test_one_hot = y_test_one_hot.to(device = device)"
      ],
      "metadata": {
        "id": "GJ9kefhFI6vI"
      },
      "execution_count": 5,
      "outputs": []
    },
    {
      "cell_type": "markdown",
      "source": [
        "# Architecture initialization\n",
        "\n",
        "For the MultiLayerPerceptron we have the parameters **input_size** , **hidden_size**,**output_size** corresponding to the size of the input layer, the hidden layer and the output layer, respectively.\n",
        "\n",
        "The MLP only has 3 layers like https://github.com/timlautk/BCD-for-DNNs-PyTorch/blob/master/bcd_dnn_mlp_mnist.ipynb as a starting point.\n",
        "\n",
        "Also we use ReLU currently for the same reason."
      ],
      "metadata": {
        "id": "w7M3uSc8JRdC"
      }
    },
    {
      "cell_type": "code",
      "source": [
        "input_size = x_train.shape[0]\n",
        "hidden_size = 1500\n",
        "output_size = 10\n",
        "\n",
        "cross_entropy = nn.CrossEntropyLoss()"
      ],
      "metadata": {
        "id": "QiyJP8y2I81R"
      },
      "execution_count": 6,
      "outputs": []
    },
    {
      "cell_type": "markdown",
      "source": [
        "# Training\n",
        "\n",
        "Note: Fix it so that it moves everything to device in the following function and that it does the label sample split here"
      ],
      "metadata": {
        "id": "QAm_re0mJbOA"
      }
    },
    {
      "cell_type": "code",
      "source": [
        "def update_v_js(U1, U2, W, b, rho, gamma):\n",
        "    \"\"\"\n",
        "    The function updates the V_js parameters during the training phase\n",
        "    \n",
        "    :param U1: The U parameter on the same level of V that we are updating\n",
        "    :param U2: The U parameter which is in the next level of the V that we are updating\n",
        "    :param W: The W parameter which is in the next level of the V that we are updating\n",
        "    :param b: The b parameter which is in the next level of the V that we are updating\n",
        "    :param rho: The constant rho parameter which is in the next level of the V that we are updating\n",
        "    :param gamma: The constant gamma parameter which is in the next level of the V that we are updating\n",
        "    :return: The updated V\n",
        "    \"\"\"\n",
        "    _, d = W.size()\n",
        "    I = torch.eye(d, device=device)\n",
        "    U1 = nn.ReLU()(U1)\n",
        "    _, col_U2 = U2.size()\n",
        "    Vstar = torch.mm(torch.inverse(rho * (torch.mm(torch.t(W), W)) + gamma * I),\n",
        "                     rho * torch.mm(torch.t(W), U2 - b.repeat(1, col_U2)) + gamma * U1)\n",
        "    return Vstar"
      ],
      "metadata": {
        "id": "78BFLCPNJbss"
      },
      "execution_count": 7,
      "outputs": []
    },
    {
      "cell_type": "code",
      "source": [
        "def update_wb_js(U, V, W, b, alpha, rho):\n",
        "    \"\"\"\n",
        "    The function updates the W and b parameters during the training phase\n",
        "    \n",
        "    :param U: The U in the current level of W and b\n",
        "    :param V: The V in the previous level with respect to the W that we are updating\n",
        "    :param W: The current W that we have to update\n",
        "    :param b: The current b that we have to update\n",
        "    :param alpha: The alpha constant of the updates\n",
        "    :param rho: The rho constant of the updates\n",
        "    :return:\n",
        "    \"\"\"\n",
        "    d, N = V.size()\n",
        "    I = torch.eye(d, device=device)\n",
        "    _, col_U = U.size()\n",
        "    Wstar = torch.mm(alpha * W + rho * torch.mm(U - b.repeat(1, col_U), torch.t(V)),\n",
        "                     torch.inverse(alpha * I + rho * (torch.mm(V, torch.t(V)))))\n",
        "    bstar = (alpha * b + rho * torch.sum(U - torch.mm(W, V), dim=1).reshape(b.size())) / (rho * N + alpha)\n",
        "    return Wstar, bstar"
      ],
      "metadata": {
        "id": "rPdLFBQ_Jf0R"
      },
      "execution_count": 8,
      "outputs": []
    },
    {
      "cell_type": "code",
      "source": [
        "def relu_prox(a, b, gamma, d, N):\n",
        "    \"\"\"\n",
        "    The function compute the solution to the relu proximal update problem\n",
        "    \n",
        "    :param a: the a in the closed formula of the linearized update\n",
        "    :param b: the b in the closed formula of the linearized update\n",
        "    :param gamma: The constant used in the update\n",
        "    :param d: the dimension of the current layer\n",
        "    :param N: The number of samples\n",
        "    :return: The obtained solution of the prox update\n",
        "    \"\"\"\n",
        "    val = torch.empty(d, N, device=device)\n",
        "    x = (a + gamma * b) / (1 + gamma)\n",
        "    y = torch.min(b, torch.zeros(d, N, device=device))\n",
        "    val = torch.where(a + gamma * b < 0, y, torch.zeros(d, N, device=device))\n",
        "    val = torch.where(\n",
        "        ((a + gamma * b >= 0) & (b >= 0)) | ((a * (gamma - np.sqrt(gamma * (gamma + 1))) <= gamma * b) & (b < 0)), x,\n",
        "        val)\n",
        "    val = torch.where((-a <= gamma * b) & (gamma * b <= a * (gamma - np.sqrt(gamma * (gamma + 1)))), b, val)\n",
        "    return val\n"
      ],
      "metadata": {
        "id": "xD0dhzjdJiKg"
      },
      "execution_count": 9,
      "outputs": []
    },
    {
      "cell_type": "code",
      "source": [
        "def make_pred(Ws,bs,input,N):\n",
        "  \"\"\"\n",
        "  The function is used to make the predictions based on the best found parameters\n",
        "  :param Ws: The weight matrices\n",
        "  :param bs: the bias vectors\n",
        "  :return pred, prob\n",
        "  \"\"\"\n",
        "  a1_train = input\n",
        "  for i in range(0,len(Ws)-1):\n",
        "    a1_train = nn.ReLU()(torch.addmm(bs[i].repeat(1, N), Ws[i], a1_train))\n",
        "  pred = torch.argmax(torch.addmm(bs[len(Ws)-1].repeat(1, N), Ws[len(Ws)-1], a1_train), dim=0)\n",
        "  output_last = torch.addmm(bs[len(Ws)-1].repeat(1, N), Ws[len(Ws)-1], a1_train)\n",
        "  prob = torch.exp(output_last)/torch.sum(torch.exp(output_last),dim=0)\n",
        "  return pred, prob"
      ],
      "metadata": {
        "id": "5C2ka5vzJlCm"
      },
      "execution_count": 10,
      "outputs": []
    },
    {
      "cell_type": "code",
      "source": [
        "#The function requires at least 1 hidden layer otherwise it need some rewriting\n",
        "\n",
        "def execute_training(layers, input_size, hidden_size, output_size, train_set, val_set, \n",
        "                     train_labels, val_labels, y_train_one_hot, y_test_one_hot,\n",
        "                     use_gradient, niter = 100, gamma = 1, alpha = 5, verbose = True):\n",
        "  \"\"\"\n",
        "  The function takes the following arguements and produces a list of weights and biases with which \n",
        "  you can use the make_pred function to get a list of predictions\n",
        "  :param layers: The total number of layers of the network\n",
        "  :param input_size: The total size of the input layer\n",
        "  :param hidden_size: The size of the hidden layer\n",
        "  :param output_size: The size of the output layer (usefull for multiclass classification)\n",
        "  :param train_set: The training set\n",
        "  :param val_set: The validation set\n",
        "  :param train_labels: The training labels\n",
        "  :param val labels: The validation labels\n",
        "  :param y_train_one_hot: The one hot encoding of the training labels\n",
        "  :param y_test_one_hot: The one hot encoding of the test labels\n",
        "  :param use_gradient: True if the first update of V is carried out without linearization but using the gradient\n",
        "  :param niter: The default number of epochs to train the network\n",
        "  :param gamma: The gamma parameter of the algorithm\n",
        "  :param alpha: The alpha parameter of the algorithm\n",
        "  :param verbose: If verbose = True it displays the evolution of the metrics during training, otherwise it does not\n",
        "  :return loss1, loss_class, opt_accuracy, accuracy_test, early_Ws, early_bs:\n",
        "  Returns the loss, the cross-entropy losses, the best accuracy, the accuracies\n",
        "  of the validation set, the best found weights and biases\n",
        "  \"\"\"\n",
        "\n",
        "  # we set the seed for reproducibility\n",
        "  torch.manual_seed(42)\n",
        "\n",
        "  N = len(train_labels)\n",
        "  N_test = len(val_labels)\n",
        "\n",
        "  # weight initialization (we replicate pytorch weight initialization)\n",
        "\n",
        "  std = math.sqrt(1/input_size)\n",
        "  W = torch.FloatTensor(hidden_size, input_size).uniform_(-std, std)\n",
        "  b = torch.FloatTensor(hidden_size, 1).uniform_(-std, std)\n",
        "\n",
        "  b = b.to(device = device)\n",
        "  W = W.to(device = device)\n",
        "\n",
        "  U = torch.addmm(b.repeat(1, N), W, x_train) # equivalent to W1@x_train+b1.repeat(1,N)\n",
        "  V = nn.ReLU()(U)\n",
        "\n",
        "  Ws = [W]\n",
        "  bs = [b]\n",
        "  Us = [U]\n",
        "  Vs = [V]\n",
        "\n",
        "  for i in range(1,layers-1):\n",
        "    std = math.sqrt(1/hidden_size)\n",
        "    W = torch.FloatTensor(hidden_size, hidden_size).uniform_(-std, std)\n",
        "    b = torch.FloatTensor(hidden_size, 1).uniform_(-std, std)\n",
        "    b = b.to(device = device)\n",
        "    W = W.to(device = device)\n",
        "    U = torch.addmm(b.repeat(1, N), W, Vs[-1])\n",
        "    V = nn.ReLU()(U)\n",
        "    Ws.append(W)\n",
        "    bs.append(b)\n",
        "    Us.append(U)\n",
        "    Vs.append(V)\n",
        "  \n",
        "  std = math.sqrt(1/hidden_size)\n",
        "  W = torch.FloatTensor(output_size, hidden_size).uniform_(-std, std)\n",
        "  b = torch.FloatTensor(output_size, 1).uniform_(-std, std)\n",
        "\n",
        "  # we move them to GPU\n",
        "  b = b.to(device = device)\n",
        "  W = W.to(device = device)\n",
        "  U = torch.addmm(b.repeat(1, N), W, Vs[-1])\n",
        "  V = U\n",
        "  Ws.append(W)\n",
        "  bs.append(b)\n",
        "  Us.append(U)\n",
        "  Vs.append(V)\n",
        "  \n",
        "  # constant initialization\n",
        "\n",
        "  gamma1 = gamma2 = gamma3 = gamma4 = gamma\n",
        "\n",
        "  rho = gamma\n",
        "  rho1 = rho2 = rho3 = rho4 = rho\n",
        "\n",
        "  alpha1 = alpha2 = alpha3 = alpha4 = alpha5 = alpha6 = alpha7 \\\n",
        "  = alpha8 = alpha9 = alpha10 = alpha\n",
        "\n",
        "  # vector of performance initialization\n",
        "\n",
        "  loss1 = np.empty(niter)\n",
        "  loss2 = np.empty(niter)\n",
        "  loss_class = np.empty(niter)\n",
        "  accuracy_train = np.empty(niter)\n",
        "  accuracy_test = np.empty(niter)\n",
        "  time1 = np.empty(niter)\n",
        "\n",
        "  opt_accuracy = 0\n",
        "  early_Ws = Ws\n",
        "  early_bs = bs\n",
        "  time_best = 0\n",
        "  num_epochs_best =0\n",
        "\n",
        "  print('Train on', N, 'samples, validate on', N_test, 'samples')\n",
        "  for k in range(niter):\n",
        "\n",
        "    start = time.time()\n",
        "\n",
        "    # update V3\n",
        "    if use_gradient == True:\n",
        "      if (k == 1):\n",
        "        Vs[-1] = (y_train_one_hot + gamma3*Us[-1] + alpha1*Vs[-1])/(1+ gamma3 + alpha1)\n",
        "      else:\n",
        "        for i in range(250):\n",
        "          Vs[-1] = Vs[-1] - (torch.exp(Vs[-1])/torch.sum(torch.exp(Vs[-1]),dim=0)-y_train_one_hot) * 0.01/(i+1)\n",
        "    else:\n",
        "      Vs[-1] = (y_train_one_hot + gamma3*Us[-1] + alpha1*Vs[-1])/(1+ gamma3 + alpha1)\n",
        "\n",
        "    # update U3 \n",
        "    Us[-1] = (gamma3*Vs[-1] + rho3*(torch.mm(Ws[-1],Vs[-2]) + bs[-1].repeat(1,N)))/(gamma3 + rho3)\n",
        "\n",
        "    # update W3 and b3\n",
        "    W, b = update_wb_js(Us[-1],Vs[-2],Ws[-1],bs[-1],alpha1, rho3)\n",
        "    Ws[-1] = W\n",
        "    bs[-1] = b\n",
        "\n",
        "    for i in range(len(Vs)-2,0,-1):\n",
        "      Vs[i] = update_v_js(Us[i],Us[i+1],Ws[i+1],bs[i+1],rho3,gamma2)\n",
        "      Us[i] = relu_prox(Vs[i],(rho2*torch.addmm(bs[i].repeat(1,N), Ws[i], Vs[i-1]) +\n",
        "                               alpha2*Us[i])/(rho2 + alpha2),(rho2 + alpha2)/gamma2, hidden_size, N)\n",
        "      W,b = update_wb_js(Us[i],Vs[i-1],Ws[i],bs[i],alpha3,rho2)\n",
        "      Ws[i] = W\n",
        "      bs[i]= b\n",
        "    \n",
        "    # update V1\n",
        "    Vs[0] = update_v_js(Us[0],Us[1],Ws[1],bs[1],rho2,gamma1)\n",
        "        \n",
        "    # update U1\n",
        "    Us[0] = relu_prox(Vs[0],(rho1*torch.addmm(bs[0].repeat(1,N), Ws[0], x_train) +\n",
        "                             alpha7*Us[0])/(rho1 + alpha7),(rho1 + alpha7)/gamma1, hidden_size, N)\n",
        "    \n",
        "    # update W1 and b1\n",
        "    W, b = update_wb_js(Us[0],x_train,Ws[0],bs[0],alpha8,rho1)\n",
        "    Ws[0] = W\n",
        "    bs[0] = b\n",
        "\n",
        "\n",
        "    pred,_ = make_pred(Ws,bs,x_train,N)\n",
        "    pred_test, prob_test = make_pred(Ws,bs,x_test,N_test) \n",
        "\n",
        "    \n",
        "    loss_class[k] = torch.sum(- y_test_one_hot * torch.log(prob_test))\n",
        "\n",
        "    loss1[k] = gamma/2*torch.pow(torch.dist(Vs[-1],y_train_one_hot,2),2).cpu().numpy()\n",
        "    loss2[k] = loss1[k] + gamma/2 * torch.pow(torch.dist(torch.addmm(bs[0].repeat(1,N), Ws[0], x_train),Us[0],2),2).cpu().numpy()\n",
        "\n",
        "    for i in range(1,layers):\n",
        "      loss2[k] = loss2[k] + gamma/2 * torch.pow(torch.dist(torch.addmm(bs[i].repeat(1,N), Ws[i], Vs[i-1]),Us[i],2),2).cpu().numpy()\n",
        "\n",
        "        \n",
        "    # compute training accuracy\n",
        "    correct_train = pred == train_labels\n",
        "    accuracy_train[k] = np.mean(correct_train.cpu().numpy())\n",
        "        \n",
        "    # compute validation accuracy\n",
        "    correct_test = pred_test == val_labels\n",
        "    accuracy_test[k] = np.mean(correct_test.cpu().numpy())\n",
        "        \n",
        "    # compute training time\n",
        "    stop = time.time()\n",
        "    duration = stop - start\n",
        "    time1[k] = duration\n",
        "        \n",
        "    # print results\n",
        "    if(verbose == True):\n",
        "      print('Epoch', k + 1, '/', niter, '\\n', \n",
        "            '-', 'time:', time1[k], '-', 'sq_loss:', loss1[k], '-', 'tot_loss:',\n",
        "            loss2[k], '-', 'loss_class:', loss_class[k], '-', 'acc:',\n",
        "            accuracy_train[k], '-', 'val_acc:', accuracy_test[k])\n",
        "    \n",
        "    if(accuracy_test[k]>opt_accuracy):\n",
        "      early_Ws = Ws\n",
        "      early_bs = bs\n",
        "      opt_accuracy = accuracy_test[k]\n",
        "      time_best = np.sum(time1[0:k])\n",
        "      num_epochs_best=k\n",
        "    \n",
        "  print('\\n The total time spent is:', np.sum(time1), 's')\n",
        "  print('\\n The best accuracy reached is', opt_accuracy)\n",
        "  print('\\n The time needed to reach the best accuracy is', time_best, 's')\n",
        "  print('\\n The best accuracy has been reached after', num_epochs_best, 'iterations')\n",
        "\n",
        "  return loss1, loss_class, opt_accuracy, accuracy_test, early_Ws, early_bs"
      ],
      "metadata": {
        "id": "lJSDpRPRJ0xb"
      },
      "execution_count": 11,
      "outputs": []
    },
    {
      "cell_type": "code",
      "source": [
        "def hyperparams_tuning(layers, input_size, hidden_size, output_size, train_set, val_set, \n",
        "                     train_labels, val_labels, y_train_one_hot, y_test_one_hot,\n",
        "                     use_gradient, niter = 100, gammas = [1], alphas= [5]):\n",
        "  \"\"\"\n",
        "  The function performs grid-search on the hyperparameters alpha, gamma of block\n",
        "  coordinate descent.\n",
        "  :param layers: The total number of layers of the network\n",
        "  :param input_size: The total size of the input layer\n",
        "  :param hidden_size: The size of the hidden layer\n",
        "  :param output_size: The size of the output layer (usefull for multiclass classification)\n",
        "  :param train_set: The training set\n",
        "  :param val_set: The validation set\n",
        "  :param train_labels: The training labels\n",
        "  :param val labels: The validation labels\n",
        "  :param y_train_one_hot: The one hot encoding of the training labels\n",
        "  :param y_test_one_hot: The one hot encoding of the test labels\n",
        "  :param use_gradient: True if the first update of V is carried out without linearization but using the gradient\n",
        "  :param niter: The default number of epochs to train the network\n",
        "  :param gammas: A list of gammas to try\n",
        "  :param alphas: A list of alphas to try\n",
        "  :returns best_gamma, best_alpha: The two best parameters found after grid-search\n",
        "  \"\"\"\n",
        "  accuracies = np.zeros((len(gammas), len(alphas)))\n",
        "  for i, gamma in enumerate(gammas):\n",
        "    for j, alpha in enumerate(alphas):\n",
        "      print('\\n ######################################### \\n \\\n",
        "      Testing gamma= {}, alpha={}'.format(gamma,alpha))\n",
        "      loss, loss_class , opt_accuracy, accuracy_test, Ws, bs = execute_training(layers,\n",
        "      input_size, hidden_size, output_size, x_train, x_test, y_train, y_test,\n",
        "      y_train_one_hot, y_test_one_hot, use_gradient , niter, gamma = gamma,\n",
        "      alpha = alpha, verbose = False)\n",
        "      accuracies[i,j] = opt_accuracy\n",
        "  max_acc = np.amax(accuracies)\n",
        "  best_indices = np.where(accuracies == max_acc)\n",
        "  return gammas[best_indices[0][0]], alphas[best_indices[1][0]], max_acc\n",
        "\n",
        "alphas = [2, 5, 7]\n",
        "gammas = [0.2, 1, 1.8]\n",
        "best_gamma, best_alpha, max_acc = hyperparams_tuning (3, input_size, hidden_size,\n",
        "                    output_size, x_train, x_test, y_train, y_test, y_train_one_hot,\n",
        "                    y_test_one_hot, False , niter = 100, gammas = gammas, alphas = alphas)"
      ],
      "metadata": {
        "colab": {
          "base_uri": "https://localhost:8080/"
        },
        "id": "TdGaGdfWT1aU",
        "outputId": "e50fc7df-21ea-40eb-acac-0156ac1f5018"
      },
      "execution_count": 12,
      "outputs": [
        {
          "output_type": "stream",
          "name": "stdout",
          "text": [
            "\n",
            " ######################################### \n",
            "       Testing gamma= 0.2, alpha=2\n",
            "Train on 60000 samples, validate on 10000 samples\n",
            "\n",
            " The total time spent is: 135.6948812007904 s\n",
            "\n",
            " The best accuracy reached is 0.8659\n",
            "\n",
            " The time needed to reach the best accuracy is 53.27105116844177 s\n",
            "\n",
            " The best accuracy has been reached after 39 iterations\n",
            "\n",
            " ######################################### \n",
            "       Testing gamma= 0.2, alpha=5\n",
            "Train on 60000 samples, validate on 10000 samples\n",
            "\n",
            " The total time spent is: 135.57656717300415 s\n",
            "\n",
            " The best accuracy reached is 0.8641\n",
            "\n",
            " The time needed to reach the best accuracy is 134.22097659111023 s\n",
            "\n",
            " The best accuracy has been reached after 99 iterations\n",
            "\n",
            " ######################################### \n",
            "       Testing gamma= 0.2, alpha=7\n",
            "Train on 60000 samples, validate on 10000 samples\n",
            "\n",
            " The total time spent is: 135.54173970222473 s\n",
            "\n",
            " The best accuracy reached is 0.8633\n",
            "\n",
            " The time needed to reach the best accuracy is 121.97355484962463 s\n",
            "\n",
            " The best accuracy has been reached after 90 iterations\n",
            "\n",
            " ######################################### \n",
            "       Testing gamma= 1, alpha=2\n",
            "Train on 60000 samples, validate on 10000 samples\n",
            "\n",
            " The total time spent is: 135.586083650589 s\n",
            "\n",
            " The best accuracy reached is 0.8683\n",
            "\n",
            " The time needed to reach the best accuracy is 39.297340393066406 s\n",
            "\n",
            " The best accuracy has been reached after 29 iterations\n",
            "\n",
            " ######################################### \n",
            "       Testing gamma= 1, alpha=5\n",
            "Train on 60000 samples, validate on 10000 samples\n",
            "\n",
            " The total time spent is: 135.0870976448059 s\n",
            "\n",
            " The best accuracy reached is 0.8664\n",
            "\n",
            " The time needed to reach the best accuracy is 35.08655524253845 s\n",
            "\n",
            " The best accuracy has been reached after 26 iterations\n",
            "\n",
            " ######################################### \n",
            "       Testing gamma= 1, alpha=7\n",
            "Train on 60000 samples, validate on 10000 samples\n",
            "\n",
            " The total time spent is: 135.42232418060303 s\n",
            "\n",
            " The best accuracy reached is 0.8662\n",
            "\n",
            " The time needed to reach the best accuracy is 46.03588938713074 s\n",
            "\n",
            " The best accuracy has been reached after 34 iterations\n",
            "\n",
            " ######################################### \n",
            "       Testing gamma= 1.8, alpha=2\n",
            "Train on 60000 samples, validate on 10000 samples\n",
            "\n",
            " The total time spent is: 134.8623526096344 s\n",
            "\n",
            " The best accuracy reached is 0.8672\n",
            "\n",
            " The time needed to reach the best accuracy is 49.835121870040894 s\n",
            "\n",
            " The best accuracy has been reached after 37 iterations\n",
            "\n",
            " ######################################### \n",
            "       Testing gamma= 1.8, alpha=5\n",
            "Train on 60000 samples, validate on 10000 samples\n",
            "\n",
            " The total time spent is: 135.65918707847595 s\n",
            "\n",
            " The best accuracy reached is 0.8663\n",
            "\n",
            " The time needed to reach the best accuracy is 50.14721918106079 s\n",
            "\n",
            " The best accuracy has been reached after 37 iterations\n",
            "\n",
            " ######################################### \n",
            "       Testing gamma= 1.8, alpha=7\n",
            "Train on 60000 samples, validate on 10000 samples\n",
            "\n",
            " The total time spent is: 135.41432857513428 s\n",
            "\n",
            " The best accuracy reached is 0.8662\n",
            "\n",
            " The time needed to reach the best accuracy is 56.85287070274353 s\n",
            "\n",
            " The best accuracy has been reached after 42 iterations\n"
          ]
        }
      ]
    },
    {
      "cell_type": "code",
      "source": [
        "## We retrain the model with the best found hyperparameters\n",
        "\n",
        "loss, loss_class , opt_accuracy, accuracy_test, Ws, bs = execute_training(3,\n",
        "      input_size, hidden_size, output_size, x_train, x_test, y_train, y_test,\n",
        "      y_train_one_hot, y_test_one_hot, False , niter = 100, gamma = best_gamma,\n",
        "      alpha = best_alpha)"
      ],
      "metadata": {
        "id": "PLkWZMwqJ1vH",
        "colab": {
          "base_uri": "https://localhost:8080/"
        },
        "outputId": "4d1dc70c-d512-4350-8703-1a600a7c2f2b"
      },
      "execution_count": 13,
      "outputs": [
        {
          "output_type": "stream",
          "name": "stdout",
          "text": [
            "Train on 60000 samples, validate on 10000 samples\n",
            "Epoch 1 / 100 \n",
            " - time: 1.3248450756072998 - sq_loss: 17492.341796875 - tot_loss: 17557.257030434906 - loss_class: 22343.66796875 - acc: 0.6825166666666667 - val_acc: 0.6725\n",
            "Epoch 2 / 100 \n",
            " - time: 1.3638789653778076 - sq_loss: 10963.08203125 - tot_loss: 10995.456602659076 - loss_class: 21423.16015625 - acc: 0.8656333333333334 - val_acc: 0.8486\n",
            "Epoch 3 / 100 \n",
            " - time: 1.3602216243743896 - sq_loss: 7206.03564453125 - tot_loss: 7225.088341273367 - loss_class: 20605.32421875 - acc: 0.8776833333333334 - val_acc: 0.8603\n",
            "Epoch 4 / 100 \n",
            " - time: 1.3452179431915283 - sq_loss: 4800.12255859375 - tot_loss: 4814.422994688153 - loss_class: 19920.8046875 - acc: 0.8794666666666666 - val_acc: 0.8596\n",
            "Epoch 5 / 100 \n",
            " - time: 1.3629002571105957 - sq_loss: 3212.896240234375 - tot_loss: 3225.0372791588306 - loss_class: 19363.162109375 - acc: 0.88025 - val_acc: 0.8605\n",
            "Epoch 6 / 100 \n",
            " - time: 1.351468801498413 - sq_loss: 2154.7666015625 - tot_loss: 2165.46916821599 - loss_class: 18901.10546875 - acc: 0.8815833333333334 - val_acc: 0.8605\n",
            "Epoch 7 / 100 \n",
            " - time: 1.3514974117279053 - sq_loss: 1446.674072265625 - tot_loss: 1456.736790060997 - loss_class: 18530.052734375 - acc: 0.8824 - val_acc: 0.8612\n",
            "Epoch 8 / 100 \n",
            " - time: 1.3423514366149902 - sq_loss: 972.02880859375 - tot_loss: 980.8601454794407 - loss_class: 18217.494140625 - acc: 0.88355 - val_acc: 0.8619\n",
            "Epoch 9 / 100 \n",
            " - time: 1.3526880741119385 - sq_loss: 653.7120971679688 - tot_loss: 662.7526056170464 - loss_class: 17969.5078125 - acc: 0.8841333333333333 - val_acc: 0.8628\n",
            "Epoch 10 / 100 \n",
            " - time: 1.3590033054351807 - sq_loss: 440.04998779296875 - tot_loss: 448.39023488759995 - loss_class: 17753.263671875 - acc: 0.885 - val_acc: 0.863\n",
            "Epoch 11 / 100 \n",
            " - time: 1.3710744380950928 - sq_loss: 296.54345703125 - tot_loss: 303.4088653922081 - loss_class: 17584.07421875 - acc: 0.88605 - val_acc: 0.8633\n",
            "Epoch 12 / 100 \n",
            " - time: 1.3635375499725342 - sq_loss: 200.08157348632812 - tot_loss: 206.5510661303997 - loss_class: 17443.140625 - acc: 0.88685 - val_acc: 0.8639\n",
            "Epoch 13 / 100 \n",
            " - time: 1.3521747589111328 - sq_loss: 135.17431640625 - tot_loss: 141.5348568558693 - loss_class: 17329.30078125 - acc: 0.8879833333333333 - val_acc: 0.8641\n",
            "Epoch 14 / 100 \n",
            " - time: 1.350144863128662 - sq_loss: 91.4775619506836 - tot_loss: 97.20266437530518 - loss_class: 17229.619140625 - acc: 0.8888 - val_acc: 0.8647\n",
            "Epoch 15 / 100 \n",
            " - time: 1.3676812648773193 - sq_loss: 62.03345489501953 - tot_loss: 67.23993447422981 - loss_class: 17149.4375 - acc: 0.8898166666666667 - val_acc: 0.865\n",
            "Epoch 16 / 100 \n",
            " - time: 1.3547182083129883 - sq_loss: 42.164634704589844 - tot_loss: 47.13401594758034 - loss_class: 17082.244140625 - acc: 0.8901 - val_acc: 0.8652\n",
            "Epoch 17 / 100 \n",
            " - time: 1.3557109832763672 - sq_loss: 28.73538589477539 - tot_loss: 33.66055676341057 - loss_class: 17025.017578125 - acc: 0.8903166666666666 - val_acc: 0.8653\n",
            "Epoch 18 / 100 \n",
            " - time: 1.3372523784637451 - sq_loss: 19.644390106201172 - tot_loss: 25.65254071354866 - loss_class: 16984.130859375 - acc: 0.89075 - val_acc: 0.8658\n",
            "Epoch 19 / 100 \n",
            " - time: 1.3559272289276123 - sq_loss: 13.481865882873535 - tot_loss: 18.05107080936432 - loss_class: 16941.73046875 - acc: 0.8910333333333333 - val_acc: 0.8662\n",
            "Epoch 20 / 100 \n",
            " - time: 1.3476192951202393 - sq_loss: 9.298727035522461 - tot_loss: 13.44163490831852 - loss_class: 16907.15234375 - acc: 0.8915 - val_acc: 0.8662\n",
            "Epoch 21 / 100 \n",
            " - time: 1.3632686138153076 - sq_loss: 6.448808670043945 - tot_loss: 10.876562669873238 - loss_class: 16883.515625 - acc: 0.8915666666666666 - val_acc: 0.866\n",
            "Epoch 22 / 100 \n",
            " - time: 1.3525118827819824 - sq_loss: 4.503105640411377 - tot_loss: 8.358426958322525 - loss_class: 16859.087890625 - acc: 0.8917 - val_acc: 0.8663\n",
            "Epoch 23 / 100 \n",
            " - time: 1.3632190227508545 - sq_loss: 3.1720519065856934 - tot_loss: 6.868059411644936 - loss_class: 16836.33984375 - acc: 0.8918666666666667 - val_acc: 0.8664\n",
            "Epoch 24 / 100 \n",
            " - time: 1.344956398010254 - sq_loss: 2.2574856281280518 - tot_loss: 6.968231618404388 - loss_class: 16826.68359375 - acc: 0.8918666666666667 - val_acc: 0.8667\n",
            "Epoch 25 / 100 \n",
            " - time: 1.3574037551879883 - sq_loss: 1.6256458759307861 - tot_loss: 5.431186348199844 - loss_class: 16805.0703125 - acc: 0.8921833333333333 - val_acc: 0.8668\n",
            "Epoch 26 / 100 \n",
            " - time: 1.3499727249145508 - sq_loss: 1.1876581907272339 - tot_loss: 4.5832559466362 - loss_class: 16798.27734375 - acc: 0.8921833333333333 - val_acc: 0.8673\n",
            "Epoch 27 / 100 \n",
            " - time: 1.3619811534881592 - sq_loss: 0.8821704983711243 - tot_loss: 3.971285328269005 - loss_class: 16784.27734375 - acc: 0.8926666666666667 - val_acc: 0.8676\n",
            "Epoch 28 / 100 \n",
            " - time: 1.353093147277832 - sq_loss: 0.6678213477134705 - tot_loss: 3.5941836163401604 - loss_class: 16779.189453125 - acc: 0.8929833333333334 - val_acc: 0.8675\n",
            "Epoch 29 / 100 \n",
            " - time: 1.344667911529541 - sq_loss: 0.5160400867462158 - tot_loss: 3.3252213075757027 - loss_class: 16772.35546875 - acc: 0.8930166666666667 - val_acc: 0.8679\n",
            "Epoch 30 / 100 \n",
            " - time: 1.3569164276123047 - sq_loss: 0.4077412188053131 - tot_loss: 3.141720801591873 - loss_class: 16766.271484375 - acc: 0.8931333333333333 - val_acc: 0.8683\n",
            "Epoch 31 / 100 \n",
            " - time: 1.3622868061065674 - sq_loss: 0.3295418918132782 - tot_loss: 3.0191875994205475 - loss_class: 16756.83984375 - acc: 0.8932666666666667 - val_acc: 0.8682\n",
            "Epoch 32 / 100 \n",
            " - time: 1.362945318222046 - sq_loss: 0.2723698318004608 - tot_loss: 2.7692594826221466 - loss_class: 16755.642578125 - acc: 0.8934666666666666 - val_acc: 0.8673\n",
            "Epoch 33 / 100 \n",
            " - time: 1.3527452945709229 - sq_loss: 0.22983022034168243 - tot_loss: 2.9728431329131126 - loss_class: 16747.26171875 - acc: 0.8936 - val_acc: 0.8667\n",
            "Epoch 34 / 100 \n",
            " - time: 1.3536665439605713 - sq_loss: 0.1978302150964737 - tot_loss: 2.5998923629522324 - loss_class: 16749.189453125 - acc: 0.8935833333333333 - val_acc: 0.867\n",
            "Epoch 35 / 100 \n",
            " - time: 1.3453645706176758 - sq_loss: 0.17339758574962616 - tot_loss: 2.4558807238936424 - loss_class: 16744.2109375 - acc: 0.8936833333333334 - val_acc: 0.8667\n",
            "Epoch 36 / 100 \n",
            " - time: 1.3626258373260498 - sq_loss: 0.1544128805398941 - tot_loss: 2.705700144171715 - loss_class: 16744.494140625 - acc: 0.8939333333333334 - val_acc: 0.8668\n",
            "Epoch 37 / 100 \n",
            " - time: 1.351222276687622 - sq_loss: 0.13935691118240356 - tot_loss: 2.3336866348981857 - loss_class: 16738.0625 - acc: 0.8939333333333334 - val_acc: 0.8666\n",
            "Epoch 38 / 100 \n",
            " - time: 1.345980167388916 - sq_loss: 0.12719279527664185 - tot_loss: 2.2051961719989777 - loss_class: 16736.46484375 - acc: 0.89405 - val_acc: 0.8667\n",
            "Epoch 39 / 100 \n",
            " - time: 1.3602371215820312 - sq_loss: 0.11717791110277176 - tot_loss: 2.2369424253702164 - loss_class: 16738.220703125 - acc: 0.8940333333333333 - val_acc: 0.8665\n",
            "Epoch 40 / 100 \n",
            " - time: 1.3673079013824463 - sq_loss: 0.10878366231918335 - tot_loss: 2.319304071366787 - loss_class: 16738.40625 - acc: 0.8939666666666667 - val_acc: 0.867\n",
            "Epoch 41 / 100 \n",
            " - time: 1.351315975189209 - sq_loss: 0.1016259491443634 - tot_loss: 3.260482557117939 - loss_class: 16728.01171875 - acc: 0.89405 - val_acc: 0.8666\n",
            "Epoch 42 / 100 \n",
            " - time: 1.3630776405334473 - sq_loss: 0.09543125331401825 - tot_loss: 2.0986536741256714 - loss_class: 16732.517578125 - acc: 0.8938833333333334 - val_acc: 0.8664\n",
            "Epoch 43 / 100 \n",
            " - time: 1.3583626747131348 - sq_loss: 0.08998975157737732 - tot_loss: 2.0958657152950764 - loss_class: 16729.365234375 - acc: 0.8941333333333333 - val_acc: 0.8663\n",
            "Epoch 44 / 100 \n",
            " - time: 1.3412463665008545 - sq_loss: 0.08515413850545883 - tot_loss: 1.9353619329631329 - loss_class: 16730.8125 - acc: 0.8939 - val_acc: 0.8659\n",
            "Epoch 45 / 100 \n",
            " - time: 1.3467118740081787 - sq_loss: 0.08082333952188492 - tot_loss: 1.888659443706274 - loss_class: 16727.65234375 - acc: 0.8940166666666667 - val_acc: 0.8657\n",
            "Epoch 46 / 100 \n",
            " - time: 1.3587422370910645 - sq_loss: 0.07690715789794922 - tot_loss: 1.8779423981904984 - loss_class: 16728.15234375 - acc: 0.89405 - val_acc: 0.866\n",
            "Epoch 47 / 100 \n",
            " - time: 1.3518040180206299 - sq_loss: 0.07333774864673615 - tot_loss: 1.9429074935615063 - loss_class: 16731.87109375 - acc: 0.8939666666666667 - val_acc: 0.8661\n",
            "Epoch 48 / 100 \n",
            " - time: 1.3524818420410156 - sq_loss: 0.07004249095916748 - tot_loss: 1.8611933216452599 - loss_class: 16730.390625 - acc: 0.8940166666666667 - val_acc: 0.8658\n",
            "Epoch 49 / 100 \n",
            " - time: 1.350236415863037 - sq_loss: 0.06699555367231369 - tot_loss: 1.7964636720716953 - loss_class: 16728.140625 - acc: 0.8941166666666667 - val_acc: 0.8653\n",
            "Epoch 50 / 100 \n",
            " - time: 1.3573908805847168 - sq_loss: 0.0641680657863617 - tot_loss: 1.756537176668644 - loss_class: 16730.201171875 - acc: 0.8940833333333333 - val_acc: 0.8653\n",
            "Epoch 51 / 100 \n",
            " - time: 1.3548705577850342 - sq_loss: 0.06153179705142975 - tot_loss: 1.7594252079725266 - loss_class: 16724.765625 - acc: 0.89405 - val_acc: 0.8654\n",
            "Epoch 52 / 100 \n",
            " - time: 1.3591740131378174 - sq_loss: 0.05906754732131958 - tot_loss: 2.332412116229534 - loss_class: 16729.986328125 - acc: 0.8941166666666667 - val_acc: 0.8656\n",
            "Epoch 53 / 100 \n",
            " - time: 1.3597681522369385 - sq_loss: 0.0567520372569561 - tot_loss: 2.863699082285166 - loss_class: 16722.8671875 - acc: 0.89425 - val_acc: 0.8653\n",
            "Epoch 54 / 100 \n",
            " - time: 1.343907117843628 - sq_loss: 0.05457223951816559 - tot_loss: 1.876537211239338 - loss_class: 16722.87890625 - acc: 0.8941 - val_acc: 0.8654\n",
            "Epoch 55 / 100 \n",
            " - time: 1.3688533306121826 - sq_loss: 0.0525171160697937 - tot_loss: 3.4191272482275963 - loss_class: 16733.20703125 - acc: 0.89405 - val_acc: 0.8651\n",
            "Epoch 56 / 100 \n",
            " - time: 1.3601229190826416 - sq_loss: 0.05056745558977127 - tot_loss: 1.7327726632356644 - loss_class: 16724.32421875 - acc: 0.8941 - val_acc: 0.8654\n",
            "Epoch 57 / 100 \n",
            " - time: 1.3563430309295654 - sq_loss: 0.04872705414891243 - tot_loss: 1.5538250207901 - loss_class: 16723.609375 - acc: 0.8940166666666667 - val_acc: 0.8653\n",
            "Epoch 58 / 100 \n",
            " - time: 1.3513221740722656 - sq_loss: 0.04698830470442772 - tot_loss: 1.8864550180733204 - loss_class: 16727.203125 - acc: 0.8940333333333333 - val_acc: 0.8648\n",
            "Epoch 59 / 100 \n",
            " - time: 1.3528645038604736 - sq_loss: 0.04533590376377106 - tot_loss: 1.6050463058054447 - loss_class: 16726.3515625 - acc: 0.8941666666666667 - val_acc: 0.8652\n",
            "Epoch 60 / 100 \n",
            " - time: 1.3593385219573975 - sq_loss: 0.04376593977212906 - tot_loss: 1.637184239923954 - loss_class: 16728.060546875 - acc: 0.8941333333333333 - val_acc: 0.865\n",
            "Epoch 61 / 100 \n",
            " - time: 1.3601417541503906 - sq_loss: 0.04227524250745773 - tot_loss: 1.5898667238652706 - loss_class: 16724.2578125 - acc: 0.8943333333333333 - val_acc: 0.8652\n",
            "Epoch 62 / 100 \n",
            " - time: 1.3527560234069824 - sq_loss: 0.04085531085729599 - tot_loss: 1.5674670487642288 - loss_class: 16730.1484375 - acc: 0.8943333333333333 - val_acc: 0.8649\n",
            "Epoch 63 / 100 \n",
            " - time: 1.354614019393921 - sq_loss: 0.03951164707541466 - tot_loss: 1.8062947988510132 - loss_class: 16723.77734375 - acc: 0.8943 - val_acc: 0.865\n",
            "Epoch 64 / 100 \n",
            " - time: 1.3529698848724365 - sq_loss: 0.03822818025946617 - tot_loss: 1.682882521301508 - loss_class: 16726.85546875 - acc: 0.89435 - val_acc: 0.8649\n",
            "Epoch 65 / 100 \n",
            " - time: 1.3567450046539307 - sq_loss: 0.037003207951784134 - tot_loss: 1.7403823733329773 - loss_class: 16728.439453125 - acc: 0.89445 - val_acc: 0.8647\n",
            "Epoch 66 / 100 \n",
            " - time: 1.373826265335083 - sq_loss: 0.035825666040182114 - tot_loss: 2.1325730364769697 - loss_class: 16722.515625 - acc: 0.8944666666666666 - val_acc: 0.8651\n",
            "Epoch 67 / 100 \n",
            " - time: 1.3557121753692627 - sq_loss: 0.034706961363554 - tot_loss: 1.4025645684450865 - loss_class: 16726.119140625 - acc: 0.89425 - val_acc: 0.8646\n",
            "Epoch 68 / 100 \n",
            " - time: 1.358537197113037 - sq_loss: 0.033617764711380005 - tot_loss: 1.3894714768975973 - loss_class: 16726.76953125 - acc: 0.89435 - val_acc: 0.8647\n",
            "Epoch 69 / 100 \n",
            " - time: 1.3588166236877441 - sq_loss: 0.03258557245135307 - tot_loss: 1.302627295255661 - loss_class: 16727.99609375 - acc: 0.8944666666666666 - val_acc: 0.8643\n",
            "Epoch 70 / 100 \n",
            " - time: 1.363673448562622 - sq_loss: 0.031592514365911484 - tot_loss: 1.339962275698781 - loss_class: 16727.16796875 - acc: 0.8942833333333333 - val_acc: 0.8644\n",
            "Epoch 71 / 100 \n",
            " - time: 1.358975887298584 - sq_loss: 0.03063988871872425 - tot_loss: 1.4381011445075274 - loss_class: 16725.935546875 - acc: 0.8941666666666667 - val_acc: 0.8645\n",
            "Epoch 72 / 100 \n",
            " - time: 1.3550477027893066 - sq_loss: 0.029728485271334648 - tot_loss: 1.8731466550379992 - loss_class: 16729.021484375 - acc: 0.8943 - val_acc: 0.8644\n",
            "Epoch 73 / 100 \n",
            " - time: 1.3500566482543945 - sq_loss: 0.028860393911600113 - tot_loss: 1.6160884257405996 - loss_class: 16722.10546875 - acc: 0.8943666666666666 - val_acc: 0.8646\n",
            "Epoch 74 / 100 \n",
            " - time: 1.3426802158355713 - sq_loss: 0.0280273649841547 - tot_loss: 1.9008346814662218 - loss_class: 16727.0390625 - acc: 0.8943333333333333 - val_acc: 0.8646\n",
            "Epoch 75 / 100 \n",
            " - time: 1.3651514053344727 - sq_loss: 0.027225365862250328 - tot_loss: 1.6670180540531874 - loss_class: 16724.111328125 - acc: 0.8944333333333333 - val_acc: 0.8644\n",
            "Epoch 76 / 100 \n",
            " - time: 1.353752613067627 - sq_loss: 0.02645457722246647 - tot_loss: 1.3243092130869627 - loss_class: 16723.404296875 - acc: 0.8942666666666667 - val_acc: 0.8641\n",
            "Epoch 77 / 100 \n",
            " - time: 1.3598442077636719 - sq_loss: 0.025717919692397118 - tot_loss: 1.2363124061375856 - loss_class: 16726.22265625 - acc: 0.8943833333333333 - val_acc: 0.8643\n",
            "Epoch 78 / 100 \n",
            " - time: 1.3616688251495361 - sq_loss: 0.025009935721755028 - tot_loss: 1.5080515537410975 - loss_class: 16726.5390625 - acc: 0.8943833333333333 - val_acc: 0.8645\n",
            "Epoch 79 / 100 \n",
            " - time: 1.358389139175415 - sq_loss: 0.024333477020263672 - tot_loss: 1.2862108461558819 - loss_class: 16726.93359375 - acc: 0.8942333333333333 - val_acc: 0.864\n",
            "Epoch 80 / 100 \n",
            " - time: 1.3544135093688965 - sq_loss: 0.023685524240136147 - tot_loss: 1.6179186571389437 - loss_class: 16721.423828125 - acc: 0.8941666666666667 - val_acc: 0.8645\n",
            "Epoch 81 / 100 \n",
            " - time: 1.363349437713623 - sq_loss: 0.023063231259584427 - tot_loss: 1.263403832912445 - loss_class: 16723.052734375 - acc: 0.89405 - val_acc: 0.8649\n",
            "Epoch 82 / 100 \n",
            " - time: 1.3526010513305664 - sq_loss: 0.02246072329580784 - tot_loss: 1.3210562858730555 - loss_class: 16723.66796875 - acc: 0.89415 - val_acc: 0.8649\n",
            "Epoch 83 / 100 \n",
            " - time: 1.3526604175567627 - sq_loss: 0.021876296028494835 - tot_loss: 1.24700759164989 - loss_class: 16723.1328125 - acc: 0.8941833333333333 - val_acc: 0.865\n",
            "Epoch 84 / 100 \n",
            " - time: 1.3414092063903809 - sq_loss: 0.02131003886461258 - tot_loss: 1.2670427970588207 - loss_class: 16727.4453125 - acc: 0.8941666666666667 - val_acc: 0.8652\n",
            "Epoch 85 / 100 \n",
            " - time: 1.341784954071045 - sq_loss: 0.02076411433517933 - tot_loss: 1.148185333237052 - loss_class: 16725.759765625 - acc: 0.8941666666666667 - val_acc: 0.8648\n",
            "Epoch 86 / 100 \n",
            " - time: 1.3675928115844727 - sq_loss: 0.020244091749191284 - tot_loss: 1.1752837505191565 - loss_class: 16724.58984375 - acc: 0.89415 - val_acc: 0.8652\n",
            "Epoch 87 / 100 \n",
            " - time: 1.363600492477417 - sq_loss: 0.019742680713534355 - tot_loss: 1.1985164321959019 - loss_class: 16727.1953125 - acc: 0.8941 - val_acc: 0.8654\n",
            "Epoch 88 / 100 \n",
            " - time: 1.3459744453430176 - sq_loss: 0.01925991289317608 - tot_loss: 1.1630658563226461 - loss_class: 16724.06640625 - acc: 0.8942333333333333 - val_acc: 0.8654\n",
            "Epoch 89 / 100 \n",
            " - time: 1.3565092086791992 - sq_loss: 0.0187948290258646 - tot_loss: 1.1066651437431574 - loss_class: 16724.568359375 - acc: 0.89435 - val_acc: 0.8652\n",
            "Epoch 90 / 100 \n",
            " - time: 1.3538415431976318 - sq_loss: 0.018347667530179024 - tot_loss: 1.838908489793539 - loss_class: 16721.03125 - acc: 0.8943833333333333 - val_acc: 0.8652\n",
            "Epoch 91 / 100 \n",
            " - time: 1.3488366603851318 - sq_loss: 0.0179129671305418 - tot_loss: 1.4727481584995985 - loss_class: 16725.9453125 - acc: 0.8941666666666667 - val_acc: 0.8654\n",
            "Epoch 92 / 100 \n",
            " - time: 1.361948013305664 - sq_loss: 0.017492150887846947 - tot_loss: 1.2042988473549485 - loss_class: 16723.06640625 - acc: 0.89425 - val_acc: 0.8652\n",
            "Epoch 93 / 100 \n",
            " - time: 1.3645389080047607 - sq_loss: 0.01708902046084404 - tot_loss: 1.2081893496215343 - loss_class: 16723.166015625 - acc: 0.8944833333333333 - val_acc: 0.8651\n",
            "Epoch 94 / 100 \n",
            " - time: 1.3489346504211426 - sq_loss: 0.01669970527291298 - tot_loss: 3.164154046215117 - loss_class: 16715.322265625 - acc: 0.8942166666666667 - val_acc: 0.865\n",
            "Epoch 95 / 100 \n",
            " - time: 1.3653161525726318 - sq_loss: 0.016323428601026535 - tot_loss: 1.3747839136049151 - loss_class: 16724.521484375 - acc: 0.8942833333333333 - val_acc: 0.865\n",
            "Epoch 96 / 100 \n",
            " - time: 1.3562116622924805 - sq_loss: 0.01595761999487877 - tot_loss: 1.606008617207408 - loss_class: 16723.53125 - acc: 0.89435 - val_acc: 0.8653\n",
            "Epoch 97 / 100 \n",
            " - time: 1.3525886535644531 - sq_loss: 0.01560516469180584 - tot_loss: 1.128621374256909 - loss_class: 16720.453125 - acc: 0.8942833333333333 - val_acc: 0.8652\n",
            "Epoch 98 / 100 \n",
            " - time: 1.3462445735931396 - sq_loss: 0.015266723930835724 - tot_loss: 1.1891002850607038 - loss_class: 16720.08984375 - acc: 0.8943833333333333 - val_acc: 0.8649\n",
            "Epoch 99 / 100 \n",
            " - time: 1.3540732860565186 - sq_loss: 0.014938457868993282 - tot_loss: 1.3936043865978718 - loss_class: 16725.34765625 - acc: 0.8944333333333333 - val_acc: 0.8648\n",
            "Epoch 100 / 100 \n",
            " - time: 1.353142499923706 - sq_loss: 0.014619109220802784 - tot_loss: 1.1578451003879309 - loss_class: 16724.361328125 - acc: 0.8944333333333333 - val_acc: 0.8651\n",
            "\n",
            " The total time spent is: 135.51915216445923 s\n",
            "\n",
            " The best accuracy reached is 0.8683\n",
            "\n",
            " The time needed to reach the best accuracy is 39.26098847389221 s\n",
            "\n",
            " The best accuracy has been reached after 29 iterations\n"
          ]
        }
      ]
    },
    {
      "cell_type": "code",
      "source": [
        "pickle_results(\"Coordinate-F-MNIST-3-1500-sq\",loss, loss_class , opt_accuracy,\n",
        "               accuracy_test, Ws, bs, best_alpha, best_gamma)"
      ],
      "metadata": {
        "id": "m6PWXtgf2-v8"
      },
      "execution_count": 14,
      "outputs": []
    },
    {
      "cell_type": "markdown",
      "source": [
        "# Analyis of the results"
      ],
      "metadata": {
        "id": "0JYv4fCSKAgr"
      }
    },
    {
      "cell_type": "code",
      "source": [
        "## We plot the train losses\n",
        "\n",
        "plot_train_losses(loss.shape[0], loss, 'Coordinate_descent_F-MNIST-3-1500-sq')"
      ],
      "metadata": {
        "id": "lar28JQyJ5zi",
        "colab": {
          "base_uri": "https://localhost:8080/",
          "height": 295
        },
        "outputId": "dd7b97f2-6835-42df-96e5-2c50fa960f82"
      },
      "execution_count": 15,
      "outputs": [
        {
          "output_type": "display_data",
          "data": {
            "text/plain": [
              "<Figure size 432x288 with 1 Axes>"
            ],
            "image/png": "[encoded data removed]"
          },
          "metadata": {
            "needs_background": "light"
          }
        }
      ]
    },
    {
      "cell_type": "code",
      "source": [
        "plot_convergence_rate_losses(loss.shape[0], loss, 'Coordinate_descent_F-MNIST-3-1500-sq_rate')"
      ],
      "metadata": {
        "colab": {
          "base_uri": "https://localhost:8080/",
          "height": 435
        },
        "id": "soIlWJLuFbWj",
        "outputId": "80df9a27-8d6f-4148-b0b8-29991ced2cfe"
      },
      "execution_count": 16,
      "outputs": [
        {
          "output_type": "display_data",
          "data": {
            "text/plain": [
              "<Figure size 720x432 with 2 Axes>"
            ],
            "image/png": "[encoded data removed]"
          },
          "metadata": {
            "needs_background": "light"
          }
        }
      ]
    },
    {
      "cell_type": "code",
      "source": [
        "## We plot the test accuracy\n",
        "\n",
        "plot_test_accuracy(accuracy_test.shape[0], accuracy_test, 'Coordinate_descent_F-MNIST-3-1500-sq')\n"
      ],
      "metadata": {
        "id": "hmBh9-j3KFVn",
        "colab": {
          "base_uri": "https://localhost:8080/",
          "height": 295
        },
        "outputId": "10051ee8-ec45-4e27-e03d-11206a9a5032"
      },
      "execution_count": 17,
      "outputs": [
        {
          "output_type": "display_data",
          "data": {
            "text/plain": [
              "<Figure size 432x288 with 1 Axes>"
            ],
            "image/png": "[encoded data removed]"
          },
          "metadata": {
            "needs_background": "light"
          }
        }
      ]
    },
    {
      "cell_type": "code",
      "source": [
        ""
      ],
      "metadata": {
        "id": "wkiUnN9DlJZP"
      },
      "execution_count": 17,
      "outputs": []
    }
  ]
}