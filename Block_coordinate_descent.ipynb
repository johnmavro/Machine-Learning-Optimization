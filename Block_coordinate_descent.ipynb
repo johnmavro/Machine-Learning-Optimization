{
  "cells": [
    {
      "cell_type": "code",
      "execution_count": 23,
      "metadata": {
        "colab": {
          "base_uri": "https://localhost:8080/"
        },
        "id": "-KDbRlCKv4U8",
        "outputId": "ad4f0d91-830a-4e93-f065-a6d14a0eca86"
      },
      "outputs": [
        {
          "output_type": "stream",
          "name": "stdout",
          "text": [
            "PyTorch Version: 1.10.0+cu111\n",
            "Torchvision Version: 0.11.1+cu111\n",
            "GPU is available? True\n"
          ]
        }
      ],
      "source": [
        "import numpy as np\n",
        "import pandas as pd\n",
        "import torch\n",
        "import torch.nn as nn\n",
        "import torch.nn.functional as F\n",
        "from torch.autograd import Variable\n",
        "import torch.optim as optim\n",
        "import torchvision\n",
        "from torchvision import datasets, models, transforms, utils\n",
        "from torch.utils.data import Dataset, DataLoader\n",
        "import matplotlib.pyplot as plt\n",
        "import time\n",
        "import os\n",
        "import copy\n",
        "import math\n",
        "\n",
        "print(\"PyTorch Version:\", torch.__version__)\n",
        "print(\"Torchvision Version:\", torchvision.__version__)\n",
        "print(\"GPU is available?\", torch.cuda.is_available())"
      ]
    },
    {
      "cell_type": "code",
      "execution_count": 24,
      "metadata": {
        "id": "nYF1cnvPwthx"
      },
      "outputs": [],
      "source": [
        "dtype = torch.float\n",
        "device = torch.device(\"cuda:0\" if torch.cuda.is_available() else \"cpu\")"
      ]
    },
    {
      "cell_type": "markdown",
      "metadata": {
        "id": "WqvTMJAbw74Q"
      },
      "source": [
        "# Imported datasets\n",
        "For the testing and comparison of our algorithms we will use the following datasets:\n",
        "\n",
        "1. MNIST"
      ]
    },
    {
      "cell_type": "code",
      "execution_count": 25,
      "metadata": {
        "id": "icE91aqaw110"
      },
      "outputs": [],
      "source": [
        "ts = transforms.Compose([transforms.ToTensor(), transforms.Normalize((0,), (1,))])\n",
        "mnist_trainset = datasets.MNIST('../data', train=True, download=True, transform=ts)\n",
        "mnist_testset = datasets.MNIST(root='../data', train=False, download=True, transform=ts)"
      ]
    },
    {
      "cell_type": "markdown",
      "metadata": {
        "id": "2PEt-flsyEKM"
      },
      "source": [
        "# Train - test split\n",
        "\n",
        "Code taken from https://github.com/timlautk/BCD-for-DNNs-PyTorch/blob/master/bcd_dnn_mlp_mnist.ipynb"
      ]
    },
    {
      "cell_type": "code",
      "execution_count": 26,
      "metadata": {
        "id": "hVoD2jFeg-69"
      },
      "outputs": [],
      "source": [
        "#train-set initialization\n",
        "x_d0 = mnist_trainset[0][0].size()[0]\n",
        "x_d1 = mnist_trainset[0][0].size()[1]\n",
        "x_d2 = mnist_trainset[0][0].size()[2]\n",
        "N = x_d3 = len(mnist_trainset)\n",
        "K = 10\n",
        "x_train = torch.empty((N,x_d0*x_d1*x_d2), device=device)\n",
        "y_train = torch.empty(N, dtype=torch.long)\n",
        "for i in range(N): \n",
        "    x_train[i,:] = torch.reshape(mnist_trainset[i][0], (1, x_d0*x_d1*x_d2))\n",
        "    y_train[i] = mnist_trainset[i][1]\n",
        "x_train = torch.t(x_train)\n",
        "#y_one_hot = torch.zeros(N, K).scatter_(1, torch.reshape(y_train, (N, 1)), 1)\n",
        "#y_one_hot = torch.t(y_one_hot).to(device=device)\n",
        "y_train = y_train.to(device=device)\n",
        "\n",
        "#test-set initialization\n",
        "N_test = x_d3_test = len(mnist_testset)\n",
        "x_test = torch.empty((N_test,x_d0*x_d1*x_d2), device=device)\n",
        "y_test = torch.empty(N_test, dtype=torch.long)\n",
        "for i in range(N_test): \n",
        "    x_test[i,:] = torch.reshape(mnist_testset[i][0], (1, x_d0*x_d1*x_d2))\n",
        "    y_test[i] = mnist_testset[i][1]\n",
        "x_test = torch.t(x_test)\n",
        "#y_test_one_hot = torch.zeros(N_test, K).scatter_(1, torch.reshape(y_test, (N_test, 1)), 1)\n",
        "#y_test_one_hot = torch.t(y_test_one_hot).to(device=device)\n",
        "y_test = y_test.to(device=device)"
      ]
    },
    {
      "cell_type": "markdown",
      "metadata": {
        "id": "Me_6E9_Hxsxw"
      },
      "source": [
        "# Architecture initialization\n",
        "\n",
        "For the MultiLayerPerceptron we have the parameters **input_size** , **hidden_size**,**output_size** corresponding to the size of the input layer, the hidden layer and the output layer, respectively.\n",
        "\n",
        "The MLP only has 3 layers like https://github.com/timlautk/BCD-for-DNNs-PyTorch/blob/master/bcd_dnn_mlp_mnist.ipynb as a starting point.\n",
        "\n",
        "Also we use ReLU currently for the same reason."
      ]
    },
    {
      "cell_type": "code",
      "execution_count": 27,
      "metadata": {
        "id": "hlRg4UWiezMt"
      },
      "outputs": [],
      "source": [
        "input_size = 28*28\n",
        "hidden_size = 1500\n",
        "output_size = 10"
      ]
    },
    {
      "cell_type": "code",
      "execution_count": 28,
      "metadata": {
        "id": "0HQgkqHxr_zv"
      },
      "outputs": [],
      "source": [
        "torch.manual_seed(32)\n",
        "d0 = input_size\n",
        "d1 = d2 = 1500\n",
        "d3 = output_size \n",
        "\n",
        "# The layers are: input + 2 hidden + output\n",
        "\n",
        "# we represent the weigths of each layer as matrices with d_{i-1} columns and d_{i} rows\n",
        "\n",
        "# Weight initialization (we replicate pytorch initialization)\n",
        "std_1 = math.sqrt(1/d0)\n",
        "W1 = torch.FloatTensor(d1, d0).uniform_(-std_1, std_1)\n",
        "b1 = torch.FloatTensor(d1, 1).uniform_(-std_1, std_1)\n",
        "\n",
        "# we move them to GPU\n",
        "b1 = b1.to('cuda:0')\n",
        "W1 = W1.to('cuda:0')\n",
        "\n",
        "\n",
        "std_2 = math.sqrt(1/d1)\n",
        "W2 = torch.FloatTensor(d2, d1).uniform_(-std_2, std_2)\n",
        "b2 = torch.FloatTensor(d2, 1).uniform_(-std_2, std_2)\n",
        "\n",
        "# we move them to GPU\n",
        "b2 = b2.to('cuda:0')\n",
        "W2 = W2.to('cuda:0')\n",
        "\n",
        "std_3 = math.sqrt(1/d2)\n",
        "W3 = torch.FloatTensor(d3, d2).uniform_(-std_3, std_3)\n",
        "b3 = torch.FloatTensor(d3, 1).uniform_(-std_3, std_3)\n",
        "\n",
        "# we move them to GPU\n",
        "b3 = b3.to('cuda:0')\n",
        "W3 = W3.to('cuda:0')\n",
        "\n",
        "\n",
        "U1 = torch.addmm(b1.repeat(1, N), W1, x_train) # equivalent to W1@x_train+b1.repeat(1,N)\n",
        "V1 = nn.ReLU()(U1)\n",
        "U2 = torch.addmm(b2.repeat(1, N), W2, V1)\n",
        "V2 = nn.ReLU()(U2)\n",
        "U3 = torch.addmm(b3.repeat(1, N), W3, V2)\n",
        "V3 = U3\n",
        "\n",
        "# constant initializations\n",
        "gamma = 1\n",
        "gamma1 = gamma2 = gamma3 = gamma4 = gamma\n",
        "\n",
        "rho = gamma\n",
        "rho1 = rho2 = rho3 = rho4 = rho\n",
        "\n",
        "\n",
        "alpha = 5\n",
        "alpha1 = alpha2 = alpha3 = alpha4 = alpha5 = alpha6 = alpha7 \\\n",
        "= alpha8 = alpha9 = alpha10 = alpha\n",
        "\n",
        "# initialization of the vectors of losses and accuracies\n",
        "niter = 30\n",
        "loss1 = np.empty(niter)\n",
        "loss2 = np.empty(niter)\n",
        "accuracy_train = np.empty(niter)\n",
        "accuracy_test = np.empty(niter)\n",
        "time1 = np.empty(niter)"
      ]
    },
    {
      "cell_type": "code",
      "execution_count": 29,
      "metadata": {
        "id": "TFQBbrVor_zy"
      },
      "outputs": [],
      "source": [
        "def updateV_js(U1,U2,W,b,rho,gamma): \n",
        "    _, d = W.size()\n",
        "    I = torch.eye(d, device=device)\n",
        "    U1 = nn.ReLU()(U1)\n",
        "    _, col_U2 = U2.size()\n",
        "    Vstar = torch.mm(torch.inverse(rho*(torch.mm(torch.t(W),W))+gamma*I), rho*torch.mm(torch.t(W),U2-b.repeat(1,col_U2))+gamma*U1)\n",
        "    return Vstar"
      ]
    },
    {
      "cell_type": "code",
      "execution_count": 30,
      "metadata": {
        "id": "A7sdqHftr_zz"
      },
      "outputs": [],
      "source": [
        "def updateWb_js(U, V, W, b, alpha, rho): \n",
        "    d,N = V.size()\n",
        "    I = torch.eye(d, device=device)\n",
        "    _, col_U = U.size()\n",
        "    Wstar = torch.mm(alpha*W+rho*torch.mm(U-b.repeat(1,col_U),torch.t(V)),torch.inverse(alpha*I+rho*(torch.mm(V,torch.t(V)))))\n",
        "    bstar = (alpha*b+rho*torch.sum(U-torch.mm(W,V), dim=1).reshape(b.size()))/(rho*N+alpha)\n",
        "    return Wstar, bstar"
      ]
    },
    {
      "cell_type": "code",
      "execution_count": 31,
      "metadata": {
        "id": "IX88WYSQr_z0"
      },
      "outputs": [],
      "source": [
        "def relu_prox(a, b, gamma, d, N):\n",
        "    val = torch.empty(d,N, device=device)\n",
        "    x = (a+gamma*b)/(1+gamma)\n",
        "    y = torch.min(b,torch.zeros(d,N, device=device))\n",
        "    # torch.zeros(d,N, device=device)\n",
        "    val = torch.where(a+gamma*b < 0, y, torch.zeros(d,N, device=device))\n",
        "    val = torch.where(((a+gamma*b >= 0) & (b >=0)) | ((a*(gamma-np.sqrt(gamma*(gamma+1))) <= gamma*b) & (b < 0)), x, val)\n",
        "    val = torch.where((-a <= gamma*b) & (gamma*b <= a*(gamma-np.sqrt(gamma*(gamma+1)))), b, val)\n",
        "    return val"
      ]
    },
    {
      "cell_type": "code",
      "execution_count": 32,
      "metadata": {
        "colab": {
          "base_uri": "https://localhost:8080/"
        },
        "id": "E_dJSsAAr_z1",
        "outputId": "e4669984-1d12-4e3f-cfcf-70fac134ef89"
      },
      "outputs": [
        {
          "output_type": "stream",
          "name": "stdout",
          "text": [
            "Train on 60000 samples, validate on 10000 samples\n",
            "Epoch 1 / 30 \n",
            " - time: 2.554870128631592 - sq_loss: 23003.52734375 - tot_loss: 23030.073418339714 - acc: 0.5315833333333333 - val_acc: 0.5445\n",
            "Epoch 2 / 30 \n",
            " - time: 2.6513688564300537 - sq_loss: 17373.271484375 - tot_loss: 17403.772848347202 - acc: 0.8989 - val_acc: 0.8972\n",
            "Epoch 3 / 30 \n",
            " - time: 2.620647430419922 - sq_loss: 13304.3232421875 - tot_loss: 13323.82228602469 - acc: 0.9394166666666667 - val_acc: 0.938\n",
            "Epoch 4 / 30 \n",
            " - time: 2.607309103012085 - sq_loss: 10252.7021484375 - tot_loss: 10266.28981397301 - acc: 0.9478166666666666 - val_acc: 0.9457\n",
            "Epoch 5 / 30 \n",
            " - time: 2.6049370765686035 - sq_loss: 7920.85205078125 - tot_loss: 7931.7505920007825 - acc: 0.9509 - val_acc: 0.9478\n",
            "Epoch 6 / 30 \n",
            " - time: 2.586470127105713 - sq_loss: 6125.34375 - tot_loss: 6134.874231629074 - acc: 0.9532166666666667 - val_acc: 0.9491\n",
            "Epoch 7 / 30 \n",
            " - time: 2.6214077472686768 - sq_loss: 4738.5498046875 - tot_loss: 4747.38935174793 - acc: 0.9548333333333333 - val_acc: 0.95\n",
            "Epoch 8 / 30 \n",
            " - time: 2.6283769607543945 - sq_loss: 3666.25927734375 - tot_loss: 3674.7439975067973 - acc: 0.9557 - val_acc: 0.9502\n",
            "Epoch 9 / 30 \n",
            " - time: 2.590953826904297 - sq_loss: 2836.875244140625 - tot_loss: 2845.2681821137667 - acc: 0.95655 - val_acc: 0.9508\n",
            "Epoch 10 / 30 \n",
            " - time: 2.6613991260528564 - sq_loss: 2195.355224609375 - tot_loss: 2203.817775338888 - acc: 0.9576333333333333 - val_acc: 0.9511\n",
            "Epoch 11 / 30 \n",
            " - time: 2.5836124420166016 - sq_loss: 1699.13916015625 - tot_loss: 1707.7072495371103 - acc: 0.9583166666666667 - val_acc: 0.9511\n",
            "Epoch 12 / 30 \n",
            " - time: 2.5969386100769043 - sq_loss: 1315.3060302734375 - tot_loss: 1324.0249388813972 - acc: 0.9591166666666666 - val_acc: 0.9514\n",
            "Epoch 13 / 30 \n",
            " - time: 2.5589981079101562 - sq_loss: 1018.3915405273438 - tot_loss: 1027.2637354135513 - acc: 0.9597333333333333 - val_acc: 0.9518\n",
            "Epoch 14 / 30 \n",
            " - time: 2.6607754230499268 - sq_loss: 788.694091796875 - tot_loss: 797.7289862334728 - acc: 0.9603833333333334 - val_acc: 0.9521\n",
            "Epoch 15 / 30 \n",
            " - time: 2.6028263568878174 - sq_loss: 610.9811401367188 - tot_loss: 620.1616803705692 - acc: 0.9608666666666666 - val_acc: 0.9521\n",
            "Epoch 16 / 30 \n",
            " - time: 2.5995891094207764 - sq_loss: 473.4624938964844 - tot_loss: 482.7646761536598 - acc: 0.9613166666666667 - val_acc: 0.9525\n",
            "Epoch 17 / 30 \n",
            " - time: 2.627910614013672 - sq_loss: 367.03533935546875 - tot_loss: 376.4307061135769 - acc: 0.9617666666666667 - val_acc: 0.9537\n",
            "Epoch 18 / 30 \n",
            " - time: 2.603738784790039 - sq_loss: 284.64862060546875 - tot_loss: 294.12362802028656 - acc: 0.96245 - val_acc: 0.9541\n",
            "Epoch 19 / 30 \n",
            " - time: 2.598127841949463 - sq_loss: 220.85931396484375 - tot_loss: 230.418847322464 - acc: 0.96295 - val_acc: 0.9546\n",
            "Epoch 20 / 30 \n",
            " - time: 2.590794563293457 - sq_loss: 171.45733642578125 - tot_loss: 180.98920184373856 - acc: 0.9634 - val_acc: 0.9546\n",
            "Epoch 21 / 30 \n",
            " - time: 2.579378128051758 - sq_loss: 133.1878204345703 - tot_loss: 142.7088613808155 - acc: 0.9639166666666666 - val_acc: 0.9551\n",
            "Epoch 22 / 30 \n",
            " - time: 2.6663646697998047 - sq_loss: 103.5311279296875 - tot_loss: 113.00057828426361 - acc: 0.9645 - val_acc: 0.9552\n",
            "Epoch 23 / 30 \n",
            " - time: 2.601926803588867 - sq_loss: 80.54048156738281 - tot_loss: 89.96163958311081 - acc: 0.9649166666666666 - val_acc: 0.9554\n",
            "Epoch 24 / 30 \n",
            " - time: 2.6003096103668213 - sq_loss: 62.714637756347656 - tot_loss: 72.0480215549469 - acc: 0.9652833333333334 - val_acc: 0.9556\n",
            "Epoch 25 / 30 \n",
            " - time: 2.5890884399414062 - sq_loss: 48.88029861450195 - tot_loss: 58.1300393640995 - acc: 0.9656833333333333 - val_acc: 0.9557\n",
            "Epoch 26 / 30 \n",
            " - time: 2.6266541481018066 - sq_loss: 38.143802642822266 - tot_loss: 47.28878191113472 - acc: 0.9660833333333333 - val_acc: 0.9557\n",
            "Epoch 27 / 30 \n",
            " - time: 2.5407979488372803 - sq_loss: 29.80605697631836 - tot_loss: 38.83060109615326 - acc: 0.9665333333333334 - val_acc: 0.9561\n",
            "Epoch 28 / 30 \n",
            " - time: 2.597102165222168 - sq_loss: 23.325279235839844 - tot_loss: 32.25201365351677 - acc: 0.9667333333333333 - val_acc: 0.9562\n",
            "Epoch 29 / 30 \n",
            " - time: 2.6024436950683594 - sq_loss: 18.286569595336914 - tot_loss: 27.065611958503723 - acc: 0.967 - val_acc: 0.9563\n",
            "Epoch 30 / 30 \n",
            " - time: 2.633315324783325 - sq_loss: 14.365422248840332 - tot_loss: 23.013432294130325 - acc: 0.9671333333333333 - val_acc: 0.9563\n"
          ]
        }
      ],
      "source": [
        "torch.cuda.empty_cache()\n",
        "\n",
        "# we perform one-hot encoding on the y-> y_one_hot will be a tensor of dimension 10*training_samples, for each sample there\n",
        "# will be a one in the row corresponding to the class.\n",
        "\n",
        "y_one_hot = torch.zeros(N, K).to(device = device).scatter_(1, torch.reshape(y_train,(N,1)), 1)\n",
        "y_one_hot = torch.t(y_one_hot).to(device=device)\n",
        "\n",
        "y_test_one_hot = torch.zeros(N_test, K).to(device = device).scatter_(1, torch.reshape(y_test,(N_test,1)), 1)\n",
        "y_test_one_hot = torch.t(y_test_one_hot).to(device=device)\n",
        "\n",
        "# Iterations\n",
        "print('Train on', N, 'samples, validate on', N_test, 'samples')\n",
        "for k in range(niter):\n",
        "\n",
        "    start = time.time()\n",
        "\n",
        "    # update V3\n",
        "    V3 = (y_one_hot + gamma3*U3 + alpha1*V3)/(1+ gamma3 + alpha1)\n",
        "    \n",
        "    # update U3 \n",
        "    U3 = (gamma3*V3 + rho3*(torch.mm(W3,V2) + b3.repeat(1,N)))/(gamma3 + rho3)\n",
        "\n",
        "    # update W3 and b3\n",
        "    W3, b3 = updateWb_js(U3,V2,W3,b3,alpha1,rho3)\n",
        "    \n",
        "    # update V2\n",
        "    V2 = updateV_js(U2,U3,W3,b3,rho3,gamma2)\n",
        "    \n",
        "    # update U2\n",
        "    U2 = relu_prox(V2,(rho2*torch.addmm(b2.repeat(1,N), W2, V1) + alpha2*U2)/(rho2 + alpha2),(rho2 + alpha2)/gamma2,d2,N)\n",
        "    \n",
        "    # update W2 and b2\n",
        "    W2, b2 = updateWb_js(U2,V1,W2,b2,alpha3,rho2)\n",
        "    \n",
        "    # update V1\n",
        "    V1 = updateV_js(U1,U2,W2,b2,rho2,gamma1)\n",
        "    \n",
        "    # update U1\n",
        "    U1 = relu_prox(V1,(rho1*torch.addmm(b1.repeat(1,N), W1, x_train) + alpha7*U1)/(rho1 + alpha7),(rho1 + alpha7)/gamma1,d1,N)\n",
        "    \n",
        "    # update W1 and b1\n",
        "    W1, b1 = updateWb_js(U1,x_train,W1,b1,alpha8,rho1)\n",
        "\n",
        "    a1_train = nn.ReLU()(torch.addmm(b1.repeat(1, N), W1, x_train))\n",
        "    a2_train = nn.ReLU()(torch.addmm(b2.repeat(1, N), W2, a1_train))\n",
        "    pred = torch.argmax(torch.addmm(b3.repeat(1, N), W3, a2_train), dim=0)\n",
        "\n",
        "    a1_test = nn.ReLU()(torch.addmm(b1.repeat(1, N_test), W1, x_test))\n",
        "    a2_test = nn.ReLU()(torch.addmm(b2.repeat(1, N_test), W2, a1_test))\n",
        "    pred_test = torch.argmax(torch.addmm(b3.repeat(1, N_test), W3, a2_test), dim=0)\n",
        "    \n",
        "    loss1[k] = gamma3/2*torch.pow(torch.dist(V3,y_one_hot,2),2).cpu().numpy()\n",
        "    loss2[k] = loss1[k] + rho1/2*torch.pow(torch.dist(torch.addmm(b1.repeat(1,N), W1, x_train),U1,2),2).cpu().numpy() \\\n",
        "    +rho2/2*torch.pow(torch.dist(torch.addmm(b2.repeat(1,N), W2, V1),U2,2),2).cpu().numpy() \\\n",
        "    +rho3/2*torch.pow(torch.dist(torch.addmm(b3.repeat(1,N), W3, V2),U3,2),2).cpu().numpy()\n",
        "    \n",
        "    # compute training accuracy\n",
        "    correct_train = pred == y_train\n",
        "    accuracy_train[k] = np.mean(correct_train.cpu().numpy())\n",
        "    \n",
        "    # compute validation accuracy\n",
        "    correct_test = pred_test == y_test\n",
        "    accuracy_test[k] = np.mean(correct_test.cpu().numpy())\n",
        "    \n",
        "    # compute training time\n",
        "    stop = time.time()\n",
        "    duration = stop - start\n",
        "    time1[k] = duration\n",
        "    \n",
        "    # print results\n",
        "    print('Epoch', k + 1, '/', niter, '\\n', \n",
        "          '-', 'time:', time1[k], '-', 'sq_loss:', loss1[k], '-', 'tot_loss:', loss2[k], \n",
        "          '-', 'acc:', accuracy_train[k], '-', 'val_acc:', accuracy_test[k])"
      ]
    },
    {
      "cell_type": "markdown",
      "metadata": {
        "id": "WrFu1jgT3kLz"
      },
      "source": [
        "# Training\n",
        "\n",
        "Note: Fix it so that it moves everything to device in the following function and that it does the label sample split here"
      ]
    },
    {
      "cell_type": "code",
      "source": [
        "## We plot the train losses\n",
        "\n",
        "plt.xlabel('epochs')\n",
        "plt.ylabel('train losses')\n",
        "plt.plot(np.arange(0,loss1.shape[0]), loss1)\n",
        "plt.show()"
      ],
      "metadata": {
        "colab": {
          "base_uri": "https://localhost:8080/",
          "height": 279
        },
        "id": "eFw-MbOat5p6",
        "outputId": "ee4d835a-7da5-40fd-c1d0-cc4301ff0389"
      },
      "execution_count": 33,
      "outputs": [
        {
          "output_type": "display_data",
          "data": {
            "text/plain": [
              "<Figure size 432x288 with 1 Axes>"
            ],
            "image/png": "[encoded data removed]"
          },
          "metadata": {
            "needs_background": "light"
          }
        }
      ]
    },
    {
      "cell_type": "code",
      "source": [
        "## We plot the test accuracy\n",
        "\n",
        "plt.xlabel('epochs')\n",
        "plt.ylabel('test accuracy')\n",
        "plt.plot(np.arange(0, accuracy_test.shape[0]), accuracy_test)\n",
        "plt.show()"
      ],
      "metadata": {
        "colab": {
          "base_uri": "https://localhost:8080/",
          "height": 279
        },
        "id": "2gF9-R3-uB3c",
        "outputId": "f113638b-6a12-4fd3-fec6-39fedca96f0f"
      },
      "execution_count": 34,
      "outputs": [
        {
          "output_type": "display_data",
          "data": {
            "text/plain": [
              "<Figure size 432x288 with 1 Axes>"
            ],
            "image/png": "[encoded data removed]"
          },
          "metadata": {
            "needs_background": "light"
          }
        }
      ]
    }
  ],
  "metadata": {
    "accelerator": "GPU",
    "colab": {
      "collapsed_sections": [],
      "machine_shape": "hm",
      "name": "Block_coordinate_descent.ipynb",
      "provenance": []
    },
    "kernelspec": {
      "display_name": "Python 3 (ipykernel)",
      "language": "python",
      "name": "python3"
    },
    "language_info": {
      "codemirror_mode": {
        "name": "ipython",
        "version": 3
      },
      "file_extension": ".py",
      "mimetype": "text/x-python",
      "name": "python",
      "nbconvert_exporter": "python",
      "pygments_lexer": "ipython3",
      "version": "3.8.8"
    }
  },
  "nbformat": 4,
  "nbformat_minor": 0
}