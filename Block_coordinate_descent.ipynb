{
 "cells": [
  {
   "cell_type": "code",
   "execution_count": 21,
   "metadata": {
    "colab": {
     "base_uri": "https://localhost:8080/"
    },
    "id": "-KDbRlCKv4U8",
    "outputId": "12ce8c6d-cb9a-46b9-f66e-2fc0768e59f7"
   },
   "outputs": [
    {
     "name": "stdout",
     "output_type": "stream",
     "text": [
      "PyTorch Version: 1.11.0+cu113\n",
      "Torchvision Version: 0.12.0+cu113\n",
      "GPU is available? True\n"
     ]
    }
   ],
   "source": [
    "import numpy as np\n",
    "import pandas as pd\n",
    "import torch\n",
    "import torch.nn as nn\n",
    "import torch.nn.functional as F\n",
    "from torch.autograd import Variable\n",
    "import torch.optim as optim\n",
    "import torchvision\n",
    "from torchvision import datasets, models, transforms, utils\n",
    "from torch.utils.data import Dataset, DataLoader\n",
    "import matplotlib.pyplot as plt\n",
    "import time\n",
    "import os\n",
    "import copy\n",
    "import math\n",
    "\n",
    "from utilities import *\n",
    "from block_coordinate_functions import *\n",
    "\n",
    "print(\"PyTorch Version:\", torch.__version__)\n",
    "print(\"Torchvision Version:\", torchvision.__version__)\n",
    "print(\"GPU is available?\", torch.cuda.is_available())"
   ]
  },
  {
   "cell_type": "code",
   "execution_count": 22,
   "metadata": {
    "id": "nYF1cnvPwthx"
   },
   "outputs": [],
   "source": [
    "dtype = torch.float\n",
    "device = torch.device(\"cuda:0\" if torch.cuda.is_available() else \"cpu\")"
   ]
  },
  {
   "cell_type": "markdown",
   "metadata": {
    "id": "WqvTMJAbw74Q"
   },
   "source": [
    "# Imported datasets\n",
    "For the testing and comparison of our algorithms we will use the following datasets:\n",
    "\n",
    "1. MNIST"
   ]
  },
  {
   "cell_type": "code",
   "execution_count": 23,
   "metadata": {
    "id": "icE91aqaw110"
   },
   "outputs": [],
   "source": [
    "ts = transforms.Compose([transforms.ToTensor(), transforms.Normalize((0,), (1,))])\n",
    "mnist_trainset = datasets.MNIST('../data', train=True, download=True, transform=ts)\n",
    "mnist_testset = datasets.MNIST(root='../data', train=False, download=True, transform=ts)"
   ]
  },
  {
   "cell_type": "markdown",
   "metadata": {
    "id": "2PEt-flsyEKM"
   },
   "source": [
    "# Train - test split\n",
    "\n",
    "Code taken from https://github.com/timlautk/BCD-for-DNNs-PyTorch/blob/master/bcd_dnn_mlp_mnist.ipynb"
   ]
  },
  {
   "cell_type": "code",
   "execution_count": 24,
   "metadata": {
    "id": "hVoD2jFeg-69"
   },
   "outputs": [],
   "source": [
    "x_train, y_train, x_test, y_test = train_test_split(mnist_trainset, mnist_testset)\n",
    "\n",
    "# we move to device to use GPU\n",
    "\n",
    "x_train = x_train.to(device = device)\n",
    "x_test = x_test.to(device = device)\n",
    "y_train = y_train.to(device = device)\n",
    "y_test = y_test.to(device = device)\n",
    "\n",
    "# we perform one-hot encoding on the y-> y_one_hot will be a tensor of dimension 10*training_samples, for each sample there\n",
    "# will be a one in the row corresponding to the class.\n",
    "\n",
    "y_one_hot = torch.zeros(N, K).to(device = device).scatter_(1, torch.reshape(y_train,(N,1)), 1)\n",
    "y_one_hot = torch.t(y_one_hot).to(device=device)\n",
    "\n",
    "y_test_one_hot = torch.zeros(N_test, K).to(device = device).scatter_(1, torch.reshape(y_test,(N_test,1)), 1)\n",
    "y_test_one_hot = torch.t(y_test_one_hot).to(device=device)"
   ]
  },
  {
   "cell_type": "markdown",
   "metadata": {
    "id": "Me_6E9_Hxsxw"
   },
   "source": [
    "# Architecture initialization\n",
    "\n",
    "For the MultiLayerPerceptron we have the parameters **input_size** , **hidden_size**,**output_size** corresponding to the size of the input layer, the hidden layer and the output layer, respectively.\n",
    "\n",
    "The MLP only has 3 layers like https://github.com/timlautk/BCD-for-DNNs-PyTorch/blob/master/bcd_dnn_mlp_mnist.ipynb as a starting point.\n",
    "\n",
    "Also we use ReLU currently for the same reason."
   ]
  },
  {
   "cell_type": "code",
   "execution_count": 25,
   "metadata": {
    "id": "hlRg4UWiezMt"
   },
   "outputs": [],
   "source": [
    "input_size = 28*28\n",
    "hidden_size = 1500\n",
    "output_size = 10"
   ]
  },
  {
   "cell_type": "code",
   "execution_count": 26,
   "metadata": {
    "id": "0HQgkqHxr_zv"
   },
   "outputs": [],
   "source": [
    "torch.manual_seed(32)\n",
    "d0 = input_size\n",
    "d1 = d2 = 1500\n",
    "d3 = output_size \n",
    "\n",
    "# The layers are: input + 2 hidden + output\n",
    "\n",
    "# we represent the weigths of each layer as matrices with d_{i-1} columns and d_{i} rows\n",
    "\n",
    "# Weight initialization (we replicate pytorch initialization)\n",
    "std_1 = math.sqrt(1/d0)\n",
    "W1 = torch.FloatTensor(d1, d0).uniform_(-std_1, std_1)\n",
    "b1 = torch.FloatTensor(d1, 1).uniform_(-std_1, std_1)\n",
    "\n",
    "# we move them to GPU\n",
    "b1 = b1.to('cuda:0')\n",
    "W1 = W1.to('cuda:0')\n",
    "\n",
    "\n",
    "std_2 = math.sqrt(1/d1)\n",
    "W2 = torch.FloatTensor(d2, d1).uniform_(-std_2, std_2)\n",
    "b2 = torch.FloatTensor(d2, 1).uniform_(-std_2, std_2)\n",
    "\n",
    "# we move them to GPU\n",
    "b2 = b2.to('cuda:0')\n",
    "W2 = W2.to('cuda:0')\n",
    "\n",
    "std_3 = math.sqrt(1/d2)\n",
    "W3 = torch.FloatTensor(d3, d2).uniform_(-std_3, std_3)\n",
    "b3 = torch.FloatTensor(d3, 1).uniform_(-std_3, std_3)\n",
    "\n",
    "# we move them to GPU\n",
    "b3 = b3.to('cuda:0')\n",
    "W3 = W3.to('cuda:0')\n",
    "\n",
    "\n",
    "U1 = torch.addmm(b1.repeat(1, N), W1, x_train) # equivalent to W1@x_train+b1.repeat(1,N)\n",
    "V1 = nn.ReLU()(U1)\n",
    "U2 = torch.addmm(b2.repeat(1, N), W2, V1)\n",
    "V2 = nn.ReLU()(U2)\n",
    "U3 = torch.addmm(b3.repeat(1, N), W3, V2)\n",
    "V3 = U3\n",
    "\n",
    "# constant initializations\n",
    "gamma = 1\n",
    "gamma1 = gamma2 = gamma3 = gamma4 = gamma\n",
    "\n",
    "rho = gamma\n",
    "rho1 = rho2 = rho3 = rho4 = rho\n",
    "\n",
    "\n",
    "alpha = 5\n",
    "alpha1 = alpha2 = alpha3 = alpha4 = alpha5 = alpha6 = alpha7 \\\n",
    "= alpha8 = alpha9 = alpha10 = alpha\n",
    "\n",
    "# initialization of the vectors of losses and accuracies\n",
    "niter = 30\n",
    "loss1 = np.empty(niter)\n",
    "loss2 = np.empty(niter)\n",
    "accuracy_train = np.empty(niter)\n",
    "accuracy_test = np.empty(niter)\n",
    "time1 = np.empty(niter)"
   ]
  },
  {
   "cell_type": "code",
   "execution_count": 27,
   "metadata": {
    "id": "TFQBbrVor_zy"
   },
   "outputs": [],
   "source": [
    "def updateV_js(U1,U2,W,b,rho,gamma): \n",
    "    _, d = W.size()\n",
    "    I = torch.eye(d, device=device)\n",
    "    U1 = nn.ReLU()(U1)\n",
    "    _, col_U2 = U2.size()\n",
    "    Vstar = torch.mm(torch.inverse(rho*(torch.mm(torch.t(W),W))+gamma*I), rho*torch.mm(torch.t(W),U2-b.repeat(1,col_U2))+gamma*U1)\n",
    "    return Vstar"
   ]
  },
  {
   "cell_type": "code",
   "execution_count": 28,
   "metadata": {
    "id": "A7sdqHftr_zz"
   },
   "outputs": [],
   "source": [
    "def updateWb_js(U, V, W, b, alpha, rho): \n",
    "    d,N = V.size()\n",
    "    I = torch.eye(d, device=device)\n",
    "    _, col_U = U.size()\n",
    "    Wstar = torch.mm(alpha*W+rho*torch.mm(U-b.repeat(1,col_U),torch.t(V)),torch.inverse(alpha*I+rho*(torch.mm(V,torch.t(V)))))\n",
    "    bstar = (alpha*b+rho*torch.sum(U-torch.mm(W,V), dim=1).reshape(b.size()))/(rho*N+alpha)\n",
    "    return Wstar, bstar"
   ]
  },
  {
   "cell_type": "code",
   "execution_count": 29,
   "metadata": {
    "id": "IX88WYSQr_z0"
   },
   "outputs": [],
   "source": [
    "def relu_prox(a, b, gamma, d, N):\n",
    "    val = torch.empty(d,N, device=device)\n",
    "    x = (a+gamma*b)/(1+gamma)\n",
    "    y = torch.min(b,torch.zeros(d,N, device=device))\n",
    "    # torch.zeros(d,N, device=device)\n",
    "    val = torch.where(a+gamma*b < 0, y, torch.zeros(d,N, device=device))\n",
    "    val = torch.where(((a+gamma*b >= 0) & (b >=0)) | ((a*(gamma-np.sqrt(gamma*(gamma+1))) <= gamma*b) & (b < 0)), x, val)\n",
    "    val = torch.where((-a <= gamma*b) & (gamma*b <= a*(gamma-np.sqrt(gamma*(gamma+1)))), b, val)\n",
    "    return val"
   ]
  },
  {
   "cell_type": "code",
   "execution_count": 30,
   "metadata": {
    "colab": {
     "base_uri": "https://localhost:8080/"
    },
    "id": "E_dJSsAAr_z1",
    "outputId": "56ef700b-31f5-4060-9b3e-84f5d09f1235"
   },
   "outputs": [
    {
     "name": "stdout",
     "output_type": "stream",
     "text": [
      "Train on 60000 samples, validate on 10000 samples\n",
      "Epoch 1 / 30 \n",
      " - time: 2.5572807788848877 - sq_loss: 23003.52734375 - tot_loss: 23030.074960950762 - acc: 0.5315333333333333 - val_acc: 0.5445\n",
      "Epoch 2 / 30 \n",
      " - time: 2.66041898727417 - sq_loss: 17373.271484375 - tot_loss: 17403.75146817416 - acc: 0.89885 - val_acc: 0.8972\n",
      "Epoch 3 / 30 \n",
      " - time: 2.6506800651550293 - sq_loss: 13304.3173828125 - tot_loss: 13323.818592615426 - acc: 0.93945 - val_acc: 0.9379\n",
      "Epoch 4 / 30 \n",
      " - time: 2.6245391368865967 - sq_loss: 10252.7021484375 - tot_loss: 10266.306015759706 - acc: 0.9478166666666666 - val_acc: 0.9457\n",
      "Epoch 5 / 30 \n",
      " - time: 2.6489973068237305 - sq_loss: 7920.8662109375 - tot_loss: 7931.752840403467 - acc: 0.9508833333333333 - val_acc: 0.9477\n",
      "Epoch 6 / 30 \n",
      " - time: 2.6202995777130127 - sq_loss: 6125.35205078125 - tot_loss: 6134.877940662205 - acc: 0.9532 - val_acc: 0.9491\n",
      "Epoch 7 / 30 \n",
      " - time: 2.6312475204467773 - sq_loss: 4738.5673828125 - tot_loss: 4747.375991269946 - acc: 0.9548333333333333 - val_acc: 0.95\n",
      "Epoch 8 / 30 \n",
      " - time: 2.676698923110962 - sq_loss: 3666.2724609375 - tot_loss: 3674.7561010345817 - acc: 0.95575 - val_acc: 0.9502\n",
      "Epoch 9 / 30 \n",
      " - time: 2.6339216232299805 - sq_loss: 2836.901611328125 - tot_loss: 2845.31422868371 - acc: 0.9565833333333333 - val_acc: 0.9507\n",
      "Epoch 10 / 30 \n",
      " - time: 2.642930746078491 - sq_loss: 2195.3798828125 - tot_loss: 2203.848787114024 - acc: 0.9576166666666667 - val_acc: 0.951\n",
      "Epoch 11 / 30 \n",
      " - time: 2.6523478031158447 - sq_loss: 1699.14697265625 - tot_loss: 1707.7000845074654 - acc: 0.9582333333333334 - val_acc: 0.9511\n",
      "Epoch 12 / 30 \n",
      " - time: 2.6416826248168945 - sq_loss: 1315.298583984375 - tot_loss: 1324.010148525238 - acc: 0.9591333333333333 - val_acc: 0.9515\n",
      "Epoch 13 / 30 \n",
      " - time: 2.6369380950927734 - sq_loss: 1018.3870849609375 - tot_loss: 1027.2696230113506 - acc: 0.9597166666666667 - val_acc: 0.9518\n",
      "Epoch 14 / 30 \n",
      " - time: 2.649689197540283 - sq_loss: 788.6922607421875 - tot_loss: 797.7433462738991 - acc: 0.9604 - val_acc: 0.952\n",
      "Epoch 15 / 30 \n",
      " - time: 2.6130483150482178 - sq_loss: 610.97314453125 - tot_loss: 620.1765025854111 - acc: 0.9608333333333333 - val_acc: 0.952\n",
      "Epoch 16 / 30 \n",
      " - time: 2.5898354053497314 - sq_loss: 473.4566345214844 - tot_loss: 482.75803780555725 - acc: 0.9613 - val_acc: 0.9527\n",
      "Epoch 17 / 30 \n",
      " - time: 2.649528980255127 - sq_loss: 367.0251159667969 - tot_loss: 376.4152470231056 - acc: 0.9618833333333333 - val_acc: 0.9535\n",
      "Epoch 18 / 30 \n",
      " - time: 2.6722869873046875 - sq_loss: 284.6393127441406 - tot_loss: 294.11850023269653 - acc: 0.9624333333333334 - val_acc: 0.9541\n",
      "Epoch 19 / 30 \n",
      " - time: 2.608513832092285 - sq_loss: 220.85313415527344 - tot_loss: 230.36133915185928 - acc: 0.9629333333333333 - val_acc: 0.9545\n",
      "Epoch 20 / 30 \n",
      " - time: 2.6195600032806396 - sq_loss: 171.45155334472656 - tot_loss: 180.97318732738495 - acc: 0.96335 - val_acc: 0.9547\n",
      "Epoch 21 / 30 \n",
      " - time: 2.615856409072876 - sq_loss: 133.18130493164062 - tot_loss: 142.69376975297928 - acc: 0.9639333333333333 - val_acc: 0.9551\n",
      "Epoch 22 / 30 \n",
      " - time: 2.621814250946045 - sq_loss: 103.52456665039062 - tot_loss: 113.02055525779724 - acc: 0.9645166666666667 - val_acc: 0.9551\n",
      "Epoch 23 / 30 \n",
      " - time: 2.6370325088500977 - sq_loss: 80.53766632080078 - tot_loss: 89.95935726165771 - acc: 0.9650166666666666 - val_acc: 0.9556\n",
      "Epoch 24 / 30 \n",
      " - time: 2.6413278579711914 - sq_loss: 62.70805740356445 - tot_loss: 72.05079063773155 - acc: 0.9653666666666667 - val_acc: 0.9557\n",
      "Epoch 25 / 30 \n",
      " - time: 2.620398759841919 - sq_loss: 48.87620544433594 - tot_loss: 58.12789300084114 - acc: 0.9656333333333333 - val_acc: 0.9557\n",
      "Epoch 26 / 30 \n",
      " - time: 2.5938327312469482 - sq_loss: 38.1401481628418 - tot_loss: 47.28091052174568 - acc: 0.9660166666666666 - val_acc: 0.9558\n",
      "Epoch 27 / 30 \n",
      " - time: 2.602330207824707 - sq_loss: 29.80215835571289 - tot_loss: 38.86888340115547 - acc: 0.9665 - val_acc: 0.9563\n",
      "Epoch 28 / 30 \n",
      " - time: 2.612434148788452 - sq_loss: 23.323041915893555 - tot_loss: 32.23472395539284 - acc: 0.96675 - val_acc: 0.9565\n",
      "Epoch 29 / 30 \n",
      " - time: 2.628969192504883 - sq_loss: 18.28427505493164 - tot_loss: 27.06693857908249 - acc: 0.96695 - val_acc: 0.9563\n",
      "Epoch 30 / 30 \n",
      " - time: 2.586353063583374 - sq_loss: 14.363285064697266 - tot_loss: 23.02649649977684 - acc: 0.9671333333333333 - val_acc: 0.9564\n"
     ]
    }
   ],
   "source": [
    "torch.cuda.empty_cache()\n",
    "\n",
    "# Iterations\n",
    "print('Train on', N, 'samples, validate on', N_test, 'samples')\n",
    "for k in range(niter):\n",
    "\n",
    "    start = time.time()\n",
    "\n",
    "    # update V3\n",
    "    V3 = (y_one_hot + gamma3*U3 + alpha1*V3)/(1+ gamma3 + alpha1)\n",
    "    \n",
    "    # update U3 \n",
    "    U3 = (gamma3*V3 + rho3*(torch.mm(W3,V2) + b3.repeat(1,N)))/(gamma3 + rho3)\n",
    "\n",
    "    # update W3 and b3\n",
    "    W3, b3 = updateWb_js(U3,V2,W3,b3,alpha1,rho3)\n",
    "    \n",
    "    # update V2\n",
    "    V2 = updateV_js(U2,U3,W3,b3,rho3,gamma2)\n",
    "    \n",
    "    # update U2\n",
    "    U2 = relu_prox(V2,(rho2*torch.addmm(b2.repeat(1,N), W2, V1) + alpha2*U2)/(rho2 + alpha2),(rho2 + alpha2)/gamma2,d2,N)\n",
    "    \n",
    "    # update W2 and b2\n",
    "    W2, b2 = updateWb_js(U2,V1,W2,b2,alpha3,rho2)\n",
    "    \n",
    "    # update V1\n",
    "    V1 = updateV_js(U1,U2,W2,b2,rho2,gamma1)\n",
    "    \n",
    "    # update U1\n",
    "    U1 = relu_prox(V1,(rho1*torch.addmm(b1.repeat(1,N), W1, x_train) + alpha7*U1)/(rho1 + alpha7),(rho1 + alpha7)/gamma1,d1,N)\n",
    "    \n",
    "    # update W1 and b1\n",
    "    W1, b1 = updateWb_js(U1,x_train,W1,b1,alpha8,rho1)\n",
    "\n",
    "    a1_train = nn.ReLU()(torch.addmm(b1.repeat(1, N), W1, x_train))\n",
    "    a2_train = nn.ReLU()(torch.addmm(b2.repeat(1, N), W2, a1_train))\n",
    "    pred = torch.argmax(torch.addmm(b3.repeat(1, N), W3, a2_train), dim=0)\n",
    "\n",
    "    a1_test = nn.ReLU()(torch.addmm(b1.repeat(1, N_test), W1, x_test))\n",
    "    a2_test = nn.ReLU()(torch.addmm(b2.repeat(1, N_test), W2, a1_test))\n",
    "    pred_test = torch.argmax(torch.addmm(b3.repeat(1, N_test), W3, a2_test), dim=0)\n",
    "    \n",
    "    loss1[k] = gamma3/2*torch.pow(torch.dist(V3,y_one_hot,2),2).cpu().numpy()\n",
    "    loss2[k] = loss1[k] + rho1/2*torch.pow(torch.dist(torch.addmm(b1.repeat(1,N), W1, x_train),U1,2),2).cpu().numpy() \\\n",
    "    +rho2/2*torch.pow(torch.dist(torch.addmm(b2.repeat(1,N), W2, V1),U2,2),2).cpu().numpy() \\\n",
    "    +rho3/2*torch.pow(torch.dist(torch.addmm(b3.repeat(1,N), W3, V2),U3,2),2).cpu().numpy()\n",
    "    \n",
    "    # compute training accuracy\n",
    "    correct_train = pred == y_train\n",
    "    accuracy_train[k] = np.mean(correct_train.cpu().numpy())\n",
    "    \n",
    "    # compute validation accuracy\n",
    "    correct_test = pred_test == y_test\n",
    "    accuracy_test[k] = np.mean(correct_test.cpu().numpy())\n",
    "    \n",
    "    # compute training time\n",
    "    stop = time.time()\n",
    "    duration = stop - start\n",
    "    time1[k] = duration\n",
    "    \n",
    "    # print results\n",
    "    print('Epoch', k + 1, '/', niter, '\\n', \n",
    "          '-', 'time:', time1[k], '-', 'sq_loss:', loss1[k], '-', 'tot_loss:', loss2[k], \n",
    "          '-', 'acc:', accuracy_train[k], '-', 'val_acc:', accuracy_test[k])"
   ]
  },
  {
   "cell_type": "markdown",
   "metadata": {
    "id": "WrFu1jgT3kLz"
   },
   "source": [
    "# Training\n",
    "\n",
    "Note: Fix it so that it moves everything to device in the following function and that it does the label sample split here"
   ]
  },
  {
   "cell_type": "code",
   "execution_count": 35,
   "metadata": {
    "colab": {
     "base_uri": "https://localhost:8080/",
     "height": 279
    },
    "id": "eFw-MbOat5p6",
    "outputId": "ea5eeead-0a1f-4168-8e74-39832f6f100a"
   },
   "outputs": [
    {
     "data": {
      "image/png": "[encoded data removed]",
      "text/plain": [
       "<Figure size 432x288 with 1 Axes>"
      ]
     },
     "metadata": {
      "needs_background": "light"
     },
     "output_type": "display_data"
    }
   ],
   "source": [
    "## We plot the train losses\n",
    "\n",
    "plot_train_losses(loss1.shape[0], loss1, 'Coordinate_descent')"
   ]
  },
  {
   "cell_type": "code",
   "execution_count": 34,
   "metadata": {
    "colab": {
     "base_uri": "https://localhost:8080/",
     "height": 279
    },
    "id": "2gF9-R3-uB3c",
    "outputId": "4cf3958d-1bb0-4058-9bbb-d307079e0168"
   },
   "outputs": [
    {
     "data": {
      "image/png": "[encoded data removed]",
      "text/plain": [
       "<Figure size 432x288 with 1 Axes>"
      ]
     },
     "metadata": {
      "needs_background": "light"
     },
     "output_type": "display_data"
    }
   ],
   "source": [
    "## We plot the test accuracy\n",
    "\n",
    "plot_test_accuracy(accuracy_test.shape[0], accuracy_test, 'Coordinate_descent')"
   ]
  },
  {
   "cell_type": "code",
   "execution_count": null,
   "metadata": {
    "id": "TKYWNxdibHks"
   },
   "outputs": [],
   "source": []
  }
 ],
 "metadata": {
  "accelerator": "GPU",
  "colab": {
   "collapsed_sections": [],
   "machine_shape": "hm",
   "name": "Block_coordinate_descent.ipynb",
   "provenance": []
  },
  "kernelspec": {
   "display_name": "Python 3 (ipykernel)",
   "language": "python",
   "name": "python3"
  },
  "language_info": {
   "codemirror_mode": {
    "name": "ipython",
    "version": 3
   },
   "file_extension": ".py",
   "mimetype": "text/x-python",
   "name": "python",
   "nbconvert_exporter": "python",
   "pygments_lexer": "ipython3",
   "version": "3.8.8"
  }
 },
 "nbformat": 4,
 "nbformat_minor": 1
}
