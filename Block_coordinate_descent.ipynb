{
  "nbformat": 4,
  "nbformat_minor": 0,
  "metadata": {
    "colab": {
      "name": "Block_coordinate_descent.ipynb",
      "provenance": [],
      "collapsed_sections": []
    },
    "kernelspec": {
      "name": "python3",
      "display_name": "Python 3"
    },
    "language_info": {
      "name": "python"
    },
    "accelerator": "GPU"
  },
  "cells": [
    {
      "cell_type": "code",
      "execution_count": 57,
      "metadata": {
        "colab": {
          "base_uri": "https://localhost:8080/"
        },
        "id": "WjmJ5IsZInkj",
        "outputId": "bf608d4c-844d-43c4-c01d-1f5480e1f522"
      },
      "outputs": [
        {
          "output_type": "stream",
          "name": "stdout",
          "text": [
            "PyTorch Version: 1.11.0+cu113\n",
            "Torchvision Version: 0.12.0+cu113\n",
            "GPU is available? True\n"
          ]
        }
      ],
      "source": [
        "import numpy as np\n",
        "import pandas as pd\n",
        "import random\n",
        "import torch\n",
        "import torch.nn as nn\n",
        "import torch.nn.functional as F\n",
        "from torch.autograd import Variable\n",
        "import torch.optim as optim\n",
        "import torchvision\n",
        "from torchvision import datasets, models, transforms, utils\n",
        "from torch.utils.data import Dataset, DataLoader\n",
        "import matplotlib.pyplot as plt\n",
        "import time\n",
        "import os\n",
        "import copy\n",
        "import math\n",
        "\n",
        "from utilities import *\n",
        "\n",
        "print(\"PyTorch Version:\", torch.__version__)\n",
        "print(\"Torchvision Version:\", torchvision.__version__)\n",
        "print(\"GPU is available?\", torch.cuda.is_available())"
      ]
    },
    {
      "cell_type": "code",
      "source": [
        "dtype = torch.float\n",
        "device = torch.device(\"cuda:0\" if torch.cuda.is_available() else \"cpu\")"
      ],
      "metadata": {
        "id": "DT-roPj1Isd7"
      },
      "execution_count": 58,
      "outputs": []
    },
    {
      "cell_type": "markdown",
      "source": [
        "# Imported datasets\n",
        "For the testing and comparison of our algorithms we will use the following datasets:\n",
        "\n",
        "1. MNIST\n",
        "2. FashionMNIST\n",
        "3. CIFAR10"
      ],
      "metadata": {
        "id": "N_1aD5CdJCfS"
      }
    },
    {
      "cell_type": "code",
      "source": [
        "ts = transforms.Compose([transforms.ToTensor(), transforms.Normalize((0,), (1,))])\n",
        "\n",
        "# change the flag to choose the dataset to work with\n",
        "dataset_flag = 1\n",
        "\n",
        "if dataset_flag ==0:\n",
        "  trainset = datasets.MNIST('../data', train=True, download=True, transform=ts)\n",
        "  testset = datasets.MNIST(root='../data', train=False, download=True, transform=ts)\n",
        "elif dataset_flag ==1:\n",
        "  trainset = datasets.FashionMNIST('../data', train=True, download=True, transform=ts)\n",
        "  testset = datasets.FashionMNIST(root='../data', train=False, download=True, transform=ts)\n",
        "else:\n",
        "  trainset = datasets.CIFAR10('../data', train=True, download=True, transform=ts)\n",
        "  testset = datasets.CIFAR10(root='../data', train=False, download=True, transform=ts)"
      ],
      "metadata": {
        "id": "FCpRsZlPIuew"
      },
      "execution_count": 72,
      "outputs": []
    },
    {
      "cell_type": "code",
      "source": [
        "\"\"\"\n",
        "from sklearn import datasets\n",
        "from sklearn.model_selection import train_test_split\n",
        "\n",
        "boston = datasets.load_boston()\n",
        "X = boston.data\n",
        "y = boston.target\n",
        "x_train, x_test, y_train, y_test = train_test_split(X, y, test_size=0.3, random_state=42)\n",
        "\n",
        "x_train = torch.from_numpy(x_train).to(device = device)\n",
        "x_test = torch.from_numpy(x_test).to(device = device)\n",
        "y_train = torch.from_numpy(y_train).to(device = device)\n",
        "y_test = torch.from_numpy(y_test).to(device = device)\n",
        "\n",
        "x_train = x_train.T.float()\n",
        "x_test = x_test.T.float()\n",
        "\n",
        "N = x_train.shape[1]\n",
        "N_test = x_test.shape[1]\n",
        "\"\"\""
      ],
      "metadata": {
        "colab": {
          "base_uri": "https://localhost:8080/",
          "height": 105
        },
        "id": "-oRYcSE2I27L",
        "outputId": "93c034db-314b-4ab7-b84a-7e23c8db04cf"
      },
      "execution_count": 60,
      "outputs": [
        {
          "output_type": "execute_result",
          "data": {
            "text/plain": [
              "'\\nfrom sklearn import datasets\\nfrom sklearn.model_selection import train_test_split\\n\\nboston = datasets.load_boston()\\nX = boston.data\\ny = boston.target\\nx_train, x_test, y_train, y_test = train_test_split(X, y, test_size=0.3, random_state=42)\\n\\nx_train = torch.from_numpy(x_train).to(device = device)\\nx_test = torch.from_numpy(x_test).to(device = device)\\ny_train = torch.from_numpy(y_train).to(device = device)\\ny_test = torch.from_numpy(y_test).to(device = device)\\n\\nx_train = x_train.T.float()\\nx_test = x_test.T.float()\\n\\nN = x_train.shape[1]\\nN_test = x_test.shape[1]\\n'"
            ],
            "application/vnd.google.colaboratory.intrinsic+json": {
              "type": "string"
            }
          },
          "metadata": {},
          "execution_count": 60
        }
      ]
    },
    {
      "cell_type": "markdown",
      "source": [
        "# Dataset preprocessing"
      ],
      "metadata": {
        "id": "dtekIhnJJJhC"
      }
    },
    {
      "cell_type": "code",
      "source": [
        "x_train, y_train, x_test, y_test, y_train_one_hot, y_test_one_hot= load_dataset(trainset, testset, 10)\n",
        "\n",
        "# We move to GPU\n",
        "x_train = x_train.to(device = device)\n",
        "x_test = x_test.to(device = device)\n",
        "y_train = y_train.to(device = device)\n",
        "y_test = y_test.to(device = device)\n",
        "y_train_one_hot = y_train_one_hot.to(device = device)\n",
        "y_test_one_hot = y_test_one_hot.to(device = device)"
      ],
      "metadata": {
        "id": "GJ9kefhFI6vI"
      },
      "execution_count": 61,
      "outputs": []
    },
    {
      "cell_type": "markdown",
      "source": [
        "# Architecture initialization\n",
        "\n",
        "For the MultiLayerPerceptron we have the parameters **input_size** , **hidden_size**,**output_size** corresponding to the size of the input layer, the hidden layer and the output layer, respectively.\n",
        "\n",
        "The MLP only has 3 layers like https://github.com/timlautk/BCD-for-DNNs-PyTorch/blob/master/bcd_dnn_mlp_mnist.ipynb as a starting point.\n",
        "\n",
        "Also we use ReLU currently for the same reason."
      ],
      "metadata": {
        "id": "w7M3uSc8JRdC"
      }
    },
    {
      "cell_type": "code",
      "source": [
        "input_size = x_train.shape[0]\n",
        "hidden_size = 1500\n",
        "output_size = 10"
      ],
      "metadata": {
        "id": "QiyJP8y2I81R"
      },
      "execution_count": 62,
      "outputs": []
    },
    {
      "cell_type": "markdown",
      "source": [
        "# Training\n",
        "\n",
        "Note: Fix it so that it moves everything to device in the following function and that it does the label sample split here"
      ],
      "metadata": {
        "id": "QAm_re0mJbOA"
      }
    },
    {
      "cell_type": "code",
      "source": [
        "def update_v_js(U1, U2, W, b, rho, gamma):\n",
        "    \"\"\"\n",
        "    The function updates the V_js parameters during the training phase\n",
        "    \n",
        "    :param U1: The U parameter on the same level of V that we are updating\n",
        "    :param U2: The U parameter which is in the next level of the V that we are updating\n",
        "    :param W: The W parameter which is in the next level of the V that we are updating\n",
        "    :param b: The b parameter which is in the next level of the V that we are updating\n",
        "    :param rho: The constant rho parameter which is in the next level of the V that we are updating\n",
        "    :param gamma: The constant gamma parameter which is in the next level of the V that we are updating\n",
        "    :return: The updated V\n",
        "    \"\"\"\n",
        "    _, d = W.size()\n",
        "    I = torch.eye(d, device=device)\n",
        "    U1 = nn.ReLU()(U1)\n",
        "    _, col_U2 = U2.size()\n",
        "    Vstar = torch.mm(torch.inverse(rho * (torch.mm(torch.t(W), W)) + gamma * I),\n",
        "                     rho * torch.mm(torch.t(W), U2 - b.repeat(1, col_U2)) + gamma * U1)\n",
        "    return Vstar"
      ],
      "metadata": {
        "id": "78BFLCPNJbss"
      },
      "execution_count": 63,
      "outputs": []
    },
    {
      "cell_type": "code",
      "source": [
        "def update_wb_js(U, V, W, b, alpha, rho):\n",
        "    \"\"\"\n",
        "    The function updates the W and b parameters during the training phase\n",
        "    \n",
        "    :param U: The U in the current level of W and b\n",
        "    :param V: The V in the previous level with respect to the W that we are updating\n",
        "    :param W: The current W that we have to update\n",
        "    :param b: The current b that we have to update\n",
        "    :param alpha: The alpha constant of the updates\n",
        "    :param rho: The rho constant of the updates\n",
        "    :return:\n",
        "    \"\"\"\n",
        "    d, N = V.size()\n",
        "    I = torch.eye(d, device=device)\n",
        "    _, col_U = U.size()\n",
        "    Wstar = torch.mm(alpha * W + rho * torch.mm(U - b.repeat(1, col_U), torch.t(V)),\n",
        "                     torch.inverse(alpha * I + rho * (torch.mm(V, torch.t(V)))))\n",
        "    bstar = (alpha * b + rho * torch.sum(U - torch.mm(W, V), dim=1).reshape(b.size())) / (rho * N + alpha)\n",
        "    return Wstar, bstar"
      ],
      "metadata": {
        "id": "rPdLFBQ_Jf0R"
      },
      "execution_count": 64,
      "outputs": []
    },
    {
      "cell_type": "code",
      "source": [
        "def relu_prox(a, b, gamma, d, N):\n",
        "    \"\"\"\n",
        "    The function compute the solution to the relu proximal update problem\n",
        "    \n",
        "    :param a: the a in the closed formula of the linearized update\n",
        "    :param b: the b in the closed formula of the linearized update\n",
        "    :param gamma: The constant used in the update\n",
        "    :param d: the dimension of the current layer\n",
        "    :param N: The number of samples\n",
        "    :return: The obtained solution of the prox update\n",
        "    \"\"\"\n",
        "    val = torch.empty(d, N, device=device)\n",
        "    x = (a + gamma * b) / (1 + gamma)\n",
        "    y = torch.min(b, torch.zeros(d, N, device=device))\n",
        "    # torch.zeros(d,N, device=device)\n",
        "    val = torch.where(a + gamma * b < 0, y, torch.zeros(d, N, device=device))\n",
        "    val = torch.where(\n",
        "        ((a + gamma * b >= 0) & (b >= 0)) | ((a * (gamma - np.sqrt(gamma * (gamma + 1))) <= gamma * b) & (b < 0)), x,\n",
        "        val)\n",
        "    val = torch.where((-a <= gamma * b) & (gamma * b <= a * (gamma - np.sqrt(gamma * (gamma + 1)))), b, val)\n",
        "    return val\n"
      ],
      "metadata": {
        "id": "xD0dhzjdJiKg"
      },
      "execution_count": 65,
      "outputs": []
    },
    {
      "cell_type": "code",
      "source": [
        "def make_pred(Ws,bs,input,N):\n",
        "  \"\"\"\n",
        "  The function is used to make the predictions based on the best found parameters\n",
        "  :param Ws: The weight matrices\n",
        "  :param bs: the bias vectors\n",
        "  :return pred: the predictions\n",
        "  \"\"\"\n",
        "  a1_train = input\n",
        "  for i in range(0,len(Ws)-1):\n",
        "    a1_train = nn.ReLU()(torch.addmm(bs[i].repeat(1, N), Ws[i], a1_train))\n",
        "  pred = torch.argmax(torch.addmm(bs[len(Ws)-1].repeat(1, N), Ws[len(Ws)-1], a1_train), dim=0)\n",
        "  return pred"
      ],
      "metadata": {
        "id": "5C2ka5vzJlCm"
      },
      "execution_count": 66,
      "outputs": []
    },
    {
      "cell_type": "code",
      "source": [
        "#The function requires at least 1 hidden layer otherwise it need some rewrriting\n",
        "def execute_training(layers, input_size, hidden_size, output_size, train_set, val_set, \n",
        "                     train_labels, val_labels, use_gradient,\n",
        "                     niter = 100, gamma = 1, alpha = 5):\n",
        "  \"\"\"\n",
        "  The function takes the following arguements and produces a list of weights and biases with which \n",
        "  you can use the make_pred function to get a list of predictions\n",
        "  :param layers: The total number of layers of the network\n",
        "  :param input_size: The total size of the input layer\n",
        "  :param hidden_size: The size of the hidden layer\n",
        "  :param output_size: The size of the output layer (usefull for multiclass classification)\n",
        "  :param train_set: The training set\n",
        "  :param val_set: The validation set\n",
        "  :param train_labels: The training labels\n",
        "  :param val labels: The validation labels\n",
        "  :param use_gradient: True if the first update of V is carried out without linearization but using the gradient\n",
        "  :param niter: The default number of epochs to train the network\n",
        "  :param gamma: The gamma parameter of the algorithm\n",
        "  :param alpha: The alpha parameter of the algorithm\n",
        "  :return Ws,bs: Returns two lists that go in order from the input to the output layer of the weights and the biases of each layer\n",
        "  \"\"\"\n",
        "\n",
        "  N = len(train_labels)\n",
        "  N_test = len(val_labels)\n",
        "\n",
        "  # weight initialization (we replicate pytorch weight initialization)\n",
        "\n",
        "  std = math.sqrt(1/input_size)\n",
        "  W = torch.FloatTensor(hidden_size, input_size).uniform_(-std, std)\n",
        "  b = torch.FloatTensor(hidden_size, 1).uniform_(-std, std)\n",
        "\n",
        "  b = b.to(device = device)\n",
        "  W = W.to(device = device)\n",
        "\n",
        "  U = torch.addmm(b.repeat(1, N), W, x_train) # equivalent to W1@x_train+b1.repeat(1,N)\n",
        "  V = nn.ReLU()(U)\n",
        "\n",
        "  Ws = [W]\n",
        "  bs = [b]\n",
        "  Us = [U]\n",
        "  Vs = [V]\n",
        "\n",
        "  for i in range(1,layers-1):\n",
        "    std = math.sqrt(1/hidden_size)\n",
        "    W = torch.FloatTensor(hidden_size, hidden_size).uniform_(-std, std)\n",
        "    b = torch.FloatTensor(hidden_size, 1).uniform_(-std, std)\n",
        "    b = b.to(device = device)\n",
        "    W = W.to(device = device)\n",
        "    U = torch.addmm(b.repeat(1, N), W, Vs[-1])\n",
        "    V = nn.ReLU()(U)\n",
        "    Ws.append(W)\n",
        "    bs.append(b)\n",
        "    Us.append(U)\n",
        "    Vs.append(V)\n",
        "  \n",
        "  std = math.sqrt(1/hidden_size)\n",
        "  W = torch.FloatTensor(output_size, hidden_size).uniform_(-std, std)\n",
        "  b = torch.FloatTensor(output_size, 1).uniform_(-std, std)\n",
        "\n",
        "  # we move them to GPU\n",
        "  b = b.to(device = device)\n",
        "  W = W.to(device = device)\n",
        "  U = torch.addmm(b.repeat(1, N), W, Vs[-1])\n",
        "  V = U\n",
        "  Ws.append(W)\n",
        "  bs.append(b)\n",
        "  Us.append(U)\n",
        "  Vs.append(V)\n",
        "  \n",
        "  # constant initialization\n",
        "\n",
        "  gamma1 = gamma2 = gamma3 = gamma4 = gamma\n",
        "\n",
        "  rho = gamma\n",
        "  rho1 = rho2 = rho3 = rho4 = rho\n",
        "\n",
        "  alpha1 = alpha2 = alpha3 = alpha4 = alpha5 = alpha6 = alpha7 \\\n",
        "  = alpha8 = alpha9 = alpha10 = alpha\n",
        "\n",
        "  # vector of performance initialization\n",
        "\n",
        "  loss1 = np.empty(niter)\n",
        "  loss2 = np.empty(niter)\n",
        "  accuracy_train = np.empty(niter)\n",
        "  accuracy_test = np.empty(niter)\n",
        "  time1 = np.empty(niter)\n",
        "\n",
        "  print('Train on', N, 'samples, validate on', N_test, 'samples')\n",
        "  for k in range(niter):\n",
        "    \n",
        "    start = time.time()\n",
        "\n",
        "    # update V3\n",
        "    if use_gradient == True:\n",
        "      if (k == 1):\n",
        "        Vs[-1] = (y_train_one_hot + gamma3*Us[-1] + alpha1*Vs[-1])/(1+ gamma3 + alpha1)\n",
        "      else:\n",
        "        print((torch.exp(Vs[-1])/torch.sum(torch.exp(Vs[-1]),dim=0)).shape)\n",
        "        for i in range(int(1000/(k+1))):\n",
        "          Vs[-1] = Vs[-1] - (torch.exp(Vs[-1])/torch.sum(torch.exp(Vs[-1]),dim=0)-y_train_one_hot) * 0.01/(i+1)\n",
        "    else:\n",
        "      Vs[-1] = (y_train_one_hot + gamma3*Us[-1] + alpha1*Vs[-1])/(1+ gamma3 + alpha1)\n",
        "\n",
        "    # update U3 \n",
        "    Us[-1] = (gamma3*Vs[-1] + rho3*(torch.mm(Ws[-1],Vs[-2]) + bs[-1].repeat(1,N)))/(gamma3 + rho3)\n",
        "\n",
        "    # update W3 and b3\n",
        "    W, b = update_wb_js(Us[-1],Vs[-2],Ws[-1],bs[-1],alpha1, rho3)\n",
        "    Ws[-1] = W\n",
        "    bs[-1] = b\n",
        "\n",
        "    for i in range(len(Vs)-2,0,-1):\n",
        "      Vs[i] = update_v_js(Us[i],Us[i+1],Ws[i+1],bs[i+1],rho3,gamma2)\n",
        "      Us[i] = relu_prox(Vs[i],(rho2*torch.addmm(bs[i].repeat(1,N), Ws[i], Vs[i-1]) +\n",
        "                               alpha2*Us[i])/(rho2 + alpha2),(rho2 + alpha2)/gamma2, hidden_size, N)\n",
        "      W,b = update_wb_js(Us[i],Vs[i-1],Ws[i],bs[i],alpha3,rho2)\n",
        "      Ws[i] = W\n",
        "      bs[i]= b\n",
        "    \n",
        "    # update V1\n",
        "    Vs[0] = update_v_js(Us[0],Us[1],Ws[1],bs[1],rho2,gamma1)\n",
        "        \n",
        "    # update U1\n",
        "    Us[0] = relu_prox(Vs[0],(rho1*torch.addmm(bs[0].repeat(1,N), Ws[0], x_train) +\n",
        "                             alpha7*Us[0])/(rho1 + alpha7),(rho1 + alpha7)/gamma1, hidden_size, N)\n",
        "    \n",
        "    # update W1 and b1\n",
        "    W, b = update_wb_js(Us[0],x_train,Ws[0],bs[0],alpha8,rho1)\n",
        "    Ws[0] = W\n",
        "    bs[0] = b\n",
        "\n",
        "    #a1_train = nn.ReLU()(torch.addmm(b1.repeat(1, N), W1, x_train))\n",
        "    #a1_train = x_train\n",
        "    #for i in range(len(Vs)-1,0,-1):\n",
        "    #  a1_train = nn.ReLU()(torch.addmm(bs[i].repeat(1, N), Ws[i], a1_train))\n",
        "    #pred = torch.argmax(torch.addmm(bs[0].repeat(1, N), Ws[0], a1_train), dim=0)\n",
        "    pred = make_pred(Ws,bs,x_train,N)\n",
        "\n",
        "    #a1_test = x_test\n",
        "    #a1_test = nn.ReLU()(torch.addmm(b1.repeat(1, N_test), W1, x_test))\n",
        "    #for i in range(len(Vs)-1,0,-1):\n",
        "    #  a1_test = nn.ReLU()(torch.addmm(bs[i].repeat(1, N_test), Ws[i], a1_test))\n",
        "    #pred_test = torch.argmax(torch.addmm(bs[0].repeat(1, N_test), Ws[0], a1_test), dim=0)\n",
        "    pred_test = make_pred(Ws,bs,x_test,N_test) \n",
        "\n",
        "    loss1[k] = gamma/2*torch.pow(torch.dist(Vs[-1],y_train_one_hot,2),2).cpu().numpy()\n",
        "    loss2[k] = loss1[k] + gamma/2 * torch.pow(torch.dist(torch.addmm(bs[0].repeat(1,N), Ws[0], x_train),Us[0],2),2).cpu().numpy()\n",
        "\n",
        "    for i in range(1,layers):\n",
        "      loss2[k] = loss2[k] + gamma/2 * torch.pow(torch.dist(torch.addmm(bs[i].repeat(1,N), Ws[i], Vs[i-1]),Us[i],2),2).cpu().numpy()\n",
        "\n",
        "    #loss2[k] = loss1[k] + rho1/2*torch.pow(torch.dist(torch.addmm(b1.repeat(1,N), W1, x_train),U1,2),2).cpu().numpy() \\\n",
        "    #+rho2/2*torch.pow(torch.dist(torch.addmm(b2.repeat(1,N), W2, V1),U2,2),2).cpu().numpy() \\\n",
        "    #+rho3/2*torch.pow(torch.dist(torch.addmm(b3.repeat(1,N), W3, V2),U3,2),2).cpu().numpy()\n",
        "        \n",
        "    # compute training accuracy\n",
        "    correct_train = pred == train_labels\n",
        "    accuracy_train[k] = np.mean(correct_train.cpu().numpy())\n",
        "        \n",
        "    # compute validation accuracy\n",
        "    correct_test = pred_test == val_labels\n",
        "    accuracy_test[k] = np.mean(correct_test.cpu().numpy())\n",
        "        \n",
        "    # compute training time\n",
        "    stop = time.time()\n",
        "    duration = stop - start\n",
        "    time1[k] = duration\n",
        "        \n",
        "    # print results\n",
        "    print('Epoch', k + 1, '/', niter, '\\n', \n",
        "          '-', 'time:', time1[k], '-', 'sq_loss:', loss1[k], '-', 'tot_loss:', loss2[k], \n",
        "          '-', 'acc:', accuracy_train[k], '-', 'val_acc:', accuracy_test[k])\n",
        "    \n",
        "  print('The total time spent is:', np.sum(time1), 's')\n",
        "  return loss1,accuracy_test"
      ],
      "metadata": {
        "id": "lJSDpRPRJ0xb"
      },
      "execution_count": 67,
      "outputs": []
    },
    {
      "cell_type": "code",
      "source": [
        "loss1 , accuracy_test = execute_training(3, input_size, hidden_size, output_size, x_train, x_test, y_train, y_test,\n",
        "                                         False, niter = 25, gamma = 1, alpha = 5)"
      ],
      "metadata": {
        "id": "PLkWZMwqJ1vH",
        "colab": {
          "base_uri": "https://localhost:8080/"
        },
        "outputId": "dfcfdc99-c390-4572-fc62-9124696da0f2"
      },
      "execution_count": 68,
      "outputs": [
        {
          "output_type": "stream",
          "name": "stdout",
          "text": [
            "Train on 60000 samples, validate on 10000 samples\n",
            "Epoch 1 / 25 \n",
            " - time: 1.1945161819458008 - sq_loss: 23046.71484375 - tot_loss: 23077.947698321193 - acc: 0.4512 - val_acc: 0.442\n",
            "Epoch 2 / 25 \n",
            " - time: 1.1810991764068604 - sq_loss: 17405.88671875 - tot_loss: 17435.1888701953 - acc: 0.8148666666666666 - val_acc: 0.8002\n",
            "Epoch 3 / 25 \n",
            " - time: 1.1930789947509766 - sq_loss: 13339.296875 - tot_loss: 13358.606498606503 - acc: 0.86195 - val_acc: 0.8413\n",
            "Epoch 4 / 25 \n",
            " - time: 1.2166945934295654 - sq_loss: 10287.7666015625 - tot_loss: 10301.359481826425 - acc: 0.8708333333333333 - val_acc: 0.8489\n",
            "Epoch 5 / 25 \n",
            " - time: 1.1946868896484375 - sq_loss: 7953.11865234375 - tot_loss: 7963.933129023761 - acc: 0.8742 - val_acc: 0.8516\n",
            "Epoch 6 / 25 \n",
            " - time: 1.1996912956237793 - sq_loss: 6153.7177734375 - tot_loss: 6163.723979175091 - acc: 0.8757833333333334 - val_acc: 0.8534\n",
            "Epoch 7 / 25 \n",
            " - time: 1.1983709335327148 - sq_loss: 4762.95263671875 - tot_loss: 4772.447326429188 - acc: 0.8770333333333333 - val_acc: 0.8551\n",
            "Epoch 8 / 25 \n",
            " - time: 1.1975595951080322 - sq_loss: 3686.976806640625 - tot_loss: 3696.067904263735 - acc: 0.8778166666666667 - val_acc: 0.8551\n",
            "Epoch 9 / 25 \n",
            " - time: 1.1945931911468506 - sq_loss: 2854.3251953125 - tot_loss: 2863.4987383186817 - acc: 0.8785666666666667 - val_acc: 0.8559\n",
            "Epoch 10 / 25 \n",
            " - time: 1.2018401622772217 - sq_loss: 2209.972900390625 - tot_loss: 2219.096769839525 - acc: 0.8790333333333333 - val_acc: 0.8558\n",
            "Epoch 11 / 25 \n",
            " - time: 1.2084615230560303 - sq_loss: 1711.3162841796875 - tot_loss: 1720.6530485004187 - acc: 0.8796666666666667 - val_acc: 0.8561\n",
            "Epoch 12 / 25 \n",
            " - time: 1.194873571395874 - sq_loss: 1325.438720703125 - tot_loss: 1334.7315679192543 - acc: 0.8803666666666666 - val_acc: 0.8559\n",
            "Epoch 13 / 25 \n",
            " - time: 1.2090730667114258 - sq_loss: 1026.780029296875 - tot_loss: 1036.156670063734 - acc: 0.8810166666666667 - val_acc: 0.8562\n",
            "Epoch 14 / 25 \n",
            " - time: 1.2027628421783447 - sq_loss: 795.6328125 - tot_loss: 805.1041256189346 - acc: 0.8817166666666667 - val_acc: 0.8566\n",
            "Epoch 15 / 25 \n",
            " - time: 1.2035942077636719 - sq_loss: 616.7214965820312 - tot_loss: 625.9629349410534 - acc: 0.8821166666666667 - val_acc: 0.8568\n",
            "Epoch 16 / 25 \n",
            " - time: 1.2010807991027832 - sq_loss: 478.2119445800781 - tot_loss: 487.57336485385895 - acc: 0.8831333333333333 - val_acc: 0.8572\n",
            "Epoch 17 / 25 \n",
            " - time: 1.203451156616211 - sq_loss: 370.9565124511719 - tot_loss: 379.99344727396965 - acc: 0.8838 - val_acc: 0.8576\n",
            "Epoch 18 / 25 \n",
            " - time: 1.1922225952148438 - sq_loss: 287.88446044921875 - tot_loss: 296.5125638246536 - acc: 0.88435 - val_acc: 0.8577\n",
            "Epoch 19 / 25 \n",
            " - time: 1.2152338027954102 - sq_loss: 223.53309631347656 - tot_loss: 231.94336992502213 - acc: 0.88495 - val_acc: 0.8574\n",
            "Epoch 20 / 25 \n",
            " - time: 1.2105350494384766 - sq_loss: 173.67071533203125 - tot_loss: 181.70748236775398 - acc: 0.8853333333333333 - val_acc: 0.8579\n",
            "Epoch 21 / 25 \n",
            " - time: 1.21524977684021 - sq_loss: 135.01043701171875 - tot_loss: 142.76362863183022 - acc: 0.8860666666666667 - val_acc: 0.8582\n",
            "Epoch 22 / 25 \n",
            " - time: 1.210906982421875 - sq_loss: 105.03533172607422 - tot_loss: 112.55337107181549 - acc: 0.8866666666666667 - val_acc: 0.8586\n",
            "Epoch 23 / 25 \n",
            " - time: 1.2120745182037354 - sq_loss: 81.78276824951172 - tot_loss: 88.92991554737091 - acc: 0.8871333333333333 - val_acc: 0.8583\n",
            "Epoch 24 / 25 \n",
            " - time: 1.2174971103668213 - sq_loss: 63.73503112792969 - tot_loss: 70.56321203708649 - acc: 0.8875166666666666 - val_acc: 0.8588\n",
            "Epoch 25 / 25 \n",
            " - time: 1.212477684020996 - sq_loss: 49.72028732299805 - tot_loss: 56.52219635248184 - acc: 0.8880166666666667 - val_acc: 0.8592\n",
            "The total time spent is: 30.08162569999695 s\n"
          ]
        }
      ]
    },
    {
      "cell_type": "markdown",
      "source": [
        "# Analyis of the results"
      ],
      "metadata": {
        "id": "0JYv4fCSKAgr"
      }
    },
    {
      "cell_type": "code",
      "source": [
        "## We plot the train losses\n",
        "\n",
        "plot_train_losses(loss1.shape[0], loss1, 'Coordinate_descent')"
      ],
      "metadata": {
        "id": "lar28JQyJ5zi",
        "colab": {
          "base_uri": "https://localhost:8080/",
          "height": 295
        },
        "outputId": "4fbc2ed8-0d3f-4a78-fc61-a776e9114e9e"
      },
      "execution_count": 69,
      "outputs": [
        {
          "output_type": "display_data",
          "data": {
            "text/plain": [
              "<Figure size 432x288 with 1 Axes>"
            ],
            "image/png": "[encoded data removed]"
          },
          "metadata": {
            "needs_background": "light"
          }
        }
      ]
    },
    {
      "cell_type": "code",
      "source": [
        "## We plot the test accuracy\n",
        "\n",
        "plot_test_accuracy(accuracy_test.shape[0], accuracy_test, 'Coordinate_descent')\n"
      ],
      "metadata": {
        "id": "hmBh9-j3KFVn",
        "colab": {
          "base_uri": "https://localhost:8080/",
          "height": 295
        },
        "outputId": "bdbf19a7-a46c-4a78-8cbb-651b1f65c142"
      },
      "execution_count": 70,
      "outputs": [
        {
          "output_type": "display_data",
          "data": {
            "text/plain": [
              "<Figure size 432x288 with 1 Axes>"
            ],
            "image/png": "[encoded data removed]"
          },
          "metadata": {
            "needs_background": "light"
          }
        }
      ]
    }
  ]
}