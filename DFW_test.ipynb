{
 "cells": [
  {
   "cell_type": "code",
   "execution_count": 1,
   "id": "cf28e293",
   "metadata": {},
   "outputs": [],
   "source": [
    "import numpy as np\n",
    "import pandas as pd\n",
    "import torch\n",
    "import torch.nn as nn\n",
    "import torch.nn.functional as F\n",
    "from torch.autograd import Variable\n",
    "import torch.optim as optim\n",
    "import torchvision\n",
    "from torchvision import datasets, models, transforms, utils\n",
    "from torch.utils.data import Dataset, DataLoader\n",
    "import matplotlib.pyplot as plt\n",
    "import time\n",
    "import os\n",
    "import copy\n",
    "import pickle\n",
    "\n",
    "from Frank_Wolfe.DFW import *\n",
    "from Frank_Wolfe.utils import *"
   ]
  },
  {
   "cell_type": "code",
   "execution_count": 2,
   "id": "834e829b",
   "metadata": {},
   "outputs": [],
   "source": [
    "save_stats = True\n",
    "save_figs = True"
   ]
  },
  {
   "cell_type": "code",
   "execution_count": 3,
   "id": "c5b0cb8d",
   "metadata": {},
   "outputs": [],
   "source": [
    "def accuracy(predicted_logits, reference):\n",
    "    \"\"\"\n",
    "    Compute the ratio of correctly predicted labels\n",
    "    :param predicted_logits: float32 tensor of shape (batch size, num classes)\n",
    "                        The logits predicted by the model\n",
    "    :param reference: int64 tensor of shape (batch_size) with the class number\n",
    "                        Ground-truth labels\n",
    "    :return: accuracy: float\n",
    "    \"\"\"\n",
    "\n",
    "    labels = torch.argmax(predicted_logits, 1)\n",
    "    correct_predictions = labels.eq(reference)\n",
    "    return correct_predictions.sum().float() / correct_predictions.nelement()"
   ]
  },
  {
   "cell_type": "code",
   "execution_count": 4,
   "id": "385b8bad",
   "metadata": {},
   "outputs": [],
   "source": [
    "# we download and normalize the datasets\n",
    "\n",
    "ts = transforms.Compose([transforms.ToTensor(), transforms.Normalize((0,), (1,))])\n",
    "mnist_trainset = datasets.MNIST('../data', train=True, download=True, transform=ts)\n",
    "mnist_testset = datasets.MNIST(root='../data', train=False, download=True, transform=ts)"
   ]
  },
  {
   "cell_type": "code",
   "execution_count": 5,
   "id": "e023e176",
   "metadata": {},
   "outputs": [],
   "source": [
    "batch_size = 1000\n",
    "\n",
    "# we import the dataloaders\n",
    "\n",
    "dataset_test = torch.utils.data.DataLoader(\n",
    "  torchvision.datasets.MNIST('../data', train=False, download=True, transform=torchvision.transforms.ToTensor()), \n",
    "  batch_size=100,\n",
    "  shuffle=True\n",
    ")\n",
    "dataset_train = torch.utils.data.DataLoader(\n",
    "  torchvision.datasets.MNIST('../data', train=True, download=True, transform=torchvision.transforms.ToTensor()),\n",
    "  batch_size=batch_size,\n",
    "  shuffle=True\n",
    ")"
   ]
  },
  {
   "cell_type": "code",
   "execution_count": 6,
   "id": "196b3a47",
   "metadata": {},
   "outputs": [],
   "source": [
    "input_size = 28*28\n",
    "hidden_size = 1500\n",
    "output_size = 10"
   ]
  },
  {
   "cell_type": "code",
   "execution_count": 7,
   "id": "3e29b445",
   "metadata": {},
   "outputs": [],
   "source": [
    "# model architecture definition\n",
    "\n",
    "class MultiLayerPerceptron(torch.nn.Module):\n",
    "    \n",
    "    # fully connected neural network with 2 hidden layers with 1500 neurons each. We use ReLU activation functions\n",
    "    \n",
    "    def __init__(self):\n",
    "        super(MultiLayerPerceptron,self).__init__()\n",
    "        self.input_size = input_size\n",
    "        self.hidden_size = hidden_size\n",
    "        self.output_size = output_size\n",
    "        self.relu = nn.ReLU()\n",
    "        self.fc_in = nn.Linear(self.input_size,self.hidden_size,bias=True) # fully connected input_layer\n",
    "        self.fc_hid_1 = nn.Linear(self.hidden_size,self.hidden_size,bias=True) # fully connected hidden_layer_1\n",
    "        self.fc_hid_2 = nn.Linear(self.hidden_size,self.hidden_size,bias=True) # fully connected hidden_layer_2\n",
    "        self.fc_out = nn.Linear(self.hidden_size,self.output_size,bias=True)\n",
    "    \n",
    "    def forward(self,x):\n",
    "        batch_size = x.shape[0]\n",
    "        x = x.view(batch_size, self.input_size)\n",
    "        x = self.relu(self.fc_in(x))\n",
    "        x = self.relu(self.fc_hid_1(x))\n",
    "        x = self.relu(self.fc_hid_2(x))\n",
    "        x = self.fc_out(x)\n",
    "        return x"
   ]
  },
  {
   "cell_type": "code",
   "execution_count": 8,
   "id": "d7cd9664",
   "metadata": {},
   "outputs": [],
   "source": [
    "#initialize the model\n",
    "mlp = MultiLayerPerceptron()"
   ]
  },
  {
   "cell_type": "code",
   "execution_count": 9,
   "id": "405bc61d",
   "metadata": {},
   "outputs": [],
   "source": [
    "learning_rate = 0.001\n",
    "\n",
    "cross_entropy = nn.CrossEntropyLoss()\n",
    "\n",
    "optimizer = torch.optim.SGD(mlp.parameters(), lr=learning_rate)\n",
    "scheduler = torch.optim.lr_scheduler.ExponentialLR(optimizer, gamma=0.9)"
   ]
  },
  {
   "cell_type": "code",
   "execution_count": 10,
   "id": "b503191d",
   "metadata": {},
   "outputs": [],
   "source": [
    "def train_model(model, dataset_train, dataset_test, optimizer, criterion, epochs, scheduler, lr_decrease=True):\n",
    "    \"\"\"\n",
    "    The function is used to train the neural network\n",
    "    :param model: <class '__main__.MultiLayerPerceptron'>\n",
    "                    The model we wish to train\n",
    "    :param dataset_train: <class 'torch.utils.data.dataloader.DataLoader'>\n",
    "                    The train pytorch dataloader\n",
    "    :param dataset_test: <class 'torch.utils.data.dataloader.DataLoader'>\n",
    "                    The test pytorch dataloader\n",
    "    :param optimizer: <class 'torch.optim.sgd.SGD'>\n",
    "                    The used pytorch optimizer\n",
    "    :param criterion: <class 'torch.nn.modules.loss.CrossEntropyLoss'>\n",
    "                    The loss used during the training\n",
    "    :param epochs: int\n",
    "                    The number of epochs\n",
    "    :return: train losses, accuracies: lists of training losses and test accuracies respectively\n",
    "    \"\"\"\n",
    "    train_losses = []\n",
    "    accuracies = []\n",
    "    \n",
    "    for epoch in range(epochs): # loop over the dataset multiple times\n",
    "        epoch_loss = 0.0 \n",
    "        model.train()\n",
    "        running_loss = 0\n",
    "        n_steps =0\n",
    "        for batch_x,batch_y in dataset_train:\n",
    "            n_steps = n_steps+1\n",
    "            # batch_x,batch_y = batch_x.to(device),batch_y.to(device)\n",
    "\n",
    "            #Get output and evaluate with loss function\n",
    "            predictions = model(batch_x)\n",
    "            loss = criterion(predictions,batch_y)\n",
    "            running_loss += loss.item() * len(batch_y)\n",
    "    \n",
    "            #Initialize optimizer\n",
    "            optimizer.zero_grad()\n",
    "            loss.backward()\n",
    "\n",
    "            #Update the network\n",
    "            optimizer.step()\n",
    "            \n",
    "        running_loss = running_loss / n_steps\n",
    "        train_losses.append(running_loss)\n",
    "        \n",
    "        #Test the quality on the test set\n",
    "        model.eval()\n",
    "        accuracies_test = []\n",
    "        \n",
    "        for batch_x, batch_y in dataset_test:\n",
    "            # batch_x, batch_y = batch_x.to(device), batch_y.to(device)\n",
    "\n",
    "            # Evaluate the network (forward pass)\n",
    "            prediction = model(batch_x)\n",
    "            accuracies_test.append(accuracy(prediction, batch_y))\n",
    "    \n",
    "        print(\"Epoch {} | Test accuracy: {:.5f}\".format(epoch, sum(accuracies_test).item()/len(accuracies_test)))\n",
    "        \n",
    "        accuracies.append(sum(accuracies_test).item()/len(accuracies_test))\n",
    "    return train_losses, accuracies"
   ]
  },
  {
   "cell_type": "code",
   "execution_count": 11,
   "id": "d1d9a0bd",
   "metadata": {},
   "outputs": [
    {
     "name": "stdout",
     "output_type": "stream",
     "text": [
      "Epoch 0 | Test accuracy: 0.10290\n",
      "Epoch 1 | Test accuracy: 0.10290\n",
      "Epoch 2 | Test accuracy: 0.10330\n",
      "Epoch 3 | Test accuracy: 0.10380\n",
      "Epoch 4 | Test accuracy: 0.10720\n",
      "Epoch 5 | Test accuracy: 0.11610\n",
      "Epoch 6 | Test accuracy: 0.13150\n",
      "Epoch 7 | Test accuracy: 0.14740\n",
      "Epoch 8 | Test accuracy: 0.16240\n",
      "Epoch 9 | Test accuracy: 0.17360\n",
      "Epoch 10 | Test accuracy: 0.18530\n",
      "Epoch 11 | Test accuracy: 0.19700\n",
      "Epoch 12 | Test accuracy: 0.21060\n",
      "Epoch 13 | Test accuracy: 0.22470\n",
      "Epoch 14 | Test accuracy: 0.23790\n",
      "Epoch 15 | Test accuracy: 0.25240\n",
      "Epoch 16 | Test accuracy: 0.26660\n",
      "Epoch 17 | Test accuracy: 0.28100\n",
      "Epoch 18 | Test accuracy: 0.29900\n",
      "Epoch 19 | Test accuracy: 0.31600\n",
      "Epoch 20 | Test accuracy: 0.33490\n",
      "Epoch 21 | Test accuracy: 0.35270\n",
      "Epoch 22 | Test accuracy: 0.36920\n",
      "Epoch 23 | Test accuracy: 0.38400\n",
      "Epoch 24 | Test accuracy: 0.40100\n",
      "Epoch 25 | Test accuracy: 0.41550\n",
      "Epoch 26 | Test accuracy: 0.43060\n",
      "Epoch 27 | Test accuracy: 0.44350\n",
      "Epoch 28 | Test accuracy: 0.45660\n",
      "Epoch 29 | Test accuracy: 0.46840\n",
      "Epoch 30 | Test accuracy: 0.47710\n",
      "Epoch 31 | Test accuracy: 0.48600\n",
      "Epoch 32 | Test accuracy: 0.49490\n",
      "Epoch 33 | Test accuracy: 0.50260\n",
      "Epoch 34 | Test accuracy: 0.50860\n",
      "Epoch 35 | Test accuracy: 0.51350\n",
      "Epoch 36 | Test accuracy: 0.51940\n",
      "Epoch 37 | Test accuracy: 0.52440\n",
      "Epoch 38 | Test accuracy: 0.52910\n",
      "Epoch 39 | Test accuracy: 0.53410\n",
      "Epoch 40 | Test accuracy: 0.53890\n",
      "Epoch 41 | Test accuracy: 0.54240\n",
      "Epoch 42 | Test accuracy: 0.54580\n",
      "Epoch 43 | Test accuracy: 0.54940\n",
      "Epoch 44 | Test accuracy: 0.55230\n",
      "Epoch 45 | Test accuracy: 0.55500\n",
      "Epoch 46 | Test accuracy: 0.55770\n",
      "Epoch 47 | Test accuracy: 0.56070\n",
      "Epoch 48 | Test accuracy: 0.56300\n",
      "Epoch 49 | Test accuracy: 0.56510\n",
      "Epoch 50 | Test accuracy: 0.56790\n",
      "Epoch 51 | Test accuracy: 0.56980\n",
      "Epoch 52 | Test accuracy: 0.57150\n",
      "Epoch 53 | Test accuracy: 0.57470\n",
      "Epoch 54 | Test accuracy: 0.57740\n",
      "Epoch 55 | Test accuracy: 0.57900\n",
      "Epoch 56 | Test accuracy: 0.58090\n",
      "Epoch 57 | Test accuracy: 0.58260\n",
      "Epoch 58 | Test accuracy: 0.58420\n",
      "Epoch 59 | Test accuracy: 0.58660\n",
      "Epoch 60 | Test accuracy: 0.58860\n",
      "Epoch 61 | Test accuracy: 0.59120\n",
      "Epoch 62 | Test accuracy: 0.59280\n",
      "Epoch 63 | Test accuracy: 0.59480\n",
      "Epoch 64 | Test accuracy: 0.59660\n",
      "Epoch 65 | Test accuracy: 0.59810\n",
      "Epoch 66 | Test accuracy: 0.59950\n",
      "Epoch 67 | Test accuracy: 0.60130\n",
      "Epoch 68 | Test accuracy: 0.60290\n",
      "Epoch 69 | Test accuracy: 0.60400\n",
      "Epoch 70 | Test accuracy: 0.60670\n",
      "Epoch 71 | Test accuracy: 0.60870\n",
      "Epoch 72 | Test accuracy: 0.61030\n",
      "Epoch 73 | Test accuracy: 0.61150\n",
      "Epoch 74 | Test accuracy: 0.61350\n",
      "Epoch 75 | Test accuracy: 0.61430\n",
      "Epoch 76 | Test accuracy: 0.61570\n",
      "Epoch 77 | Test accuracy: 0.61850\n",
      "Epoch 78 | Test accuracy: 0.62080\n",
      "Epoch 79 | Test accuracy: 0.62300\n",
      "Epoch 80 | Test accuracy: 0.62590\n",
      "Epoch 81 | Test accuracy: 0.62840\n",
      "Epoch 82 | Test accuracy: 0.62990\n",
      "Epoch 83 | Test accuracy: 0.63180\n",
      "Epoch 84 | Test accuracy: 0.63400\n",
      "Epoch 85 | Test accuracy: 0.63680\n",
      "Epoch 86 | Test accuracy: 0.63820\n",
      "Epoch 87 | Test accuracy: 0.64180\n",
      "Epoch 88 | Test accuracy: 0.64330\n",
      "Epoch 89 | Test accuracy: 0.64440\n",
      "Epoch 90 | Test accuracy: 0.64640\n",
      "Epoch 91 | Test accuracy: 0.64820\n",
      "Epoch 92 | Test accuracy: 0.64940\n",
      "Epoch 93 | Test accuracy: 0.65140\n",
      "Epoch 94 | Test accuracy: 0.65330\n",
      "Epoch 95 | Test accuracy: 0.65520\n",
      "Epoch 96 | Test accuracy: 0.65670\n",
      "Epoch 97 | Test accuracy: 0.65980\n",
      "Epoch 98 | Test accuracy: 0.66140\n",
      "Epoch 99 | Test accuracy: 0.66430\n",
      "\n",
      "\n",
      "The total time spent is 2561.2125725746155\n"
     ]
    }
   ],
   "source": [
    "num_epochs = 100\n",
    "\n",
    "start = time.time()\n",
    "\n",
    "#train using DFW\n",
    "train_losses, accuracies_test = train_model(mlp, dataset_train, dataset_test, optimizer, cross_entropy, num_epochs, scheduler)\n",
    "\n",
    "end = time.time()\n",
    "print('\\n')\n",
    "print('The total time spent is', end - start)"
   ]
  },
  {
   "cell_type": "code",
   "execution_count": 14,
   "id": "10784159",
   "metadata": {},
   "outputs": [
    {
     "data": {
      "text/plain": [
       "[<matplotlib.lines.Line2D at 0x1f3941c9280>]"
      ]
     },
     "execution_count": 14,
     "metadata": {},
     "output_type": "execute_result"
    },
    {
     "data": {
      "image/png": "[encoded data removed]",
      "text/plain": [
       "<Figure size 432x288 with 1 Axes>"
      ]
     },
     "metadata": {
      "needs_background": "light"
     },
     "output_type": "display_data"
    }
   ],
   "source": [
    "plt.plot(np.arange(num_epochs), accuracies_test)"
   ]
  },
  {
   "cell_type": "code",
   "execution_count": 15,
   "id": "c0b2c5bb",
   "metadata": {},
   "outputs": [],
   "source": [
    "current_dict = {'epochs': num_epochs, 'train_losses': train_losses, 'test_accuracies': accuracies_test}\n",
    "SGD_results = {}\n",
    "SGD_results.update({'SGD': current_dict})"
   ]
  },
  {
   "cell_type": "code",
   "execution_count": 16,
   "id": "6e085029",
   "metadata": {},
   "outputs": [],
   "source": [
    "# save everything onto file\n",
    "if save_stats: \n",
    "    output_folder = os.path.join(os.getcwd(), 'results')  # set the folder\n",
    "    os.makedirs(output_folder, exist_ok=True)\n",
    "    fname = output_folder + '/stats_dict_DFW.pkl'\n",
    "    with open(fname, 'wb') as handle:\n",
    "        pickle.dump(SGD_results, handle, protocol=pickle.HIGHEST_PROTOCOL)"
   ]
  },
  {
   "cell_type": "code",
   "execution_count": null,
   "id": "1b71c7e4",
   "metadata": {},
   "outputs": [],
   "source": []
  }
 ],
 "metadata": {
  "kernelspec": {
   "display_name": "CS439",
   "language": "python",
   "name": "cs439"
  },
  "language_info": {
   "codemirror_mode": {
    "name": "ipython",
    "version": 3
   },
   "file_extension": ".py",
   "mimetype": "text/x-python",
   "name": "python",
   "nbconvert_exporter": "python",
   "pygments_lexer": "ipython3",
   "version": "3.9.7"
  }
 },
 "nbformat": 4,
 "nbformat_minor": 5
}
