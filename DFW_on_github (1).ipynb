{
  "cells": [
    {
      "cell_type": "code",
      "source": [
        "## If using colab run the following cell, otherwise do not run it\n",
        "from google.colab import drive\n",
        "\n",
        "drive.mount('/content/drive')\n",
        "%cd /content/drive/MyDrive/Machine-Learning-Optimization_working"
      ],
      "metadata": {
        "colab": {
          "base_uri": "https://localhost:8080/"
        },
        "id": "puJO6BZlNmuf",
        "outputId": "9601f4a6-d4e5-4b33-e7f2-b567b22bbae5"
      },
      "execution_count": 1,
      "outputs": [
        {
          "output_type": "stream",
          "name": "stdout",
          "text": [
            "Mounted at /content/drive\n",
            "/content/drive/MyDrive/Machine-Learning-Optimization_working\n"
          ]
        }
      ]
    },
    {
      "cell_type": "code",
      "execution_count": 2,
      "metadata": {
        "colab": {
          "base_uri": "https://localhost:8080/"
        },
        "id": "mC7BWlWnoFBa",
        "outputId": "cea04f9b-73b9-44cd-ec56-2782c7a1d6bb"
      },
      "outputs": [
        {
          "output_type": "stream",
          "name": "stdout",
          "text": [
            "Looking in indexes: https://pypi.org/simple, https://us-python.pkg.dev/colab-wheels/public/simple/\n",
            "Collecting barbar\n",
            "  Downloading barbar-0.2.1-py3-none-any.whl (3.9 kB)\n",
            "Installing collected packages: barbar\n",
            "Successfully installed barbar-0.2.1\n"
          ]
        }
      ],
      "source": [
        "!pip install barbar\n",
        "\n",
        "#@title Import and utilities \n",
        "\n",
        "from Frank_Wolfe.utils.utils import *\n",
        "from Frank_Wolfe.DFW import *\n",
        "from Frank_Wolfe.architectures import *\n",
        "from Frank_Wolfe.MultiClassHingeLoss import *\n",
        "from barbar import Bar\n",
        "import torch\n",
        "import torch.nn as nn\n",
        "import torchvision\n",
        "import os\n",
        "import time\n",
        "import pickle\n",
        "import sys\n",
        "from torch.optim.lr_scheduler import StepLR\n",
        "\n",
        "\n",
        "device = \"cpu\""
      ]
    },
    {
      "cell_type": "code",
      "execution_count": 3,
      "metadata": {
        "id": "gMj3YVkWoM9x"
      },
      "outputs": [],
      "source": [
        "# The following are flag useful for saving or loading figures/stats\n",
        "\n",
        "save_stats = True\n",
        "save_figs = True\n",
        "load = False"
      ]
    },
    {
      "cell_type": "code",
      "execution_count": 4,
      "metadata": {
        "colab": {
          "base_uri": "https://localhost:8080/"
        },
        "id": "Jf6SJcqjoUSA",
        "outputId": "5e6e9eb7-6603-455a-d747-e7b2b6fc43cd"
      },
      "outputs": [
        {
          "output_type": "stream",
          "name": "stdout",
          "text": [
            "Files already downloaded and verified\n"
          ]
        }
      ],
      "source": [
        "#@title Choose dataset name and architecture of the network \n",
        "\n",
        "# Select the dataset and the architecture\n",
        "\n",
        "dataset_name = 'CIFAR10' #@param ['CIFAR10']\n",
        "model_type = 'WideResNet' #@param ['DenseNet', 'WideResNet', 'GoogLeNet']\n",
        "\n",
        "# load the model\n",
        "if model_type == 'GoogLeNet':\n",
        "    model = GoogleNet(num_class=10)\n",
        "elif model_type == 'DenseNet':\n",
        "    model = torchvision.models.densenet121(pretrained=False)\n",
        "elif model_type == 'WideResNet':\n",
        "    model =  WideResNet(num_classes=10)\n",
        "else:\n",
        "    raise ValueError(\"Please, select an available architecture\")\n",
        "\n",
        "\n",
        "datasetDict = setDatasetAttributes(dataset_name) # dictionary useful to normalize the images\n",
        "trainTransformDict, testTransformDict = setTrainAndTest(dataset_name) # dict useful for the transform operation\n",
        "root = f\"{dataset_name}-dataset\"\n",
        "\n",
        "# prepare train and test datasets \n",
        "trainData = datasetDict['datasetDict'](root=root, train=True, download=True,\n",
        "                                            transform=trainTransformDict[dataset_name])\n",
        "testData = datasetDict['datasetDict'](root=root, train=False,\n",
        "                                        transform=testTransformDict[dataset_name])\n",
        "# move the model to GPU\n",
        "model = model.to(device=\"cuda:0\")"
      ]
    },
    {
      "cell_type": "code",
      "execution_count": 5,
      "metadata": {
        "id": "C6IgJdqGoWkV"
      },
      "outputs": [],
      "source": [
        "#@title Choose optimizer and parameters \n",
        "\n",
        "# Choice of the optimizer and the parameters, the parameters used in our experiments can be found\n",
        "# both in the report and at the end of the notebook\n",
        "\n",
        "optimizer_name = \"DFW multistep\" #@param  ['DFW', 'Adam', 'SGD with scheduler', 'DFW multistep']\n",
        "momentum = 0.9 #@param {type:\"number\"}\n",
        "lr = 0.001 #@param {type:\"number\"}\n",
        "eta =   0.1 #@param {type:\"number\"}\n",
        "beta_1 = 0.9 #@param {type:\"number\"}\n",
        "beta_2 = 0.999 #@param {type:\"number\"}\n",
        "weight_decay = 0.00 #@param {type:\"number\"}\n",
        "asymptotic_prox_steps_num = 2 #@param {type: \"number\"}\n",
        "\n",
        "if optimizer_name != \"DFW multistep\":\n",
        "    asymptotic_prox_steps_num = 1\n",
        "\n",
        "# define the optimizer\n",
        "\n",
        "if optimizer_name == \"DFW\" or optimizer_name == 'DFW multistep':\n",
        "    optimizer = DFW(params=model.parameters(), eta=eta, momentum=momentum,\n",
        "                  weight_decay = weight_decay, prox_steps=asymptotic_prox_steps_num)\n",
        "    \n",
        "    assert asymptotic_prox_steps_num >0\n",
        "    assert eta > 0\n",
        "    assert 0 <= momentum <= 1\n",
        "elif optimizer_name == \"SGD with scheduler\":\n",
        "    optimizer = torch.optim.SGD(params=model.parameters(), lr=lr,\n",
        "                              momentum=momentum, weight_decay=weight_decay)\n",
        "    scheduler = StepLR(optimizer, step_size=20, gamma=0.5)\n",
        "    assert 0 <= momentum <= 1\n",
        "elif optimizer_name == \"Adam\":\n",
        "    optimizer = torch.optim.Adam(params=model.parameters(), lr=lr, \n",
        "                               betas=(beta_1, beta_2), weight_decay=weight_decay)\n",
        "    \n",
        "if optimizer_name == \"DFW\" or optimizer_name == \"DFW multistep\":\n",
        "    loss_criterion = MultiClassHingeLoss().to(device=\"cuda:0\")\n",
        "\n",
        "else: \n",
        "    loss_criterion = nn.CrossEntropyLoss().to(device=\"cuda:0\")"
      ]
    },
    {
      "cell_type": "code",
      "execution_count": 6,
      "metadata": {
        "colab": {
          "base_uri": "https://localhost:8080/",
          "height": 1000
        },
        "id": "Cq-yV7BYplnM",
        "outputId": "5b507142-acc3-4124-c9bc-4fbf2ae077e6"
      },
      "outputs": [
        {
          "output_type": "stream",
          "name": "stdout",
          "text": [
            "\n",
            "\n",
            "Epoch 0/50\n",
            "Evaluation of train data:\n",
            "50000/50000: [===============================>] - ETA 0.7s\n",
            "Evaluation of test data:\n",
            "10000/10000: [===============================>] - ETA 0.3s\n",
            "\n",
            " Finished epoch 0/50: Train Loss 1.1074069875717163 | Test Loss 1.097416378211975 | Train Acc 0.09998 | Test Acc 0.1002\n",
            "Time elapsed for the current epoch 116.83940601348877\n",
            "\n",
            "Epoch 1/50\n",
            "Training:\n",
            "50000/50000: [===============================>] - ETA 0.9s\n",
            "Evaluation of test data:\n",
            "10000/10000: [===============================>] - ETA 0.3s\n",
            "\n",
            " Finished epoch 1/50: Train Loss 1.2463369568252562 | Test Loss 1.0503244495391846 | Train Acc 0.13936 | Test Acc 0.1632\n",
            "Time elapsed for the current epoch 331.5416555404663\n",
            "\n",
            "Epoch 2/50\n",
            "Training:\n",
            "50000/50000: [===============================>] - ETA 0.9s\n",
            "Evaluation of test data:\n",
            "10000/10000: [===============================>] - ETA 0.3s\n",
            "\n",
            " Finished epoch 2/50: Train Loss 1.0777584143829346 | Test Loss 1.0660836534500122 | Train Acc 0.16654 | Test Acc 0.226\n",
            "Time elapsed for the current epoch 331.6231348514557\n",
            "\n",
            "Epoch 3/50\n",
            "Training:\n",
            "50000/50000: [===============================>] - ETA 0.9s\n",
            "Evaluation of test data:\n",
            "10000/10000: [===============================>] - ETA 0.3s\n",
            "\n",
            " Finished epoch 3/50: Train Loss 1.0655776642608643 | Test Loss 1.043072096824646 | Train Acc 0.18616 | Test Acc 0.2315\n",
            "Time elapsed for the current epoch 331.66676235198975\n",
            "\n",
            "Epoch 4/50\n",
            "Training:\n",
            "50000/50000: [===============================>] - ETA 0.9s\n",
            "Evaluation of test data:\n",
            "10000/10000: [===============================>] - ETA 0.3s\n",
            "\n",
            " Finished epoch 4/50: Train Loss 1.0524564706802368 | Test Loss 1.0486506763458252 | Train Acc 0.20848 | Test Acc 0.2673\n",
            "Time elapsed for the current epoch 331.6608805656433\n",
            "\n",
            "Epoch 5/50\n",
            "Training:\n",
            "50000/50000: [===============================>] - ETA 0.9s\n",
            "Evaluation of test data:\n",
            "10000/10000: [===============================>] - ETA 0.3s\n",
            "\n",
            " Finished epoch 5/50: Train Loss 1.0378539235305786 | Test Loss 1.0379442756652832 | Train Acc 0.24008 | Test Acc 0.1802\n",
            "Time elapsed for the current epoch 331.596143245697\n",
            "\n",
            "Epoch 6/50\n",
            "Training:\n",
            "50000/50000: [===============================>] - ETA 0.9s\n",
            "Evaluation of test data:\n",
            "10000/10000: [===============================>] - ETA 0.3s\n",
            "\n",
            " Finished epoch 6/50: Train Loss 1.0327531456756591 | Test Loss 1.0406832153320313 | Train Acc 0.25826 | Test Acc 0.2996\n",
            "Time elapsed for the current epoch 331.6459639072418\n",
            "\n",
            "Epoch 7/50\n",
            "Training:\n",
            "50000/50000: [===============================>] - ETA 0.9s\n",
            "Evaluation of test data:\n",
            "10000/10000: [===============================>] - ETA 0.3s\n",
            "\n",
            " Finished epoch 7/50: Train Loss 1.0232938889694214 | Test Loss 1.020273078918457 | Train Acc 0.28408 | Test Acc 0.316\n",
            "Time elapsed for the current epoch 331.6892635822296\n",
            "\n",
            "Epoch 8/50\n",
            "Training:\n",
            "50000/50000: [===============================>] - ETA 0.9s\n",
            "Evaluation of test data:\n",
            "10000/10000: [===============================>] - ETA 0.3s\n",
            "\n",
            " Finished epoch 8/50: Train Loss 1.0084881286239624 | Test Loss 1.066634535598755 | Train Acc 0.31362 | Test Acc 0.3056\n",
            "Time elapsed for the current epoch 332.0305120944977\n",
            "\n",
            "Epoch 9/50\n",
            "Training:\n",
            "50000/50000: [===============================>] - ETA 0.9s\n",
            "Evaluation of test data:\n",
            "10000/10000: [===============================>] - ETA 0.3s\n",
            "\n",
            " Finished epoch 9/50: Train Loss 0.9862664909744263 | Test Loss 1.1467449785232544 | Train Acc 0.34588 | Test Acc 0.2954\n",
            "Time elapsed for the current epoch 335.5701081752777\n",
            "\n",
            "Epoch 10/50\n",
            "Training:\n",
            "50000/50000: [===============================>] - ETA 0.9s\n",
            "Evaluation of test data:\n",
            "10000/10000: [===============================>] - ETA 0.3s\n",
            "\n",
            " Finished epoch 10/50: Train Loss 0.9610643991279602 | Test Loss 1.0010498298645019 | Train Acc 0.38212 | Test Acc 0.3913\n",
            "Time elapsed for the current epoch 332.8381645679474\n",
            "\n",
            "Epoch 11/50\n",
            "Training:\n",
            " 1920/50000: [=>..............................] - ETA 320.2s"
          ]
        },
        {
          "output_type": "error",
          "ename": "KeyboardInterrupt",
          "evalue": "ignored",
          "traceback": [
            "\u001b[0;31m---------------------------------------------------------------------------\u001b[0m",
            "\u001b[0;31mKeyboardInterrupt\u001b[0m                         Traceback (most recent call last)",
            "\u001b[0;32m<ipython-input-6-648f67b83860>\u001b[0m in \u001b[0;36m<module>\u001b[0;34m()\u001b[0m\n\u001b[1;32m     76\u001b[0m             \u001b[0mloss\u001b[0m\u001b[0;34m.\u001b[0m\u001b[0mbackward\u001b[0m\u001b[0;34m(\u001b[0m\u001b[0;34m)\u001b[0m  \u001b[0;31m# Backpropagation\u001b[0m\u001b[0;34m\u001b[0m\u001b[0;34m\u001b[0m\u001b[0m\n\u001b[1;32m     77\u001b[0m             \u001b[0;32mif\u001b[0m \u001b[0moptimizer_name\u001b[0m \u001b[0;34m==\u001b[0m \u001b[0;34m\"DFW\"\u001b[0m \u001b[0;32mor\u001b[0m \u001b[0moptimizer_name\u001b[0m \u001b[0;34m==\u001b[0m \u001b[0;34m'DFW multistep'\u001b[0m\u001b[0;34m:\u001b[0m\u001b[0;34m\u001b[0m\u001b[0;34m\u001b[0m\u001b[0m\n\u001b[0;32m---> 78\u001b[0;31m                 \u001b[0moptimizer\u001b[0m\u001b[0;34m.\u001b[0m\u001b[0mstep\u001b[0m\u001b[0;34m(\u001b[0m\u001b[0mloss\u001b[0m\u001b[0;34m.\u001b[0m\u001b[0mitem\u001b[0m\u001b[0;34m(\u001b[0m\u001b[0;34m)\u001b[0m\u001b[0;34m,\u001b[0m \u001b[0mmodel\u001b[0m\u001b[0;34m,\u001b[0m \u001b[0mx_input\u001b[0m\u001b[0;34m,\u001b[0m \u001b[0my_target\u001b[0m\u001b[0;34m)\u001b[0m\u001b[0;34m\u001b[0m\u001b[0;34m\u001b[0m\u001b[0m\n\u001b[0m\u001b[1;32m     79\u001b[0m             \u001b[0;32melse\u001b[0m\u001b[0;34m:\u001b[0m\u001b[0;34m\u001b[0m\u001b[0;34m\u001b[0m\u001b[0m\n\u001b[1;32m     80\u001b[0m                 \u001b[0moptimizer\u001b[0m\u001b[0;34m.\u001b[0m\u001b[0mstep\u001b[0m\u001b[0;34m(\u001b[0m\u001b[0;34m)\u001b[0m\u001b[0;34m\u001b[0m\u001b[0;34m\u001b[0m\u001b[0m\n",
            "\u001b[0;31mKeyboardInterrupt\u001b[0m: "
          ]
        }
      ],
      "source": [
        "#@title Train the network  \n",
        "\n",
        "# we will append our results on these lists\n",
        "train_losses = []\n",
        "train_accuracies = []\n",
        "test_losses = []\n",
        "test_accuracies = []\n",
        "epochs_times = []\n",
        "\n",
        "# parameters for the training phase\n",
        "nepochs = 50 #@param {type:\"integer\"}\n",
        "batch_size = 128  #@param {type:\"integer\"}\n",
        "verbose = 0 #@param [0, 1]\n",
        "\n",
        "# Loaders\n",
        "trainLoader = torch.utils.data.DataLoader(trainData, batch_size=batch_size, shuffle=True,\n",
        "                                      pin_memory=torch.cuda.is_available(), num_workers=2)\n",
        "testLoader = torch.utils.data.DataLoader(testData, batch_size=batch_size, shuffle=False,\n",
        "                                      pin_memory=torch.cuda.is_available(), num_workers=2)\n",
        "\n",
        "# initialize necessary metrics objects\n",
        "train_loss, train_accuracy = AverageMeter(), AverageMeter()\n",
        "test_loss, test_accuracy = AverageMeter(), AverageMeter()\n",
        "\n",
        "# function to reset metrics\n",
        "def reset_metrics():\n",
        "    train_loss.reset()\n",
        "    train_accuracy.reset()\n",
        "    test_loss.reset()\n",
        "    test_accuracy.reset()\n",
        "\n",
        "@torch.no_grad()\n",
        "def evaluate_model(data=\"train\"):\n",
        "    if data == \"train\":\n",
        "        loader = trainLoader\n",
        "        mean_loss, mean_accuracy = train_loss, train_accuracy\n",
        "    elif data == \"test\":\n",
        "        loader = testLoader\n",
        "        mean_loss, mean_accuracy = test_loss, test_accuracy\n",
        "    \n",
        "    sys.stdout.write(f\"Evaluation of {data} data:\\n\")\n",
        "    \n",
        "    # iteration over the dataset\n",
        "    for x_input, y_target in Bar(loader):\n",
        "        x_input, y_target = x_input.to(device=\"cuda:0\"), y_target.to(device=\"cuda:0\") # we move to GPU\n",
        "        output = model.eval()(x_input)\n",
        "        loss = loss_criterion(output, y_target)\n",
        "        \n",
        "        # update metrics\n",
        "        mean_loss(loss.item(), len(y_target)) \n",
        "        mean_accuracy(Utilities.categorical_accuracy(y_true=y_target, output=output), len(y_target))\n",
        "\n",
        "    \n",
        "# Training\n",
        "for epoch in range(nepochs + 1):\n",
        "    \n",
        "    start = time.time() # start to time\n",
        "    reset_metrics() # reset the metrics from the previous epoch\n",
        "    sys.stdout.write(f\"\\n\\nEpoch {epoch}/{nepochs}\\n\")\n",
        "    \n",
        "    if epoch == 0:\n",
        "        # First pass through the network to evaluate the model once to get the metrics\n",
        "        evaluate_model(data='train')\n",
        "    else:\n",
        "        if epoch > int(0.2 * nepochs) and optimizer_name == \"DFW multistep\" and asymptotic_prox_steps_num >1:\n",
        "            \n",
        "            # if we already finished the first 20% of the epochs we continue with single steps\n",
        "            optimizer.prox_steps = 1\n",
        "            \n",
        "        sys.stdout.write(f\"Training:\\n\")\n",
        "        for x_input, y_target in Bar(trainLoader):\n",
        "            x_input, y_target = x_input.to(device=\"cuda:0\"), y_target.to(device=\"cuda:0\")\n",
        "            optimizer.zero_grad()  # Zero the gradient buffers\n",
        "            output = model.train()(x_input) # compute the output\n",
        "            loss = loss_criterion(output, y_target) # compute the loss\n",
        "            loss.backward()  # Backpropagation\n",
        "            if optimizer_name == \"DFW\" or optimizer_name == 'DFW multistep':\n",
        "                optimizer.step(loss.item(), model, x_input, y_target)\n",
        "            else:\n",
        "                optimizer.step() \n",
        "            train_loss(loss.item(), len(y_target))\n",
        "            train_accuracy(Utilities.categorical_accuracy(y_true=y_target, output=output), len(y_target))\n",
        "\n",
        "    if optimizer_name == \"SGD with scheduler\":\n",
        "        scheduler.step()\n",
        "    evaluate_model(data='test')\n",
        "    sys.stdout.write(f\"\\n Finished epoch {epoch}/{nepochs}: Train Loss {train_loss.result()} | Test Loss {test_loss.result()} | Train Acc {train_accuracy.result()} | Test Acc {test_accuracy.result()}\\n\")\n",
        "    \n",
        "    train_losses.append(train_loss.result())\n",
        "    train_accuracies.append(train_accuracy.result())\n",
        "    test_losses.append(test_loss.result())\n",
        "    test_accuracies.append(test_accuracy.result())\n",
        "\n",
        "\n",
        "    elapsed_time = time.time()-start\n",
        "    sys.stdout.write(f\"Time elapsed for the current epoch {elapsed_time}\")\n",
        "    epochs_times.append(elapsed_time)"
      ]
    },
    {
      "cell_type": "code",
      "execution_count": null,
      "metadata": {
        "id": "9w2DgFHAExBE"
      },
      "outputs": [],
      "source": [
        "#@title Save training results and plot\n",
        "\n",
        "if load:\n",
        "    output_folder = os.path.join(os.getcwd(), 'results')\n",
        "    os.makedirs(output_folder, exist_ok=True)\n",
        "    fname = output_folder + '/stats_dict_' + model_type + '.pkl'\n",
        "    with open(fname, 'rb') as handle:\n",
        "        stats_dict = pickle.load(handle)\n",
        "\n",
        "# define dictionary of the results\n",
        "results = {'epochs': nepochs, 'train_losses': train_losses, \n",
        "           'train_acc': train_accuracies, 'test_losses': test_losses, \n",
        "           'test_acc': test_accuracies, 'elapsed_time': epochs_times}\n",
        "stats_dict = {}\n",
        "stats_dict.update({optimizer_name: results})\n",
        "\n",
        "# save everything onto file\n",
        "if save_stats: \n",
        "    output_folder = os.path.join(os.getcwd(), 'results')  # set the folder\n",
        "    os.makedirs(output_folder, exist_ok=True)\n",
        "    fname = output_folder + '/stats_dict_' + model_type + '.pkl'\n",
        "    with open(fname, 'wb') as handle:\n",
        "        pickle.dump(stats_dict, handle, protocol=pickle.HIGHEST_PROTOCOL)"
      ]
    },
    {
      "cell_type": "markdown",
      "metadata": {
        "id": "ldLaA2by6VYV"
      },
      "source": [
        "# Parameters used in the report"
      ]
    },
    {
      "cell_type": "markdown",
      "metadata": {
        "id": "U7F6Ai3G6bFd"
      },
      "source": [
        "In order to reproduce our results, the following set of parameters should be used.\\\n",
        "If not specified, the remaining parameters (e.g. $\\epsilon$ for Adam and Adagrad) are set to their default values.\n",
        "\n",
        "Deep Frank Wolfe:\\\n",
        "$η = 0.1$, $μ = 0.9$, $w_d = 0$\n",
        "\n",
        "Stochastic Gradient Descent with scheduler:\\\n",
        "$\\gamma = 0.01$, $\\mu = 0.9$, $w_d = 0$\n",
        "\n",
        "Adam:\\\n",
        "$\\gamma = 0.001$, $\\mu = 0.9$, $\\beta_1 = 0.9$, $\\beta_2 = 0.999$\n",
        "\n",
        "Deep Frank Wolfe multistep:\\\n",
        "$η = 0.1$, $μ = 0.9$, $w_d = 0$,  n_steps $= 2$"
      ]
    },
    {
      "cell_type": "code",
      "execution_count": null,
      "metadata": {
        "id": "hEEgyDFNNeqL"
      },
      "outputs": [],
      "source": [
        ""
      ]
    }
  ],
  "metadata": {
    "accelerator": "GPU",
    "colab": {
      "name": "DFW_on_github.ipynb",
      "provenance": [],
      "machine_shape": "hm",
      "collapsed_sections": []
    },
    "kernelspec": {
      "display_name": "Python 3 (ipykernel)",
      "language": "python",
      "name": "python3"
    },
    "language_info": {
      "codemirror_mode": {
        "name": "ipython",
        "version": 3
      },
      "file_extension": ".py",
      "mimetype": "text/x-python",
      "name": "python",
      "nbconvert_exporter": "python",
      "pygments_lexer": "ipython3",
      "version": "3.8.8"
    }
  },
  "nbformat": 4,
  "nbformat_minor": 0
}