{
 "cells": [
  {
   "cell_type": "code",
   "execution_count": 1,
   "id": "f115af56",
   "metadata": {},
   "outputs": [],
   "source": [
    "from SFW import *\n",
    "from DFW import *\n",
    "from utils.utils import *\n",
    "from utils.loader import *\n",
    "from MultiClassHingeLoss import *\n",
    "from constraints.constraints import *\n",
    "import torchvision\n",
    "import torch.optim as optim\n",
    "import pandas as pd"
   ]
  },
  {
   "cell_type": "code",
   "execution_count": 2,
   "id": "c97f0ce2",
   "metadata": {},
   "outputs": [],
   "source": [
    "dtype = torch.float\n",
    "device = torch.device(\"cuda:0\" if torch.cuda.is_available() else \"cpu\")"
   ]
  },
  {
   "cell_type": "code",
   "execution_count": 3,
   "id": "447b46df",
   "metadata": {},
   "outputs": [],
   "source": [
    "mnist_trainset, mnist_testset = load_data(\"MNIST\")"
   ]
  },
  {
   "cell_type": "code",
   "execution_count": 4,
   "id": "13527f9a",
   "metadata": {},
   "outputs": [],
   "source": [
    "batch_size = 1000\n",
    "\n",
    "dataset_test = torch.utils.data.DataLoader(\n",
    "  torchvision.datasets.MNIST('../data', train=False, download=True, transform=torchvision.transforms.ToTensor()), \n",
    "  batch_size=100,\n",
    "  shuffle=True\n",
    ")\n",
    "dataset_train = torch.utils.data.DataLoader(\n",
    "  torchvision.datasets.MNIST('../data', train=True, download=True, transform=torchvision.transforms.ToTensor()),\n",
    "  batch_size=batch_size,\n",
    "  shuffle=True\n",
    ")"
   ]
  },
  {
   "cell_type": "code",
   "execution_count": 5,
   "id": "459a930d",
   "metadata": {},
   "outputs": [],
   "source": [
    "input_size = 28*28\n",
    "hidden_size = 1500\n",
    "output_size = 10"
   ]
  },
  {
   "cell_type": "code",
   "execution_count": 6,
   "id": "fac73161",
   "metadata": {},
   "outputs": [],
   "source": [
    "class MultiLayerPerceptron(torch.nn.Module):\n",
    "    def __init__(self):\n",
    "        super(MultiLayerPerceptron,self).__init__()\n",
    "        self.input_size = input_size\n",
    "        self.hidden_size = hidden_size\n",
    "        self.output_size = output_size\n",
    "        self.relu = torch.nn.ReLU()\n",
    "        self.fc_in = torch.nn.Linear(self.input_size,self.hidden_size,bias=True) #fully connected input_layer\n",
    "        self.fc_hid_1 = torch.nn.Linear(self.hidden_size,self.hidden_size,bias=True) #fully connected hidden_layer_1\n",
    "        self.fc_hid_2 = torch.nn.Linear(self.hidden_size,self.hidden_size,bias=True) #dully connected hidden_layer_2\n",
    "        self.fc_out = torch.nn.Linear(self.hidden_size,self.output_size,bias=True)\n",
    "\n",
    "    def forward(self,x):\n",
    "        batch_size = x.shape[0]\n",
    "        x = x.view(batch_size, self.input_size)\n",
    "        x = self.relu(self.fc_in(x))\n",
    "        x = self.relu(self.fc_hid_1(x))\n",
    "        x = self.relu(self.fc_hid_2(x))\n",
    "        x = self.fc_out(x)\n",
    "        return x"
   ]
  },
  {
   "cell_type": "code",
   "execution_count": 7,
   "id": "25d663fe",
   "metadata": {},
   "outputs": [],
   "source": [
    "mlp = MultiLayerPerceptron().to(device)"
   ]
  },
  {
   "cell_type": "code",
   "execution_count": 8,
   "id": "73d85b9c",
   "metadata": {},
   "outputs": [],
   "source": [
    "# optimizer = SFW(mlp.parameters(), learning_rate=0.1, rescale=None, momentum=0.0)\n",
    "optimizer_name = SFW\n",
    "learning_rate = 0.3\n",
    "constraints = create_lp_constraints(mlp, ord=2, value=300, mode='initialization')"
   ]
  }
 ],
 "metadata": {
  "kernelspec": {
   "display_name": "CS439",
   "language": "python",
   "name": "cs439"
  },
  "language_info": {
   "codemirror_mode": {
    "name": "ipython",
    "version": 3
   },
   "file_extension": ".py",
   "mimetype": "text/x-python",
   "name": "python",
   "nbconvert_exporter": "python",
   "pygments_lexer": "ipython3",
   "version": "3.9.7"
  }
 },
 "nbformat": 4,
 "nbformat_minor": 5
}
